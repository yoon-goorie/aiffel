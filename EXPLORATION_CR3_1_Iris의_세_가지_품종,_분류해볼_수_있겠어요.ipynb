{
  "cells": [
    {
      "cell_type": "markdown",
      "metadata": {
        "id": "view-in-github",
        "colab_type": "text"
      },
      "source": [
        "<a href=\"https://colab.research.google.com/github/yoon-goorie/aiffel/blob/main/EXPLORATION_CR3_1_Iris%EC%9D%98_%EC%84%B8_%EA%B0%80%EC%A7%80_%ED%92%88%EC%A2%85%2C_%EB%B6%84%EB%A5%98%ED%95%B4%EB%B3%BC_%EC%88%98_%EC%9E%88%EA%B2%A0%EC%96%B4%EC%9A%94.ipynb\" target=\"_parent\"><img src=\"https://colab.research.google.com/assets/colab-badge.svg\" alt=\"Open In Colab\"/></a>"
      ]
    },
    {
      "cell_type": "markdown",
      "id": "36d2c4aa",
      "metadata": {
        "id": "36d2c4aa"
      },
      "source": [
        "# 1-3. Iris의 세 가지 품종, 분류해 볼까요? \n",
        "## (2) 데이터 준비, 그리고 자세히 살펴보기는 기본!"
      ]
    },
    {
      "cell_type": "code",
      "execution_count": null,
      "id": "cb9e6a26",
      "metadata": {
        "id": "cb9e6a26",
        "outputId": "c4a1bd47-58a3-4e4a-ea82-6c8b14cdfa62"
      },
      "outputs": [
        {
          "name": "stdout",
          "output_type": "stream",
          "text": [
            "['DESCR', 'data', 'data_module', 'feature_names', 'filename', 'frame', 'target', 'target_names']\n"
          ]
        }
      ],
      "source": [
        "from sklearn.datasets import load_iris\n",
        "# sklearn 라이브러리의 datasets 패키지에서 load_iris 함수를 임포트함\n",
        "\n",
        "iris = load_iris()\n",
        "# load_iris 함수는 iris 데이터셋을 로드하는 함수\n",
        "# 로드된 iris 데이터셋을 iris라는 변수에 저장\n",
        "\n",
        "print(dir(iris))\n",
        "# dir()는 객체가 어떤 변수와 메서드를 가지고 있는지 나열함"
      ]
    },
    {
      "cell_type": "code",
      "execution_count": null,
      "id": "d3d7328a",
      "metadata": {
        "id": "d3d7328a",
        "outputId": "bd937884-f6bb-40e4-9f62-d4b554baccce"
      },
      "outputs": [
        {
          "data": {
            "text/plain": [
              "dict_keys(['data', 'target', 'frame', 'target_names', 'DESCR', 'feature_names', 'filename', 'data_module'])"
            ]
          },
          "execution_count": 358,
          "metadata": {},
          "output_type": "execute_result"
        }
      ],
      "source": [
        "iris.keys()\n",
        "# iris 데이터셋에 담긴 정보 종류 확인"
      ]
    },
    {
      "cell_type": "code",
      "execution_count": null,
      "id": "fffd226e",
      "metadata": {
        "id": "fffd226e",
        "outputId": "93a0ea99-f2f2-483b-8c40-f6d57b399ebb"
      },
      "outputs": [
        {
          "name": "stdout",
          "output_type": "stream",
          "text": [
            "(150, 4)\n"
          ]
        }
      ],
      "source": [
        "iris_data = iris.data\n",
        "# keys에서 확인한 정보 중 data를 따로 iris_data 변수에 저장\n",
        "\n",
        "print(iris_data.shape) \n",
        "# shape는 배열의 형상정보를 출력\n",
        "# 150개의 데이터가 각각 4개의 정보를 담고 있음"
      ]
    },
    {
      "cell_type": "code",
      "execution_count": null,
      "id": "859cc09d",
      "metadata": {
        "id": "859cc09d",
        "outputId": "aa967071-8600-4d72-cbee-01b5537a1c7d"
      },
      "outputs": [
        {
          "data": {
            "text/plain": [
              "array([5.1, 3.5, 1.4, 0.2])"
            ]
          },
          "execution_count": 360,
          "metadata": {},
          "output_type": "execute_result"
        }
      ],
      "source": [
        "iris_data[0]\n",
        "# 150개의 데이터 중 첫 번째 데이터 출력"
      ]
    },
    {
      "cell_type": "code",
      "execution_count": null,
      "id": "1c5d5d30",
      "metadata": {
        "id": "1c5d5d30",
        "outputId": "b97f8d8d-b207-4792-fc6a-4d87b6de7da2"
      },
      "outputs": [
        {
          "name": "stdout",
          "output_type": "stream",
          "text": [
            "(150,)\n"
          ]
        },
        {
          "data": {
            "text/plain": [
              "array([0, 0, 0, 0, 0, 0, 0, 0, 0, 0, 0, 0, 0, 0, 0, 0, 0, 0, 0, 0, 0, 0,\n",
              "       0, 0, 0, 0, 0, 0, 0, 0, 0, 0, 0, 0, 0, 0, 0, 0, 0, 0, 0, 0, 0, 0,\n",
              "       0, 0, 0, 0, 0, 0, 1, 1, 1, 1, 1, 1, 1, 1, 1, 1, 1, 1, 1, 1, 1, 1,\n",
              "       1, 1, 1, 1, 1, 1, 1, 1, 1, 1, 1, 1, 1, 1, 1, 1, 1, 1, 1, 1, 1, 1,\n",
              "       1, 1, 1, 1, 1, 1, 1, 1, 1, 1, 1, 1, 2, 2, 2, 2, 2, 2, 2, 2, 2, 2,\n",
              "       2, 2, 2, 2, 2, 2, 2, 2, 2, 2, 2, 2, 2, 2, 2, 2, 2, 2, 2, 2, 2, 2,\n",
              "       2, 2, 2, 2, 2, 2, 2, 2, 2, 2, 2, 2, 2, 2, 2, 2, 2, 2])"
            ]
          },
          "execution_count": 361,
          "metadata": {},
          "output_type": "execute_result"
        }
      ],
      "source": [
        "iris_label = iris.target\n",
        "# keys에서 확인한 정보 중 target을 따로 iris_label 변수에 저장\n",
        "\n",
        "print(iris_label.shape)\n",
        "iris_label\n",
        "# iris_data와 다르게 150개의 숫자만 가지고 있음"
      ]
    },
    {
      "cell_type": "code",
      "execution_count": null,
      "id": "9f3d95fc",
      "metadata": {
        "id": "9f3d95fc",
        "outputId": "b413aee8-7698-460b-ebb5-6a4d54ee2549"
      },
      "outputs": [
        {
          "data": {
            "text/plain": [
              "array(['setosa', 'versicolor', 'virginica'], dtype='<U10')"
            ]
          },
          "execution_count": 362,
          "metadata": {},
          "output_type": "execute_result"
        }
      ],
      "source": [
        "iris.target_names\n",
        "# keys에서 확인한 정보 중 target_names를 변수에 따로 저장하지 않고 호출\n",
        "# iris_label이 가진 0,1,2의 이름 확인"
      ]
    },
    {
      "cell_type": "code",
      "execution_count": null,
      "id": "81a0b27b",
      "metadata": {
        "id": "81a0b27b",
        "outputId": "3f300568-05fa-44ca-fa38-84da0bfdcc17"
      },
      "outputs": [
        {
          "name": "stdout",
          "output_type": "stream",
          "text": [
            ".. _iris_dataset:\n",
            "\n",
            "Iris plants dataset\n",
            "--------------------\n",
            "\n",
            "**Data Set Characteristics:**\n",
            "\n",
            "    :Number of Instances: 150 (50 in each of three classes)\n",
            "    :Number of Attributes: 4 numeric, predictive attributes and the class\n",
            "    :Attribute Information:\n",
            "        - sepal length in cm\n",
            "        - sepal width in cm\n",
            "        - petal length in cm\n",
            "        - petal width in cm\n",
            "        - class:\n",
            "                - Iris-Setosa\n",
            "                - Iris-Versicolour\n",
            "                - Iris-Virginica\n",
            "                \n",
            "    :Summary Statistics:\n",
            "\n",
            "    ============== ==== ==== ======= ===== ====================\n",
            "                    Min  Max   Mean    SD   Class Correlation\n",
            "    ============== ==== ==== ======= ===== ====================\n",
            "    sepal length:   4.3  7.9   5.84   0.83    0.7826\n",
            "    sepal width:    2.0  4.4   3.05   0.43   -0.4194\n",
            "    petal length:   1.0  6.9   3.76   1.76    0.9490  (high!)\n",
            "    petal width:    0.1  2.5   1.20   0.76    0.9565  (high!)\n",
            "    ============== ==== ==== ======= ===== ====================\n",
            "\n",
            "    :Missing Attribute Values: None\n",
            "    :Class Distribution: 33.3% for each of 3 classes.\n",
            "    :Creator: R.A. Fisher\n",
            "    :Donor: Michael Marshall (MARSHALL%PLU@io.arc.nasa.gov)\n",
            "    :Date: July, 1988\n",
            "\n",
            "The famous Iris database, first used by Sir R.A. Fisher. The dataset is taken\n",
            "from Fisher's paper. Note that it's the same as in R, but not as in the UCI\n",
            "Machine Learning Repository, which has two wrong data points.\n",
            "\n",
            "This is perhaps the best known database to be found in the\n",
            "pattern recognition literature.  Fisher's paper is a classic in the field and\n",
            "is referenced frequently to this day.  (See Duda & Hart, for example.)  The\n",
            "data set contains 3 classes of 50 instances each, where each class refers to a\n",
            "type of iris plant.  One class is linearly separable from the other 2; the\n",
            "latter are NOT linearly separable from each other.\n",
            "\n",
            ".. topic:: References\n",
            "\n",
            "   - Fisher, R.A. \"The use of multiple measurements in taxonomic problems\"\n",
            "     Annual Eugenics, 7, Part II, 179-188 (1936); also in \"Contributions to\n",
            "     Mathematical Statistics\" (John Wiley, NY, 1950).\n",
            "   - Duda, R.O., & Hart, P.E. (1973) Pattern Classification and Scene Analysis.\n",
            "     (Q327.D83) John Wiley & Sons.  ISBN 0-471-22361-1.  See page 218.\n",
            "   - Dasarathy, B.V. (1980) \"Nosing Around the Neighborhood: A New System\n",
            "     Structure and Classification Rule for Recognition in Partially Exposed\n",
            "     Environments\".  IEEE Transactions on Pattern Analysis and Machine\n",
            "     Intelligence, Vol. PAMI-2, No. 1, 67-71.\n",
            "   - Gates, G.W. (1972) \"The Reduced Nearest Neighbor Rule\".  IEEE Transactions\n",
            "     on Information Theory, May 1972, 431-433.\n",
            "   - See also: 1988 MLC Proceedings, 54-64.  Cheeseman et al\"s AUTOCLASS II\n",
            "     conceptual clustering system finds 3 classes in the data.\n",
            "   - Many, many more ...\n"
          ]
        }
      ],
      "source": [
        "print(iris.DESCR)\n",
        "# keys에서 확인한 정보 중 DESCR을 변수에 따로 저장하지 않고 호출\n",
        "# 데이터셋 설명서 출력"
      ]
    },
    {
      "cell_type": "code",
      "execution_count": null,
      "id": "02c28b7d",
      "metadata": {
        "id": "02c28b7d",
        "outputId": "5f963624-4e74-4e55-e9f0-52c4028a77f5"
      },
      "outputs": [
        {
          "data": {
            "text/plain": [
              "['sepal length (cm)',\n",
              " 'sepal width (cm)',\n",
              " 'petal length (cm)',\n",
              " 'petal width (cm)']"
            ]
          },
          "execution_count": 364,
          "metadata": {},
          "output_type": "execute_result"
        }
      ],
      "source": [
        "iris.feature_names\n",
        "# keys에서 확인한 정보 중 feature_names를 변수에 따로 저장하지 않고 호출\n",
        "# iris.data에서 확인한 4개 정보의 변수명 확인"
      ]
    },
    {
      "cell_type": "code",
      "execution_count": null,
      "id": "aa6da8ad",
      "metadata": {
        "id": "aa6da8ad",
        "outputId": "3f182867-447c-4867-b79f-1580c6ed7110"
      },
      "outputs": [
        {
          "data": {
            "text/plain": [
              "'iris.csv'"
            ]
          },
          "execution_count": 365,
          "metadata": {},
          "output_type": "execute_result"
        }
      ],
      "source": [
        "iris.filename\n",
        "# keys에서 확인한 정보 중 filename을 변수에 따로 저장하지 않고 호출\n",
        "# 데이터셋의 이름 출력"
      ]
    },
    {
      "cell_type": "markdown",
      "id": "0583bf59",
      "metadata": {
        "id": "0583bf59"
      },
      "source": [
        "# 1-4. 첫 번째 머신러닝 실습, 간단하고도 빠르게! \n",
        "## (1) 머신러닝 모델을 학습시키기 위한 문제지와 정답지 준비"
      ]
    },
    {
      "cell_type": "code",
      "execution_count": null,
      "id": "3cbe8517",
      "metadata": {
        "id": "3cbe8517",
        "outputId": "db488aed-30a7-46d5-a7ab-4da4f5bcb04c"
      },
      "outputs": [
        {
          "name": "stdout",
          "output_type": "stream",
          "text": [
            "1.3.3\n"
          ]
        }
      ],
      "source": [
        "import pandas as pd\n",
        "# pandas 라이브러리를 pd라는 약칭으로 임포트\n",
        "\n",
        "print(pd.__version__)\n",
        "# pandas의 버전 확인"
      ]
    },
    {
      "cell_type": "code",
      "execution_count": null,
      "id": "828b5511",
      "metadata": {
        "id": "828b5511",
        "outputId": "5f6cf110-5b89-4424-89db-64a6b0142751"
      },
      "outputs": [
        {
          "data": {
            "text/plain": [
              "numpy.ndarray"
            ]
          },
          "execution_count": 367,
          "metadata": {},
          "output_type": "execute_result"
        }
      ],
      "source": [
        "type(iris_data)\n",
        "# iris_data의 데이터 타입은 numpy의 ndarray인 것을 확인할 수 있음"
      ]
    },
    {
      "cell_type": "code",
      "execution_count": null,
      "id": "3c63b562",
      "metadata": {
        "id": "3c63b562",
        "outputId": "7155981e-1c0f-4f1b-83e0-1254a209597b"
      },
      "outputs": [
        {
          "data": {
            "text/html": [
              "<div>\n",
              "<style scoped>\n",
              "    .dataframe tbody tr th:only-of-type {\n",
              "        vertical-align: middle;\n",
              "    }\n",
              "\n",
              "    .dataframe tbody tr th {\n",
              "        vertical-align: top;\n",
              "    }\n",
              "\n",
              "    .dataframe thead th {\n",
              "        text-align: right;\n",
              "    }\n",
              "</style>\n",
              "<table border=\"1\" class=\"dataframe\">\n",
              "  <thead>\n",
              "    <tr style=\"text-align: right;\">\n",
              "      <th></th>\n",
              "      <th>sepal length (cm)</th>\n",
              "      <th>sepal width (cm)</th>\n",
              "      <th>petal length (cm)</th>\n",
              "      <th>petal width (cm)</th>\n",
              "    </tr>\n",
              "  </thead>\n",
              "  <tbody>\n",
              "    <tr>\n",
              "      <th>0</th>\n",
              "      <td>5.1</td>\n",
              "      <td>3.5</td>\n",
              "      <td>1.4</td>\n",
              "      <td>0.2</td>\n",
              "    </tr>\n",
              "    <tr>\n",
              "      <th>1</th>\n",
              "      <td>4.9</td>\n",
              "      <td>3.0</td>\n",
              "      <td>1.4</td>\n",
              "      <td>0.2</td>\n",
              "    </tr>\n",
              "    <tr>\n",
              "      <th>2</th>\n",
              "      <td>4.7</td>\n",
              "      <td>3.2</td>\n",
              "      <td>1.3</td>\n",
              "      <td>0.2</td>\n",
              "    </tr>\n",
              "    <tr>\n",
              "      <th>3</th>\n",
              "      <td>4.6</td>\n",
              "      <td>3.1</td>\n",
              "      <td>1.5</td>\n",
              "      <td>0.2</td>\n",
              "    </tr>\n",
              "    <tr>\n",
              "      <th>4</th>\n",
              "      <td>5.0</td>\n",
              "      <td>3.6</td>\n",
              "      <td>1.4</td>\n",
              "      <td>0.2</td>\n",
              "    </tr>\n",
              "    <tr>\n",
              "      <th>...</th>\n",
              "      <td>...</td>\n",
              "      <td>...</td>\n",
              "      <td>...</td>\n",
              "      <td>...</td>\n",
              "    </tr>\n",
              "    <tr>\n",
              "      <th>145</th>\n",
              "      <td>6.7</td>\n",
              "      <td>3.0</td>\n",
              "      <td>5.2</td>\n",
              "      <td>2.3</td>\n",
              "    </tr>\n",
              "    <tr>\n",
              "      <th>146</th>\n",
              "      <td>6.3</td>\n",
              "      <td>2.5</td>\n",
              "      <td>5.0</td>\n",
              "      <td>1.9</td>\n",
              "    </tr>\n",
              "    <tr>\n",
              "      <th>147</th>\n",
              "      <td>6.5</td>\n",
              "      <td>3.0</td>\n",
              "      <td>5.2</td>\n",
              "      <td>2.0</td>\n",
              "    </tr>\n",
              "    <tr>\n",
              "      <th>148</th>\n",
              "      <td>6.2</td>\n",
              "      <td>3.4</td>\n",
              "      <td>5.4</td>\n",
              "      <td>2.3</td>\n",
              "    </tr>\n",
              "    <tr>\n",
              "      <th>149</th>\n",
              "      <td>5.9</td>\n",
              "      <td>3.0</td>\n",
              "      <td>5.1</td>\n",
              "      <td>1.8</td>\n",
              "    </tr>\n",
              "  </tbody>\n",
              "</table>\n",
              "<p>150 rows × 4 columns</p>\n",
              "</div>"
            ],
            "text/plain": [
              "     sepal length (cm)  sepal width (cm)  petal length (cm)  petal width (cm)\n",
              "0                  5.1               3.5                1.4               0.2\n",
              "1                  4.9               3.0                1.4               0.2\n",
              "2                  4.7               3.2                1.3               0.2\n",
              "3                  4.6               3.1                1.5               0.2\n",
              "4                  5.0               3.6                1.4               0.2\n",
              "..                 ...               ...                ...               ...\n",
              "145                6.7               3.0                5.2               2.3\n",
              "146                6.3               2.5                5.0               1.9\n",
              "147                6.5               3.0                5.2               2.0\n",
              "148                6.2               3.4                5.4               2.3\n",
              "149                5.9               3.0                5.1               1.8\n",
              "\n",
              "[150 rows x 4 columns]"
            ]
          },
          "execution_count": 368,
          "metadata": {},
          "output_type": "execute_result"
        }
      ],
      "source": [
        "iris_df = pd.DataFrame(data=iris_data, columns=iris.feature_names)\n",
        "# 150개 데이터가 각각 4개의 정보를 가지고 있던 iris_data를 \n",
        "# iris.feature_names을 컬럼명으로 하는 DataFrame 자료형으로 변환해서 iris_df 변수에 저장\n",
        "# (원래 iris_data는 배열(np.array) 자료형이었음!)\n",
        "iris_df"
      ]
    },
    {
      "cell_type": "code",
      "execution_count": null,
      "id": "f5de62ab",
      "metadata": {
        "scrolled": true,
        "id": "f5de62ab",
        "outputId": "38613ff1-7ed2-485e-d61d-fc8761c837f6"
      },
      "outputs": [
        {
          "data": {
            "text/html": [
              "<div>\n",
              "<style scoped>\n",
              "    .dataframe tbody tr th:only-of-type {\n",
              "        vertical-align: middle;\n",
              "    }\n",
              "\n",
              "    .dataframe tbody tr th {\n",
              "        vertical-align: top;\n",
              "    }\n",
              "\n",
              "    .dataframe thead th {\n",
              "        text-align: right;\n",
              "    }\n",
              "</style>\n",
              "<table border=\"1\" class=\"dataframe\">\n",
              "  <thead>\n",
              "    <tr style=\"text-align: right;\">\n",
              "      <th></th>\n",
              "      <th>sepal length (cm)</th>\n",
              "      <th>sepal width (cm)</th>\n",
              "      <th>petal length (cm)</th>\n",
              "      <th>petal width (cm)</th>\n",
              "      <th>label</th>\n",
              "    </tr>\n",
              "  </thead>\n",
              "  <tbody>\n",
              "    <tr>\n",
              "      <th>0</th>\n",
              "      <td>5.1</td>\n",
              "      <td>3.5</td>\n",
              "      <td>1.4</td>\n",
              "      <td>0.2</td>\n",
              "      <td>0</td>\n",
              "    </tr>\n",
              "    <tr>\n",
              "      <th>1</th>\n",
              "      <td>4.9</td>\n",
              "      <td>3.0</td>\n",
              "      <td>1.4</td>\n",
              "      <td>0.2</td>\n",
              "      <td>0</td>\n",
              "    </tr>\n",
              "    <tr>\n",
              "      <th>2</th>\n",
              "      <td>4.7</td>\n",
              "      <td>3.2</td>\n",
              "      <td>1.3</td>\n",
              "      <td>0.2</td>\n",
              "      <td>0</td>\n",
              "    </tr>\n",
              "    <tr>\n",
              "      <th>3</th>\n",
              "      <td>4.6</td>\n",
              "      <td>3.1</td>\n",
              "      <td>1.5</td>\n",
              "      <td>0.2</td>\n",
              "      <td>0</td>\n",
              "    </tr>\n",
              "    <tr>\n",
              "      <th>4</th>\n",
              "      <td>5.0</td>\n",
              "      <td>3.6</td>\n",
              "      <td>1.4</td>\n",
              "      <td>0.2</td>\n",
              "      <td>0</td>\n",
              "    </tr>\n",
              "    <tr>\n",
              "      <th>...</th>\n",
              "      <td>...</td>\n",
              "      <td>...</td>\n",
              "      <td>...</td>\n",
              "      <td>...</td>\n",
              "      <td>...</td>\n",
              "    </tr>\n",
              "    <tr>\n",
              "      <th>145</th>\n",
              "      <td>6.7</td>\n",
              "      <td>3.0</td>\n",
              "      <td>5.2</td>\n",
              "      <td>2.3</td>\n",
              "      <td>2</td>\n",
              "    </tr>\n",
              "    <tr>\n",
              "      <th>146</th>\n",
              "      <td>6.3</td>\n",
              "      <td>2.5</td>\n",
              "      <td>5.0</td>\n",
              "      <td>1.9</td>\n",
              "      <td>2</td>\n",
              "    </tr>\n",
              "    <tr>\n",
              "      <th>147</th>\n",
              "      <td>6.5</td>\n",
              "      <td>3.0</td>\n",
              "      <td>5.2</td>\n",
              "      <td>2.0</td>\n",
              "      <td>2</td>\n",
              "    </tr>\n",
              "    <tr>\n",
              "      <th>148</th>\n",
              "      <td>6.2</td>\n",
              "      <td>3.4</td>\n",
              "      <td>5.4</td>\n",
              "      <td>2.3</td>\n",
              "      <td>2</td>\n",
              "    </tr>\n",
              "    <tr>\n",
              "      <th>149</th>\n",
              "      <td>5.9</td>\n",
              "      <td>3.0</td>\n",
              "      <td>5.1</td>\n",
              "      <td>1.8</td>\n",
              "      <td>2</td>\n",
              "    </tr>\n",
              "  </tbody>\n",
              "</table>\n",
              "<p>150 rows × 5 columns</p>\n",
              "</div>"
            ],
            "text/plain": [
              "     sepal length (cm)  sepal width (cm)  petal length (cm)  petal width (cm)  \\\n",
              "0                  5.1               3.5                1.4               0.2   \n",
              "1                  4.9               3.0                1.4               0.2   \n",
              "2                  4.7               3.2                1.3               0.2   \n",
              "3                  4.6               3.1                1.5               0.2   \n",
              "4                  5.0               3.6                1.4               0.2   \n",
              "..                 ...               ...                ...               ...   \n",
              "145                6.7               3.0                5.2               2.3   \n",
              "146                6.3               2.5                5.0               1.9   \n",
              "147                6.5               3.0                5.2               2.0   \n",
              "148                6.2               3.4                5.4               2.3   \n",
              "149                5.9               3.0                5.1               1.8   \n",
              "\n",
              "     label  \n",
              "0        0  \n",
              "1        0  \n",
              "2        0  \n",
              "3        0  \n",
              "4        0  \n",
              "..     ...  \n",
              "145      2  \n",
              "146      2  \n",
              "147      2  \n",
              "148      2  \n",
              "149      2  \n",
              "\n",
              "[150 rows x 5 columns]"
            ]
          },
          "execution_count": 369,
          "metadata": {},
          "output_type": "execute_result"
        }
      ],
      "source": [
        "iris_df[\"label\"] = iris.target\n",
        "# iris_df에 label이라는 컬럼을 새로 추가\n",
        "# 150개의 숫자로 이루어져 있었던 iris.target를 label 컬럼에 채워넣기\n",
        "iris_df"
      ]
    },
    {
      "cell_type": "code",
      "execution_count": null,
      "id": "ca8d8ab2",
      "metadata": {
        "id": "ca8d8ab2",
        "outputId": "401d18e3-668a-4dd5-89b1-c55fe90eabe7"
      },
      "outputs": [
        {
          "name": "stdout",
          "output_type": "stream",
          "text": [
            "X_train 개수:  120 , X_test 개수:  30\n"
          ]
        }
      ],
      "source": [
        "from sklearn.model_selection import train_test_split\n",
        "# sklearn model_selection패키지의 train_test_split 함수를 임포트\n",
        "\n",
        "X_train, X_test, y_train, y_test = train_test_split(iris_data, \n",
        "                                                    iris_label, \n",
        "                                                    test_size=0.2, \n",
        "                                                    random_state=7)\n",
        "# 나눠야 할 데이터(문제지, X): iris_data\n",
        "# 데이터의 라벨(정답, y): iris_label\n",
        "# iris_data와 iris_label를 각각 train:test = 8:2의 비율로 잘라서 \n",
        "# X_train, X_test, y_train, y_test에 저장\n",
        "\n",
        "\n",
        "print('X_train 개수: ', len(X_train),', X_test 개수: ', len(X_test))\n",
        "# len은 배열의 길이를 출력"
      ]
    },
    {
      "cell_type": "code",
      "execution_count": null,
      "id": "75cbc4ab",
      "metadata": {
        "id": "75cbc4ab",
        "outputId": "fbf5a771-0d5f-427d-a3de-001b4f11f968"
      },
      "outputs": [
        {
          "data": {
            "text/plain": [
              "((120, 4), (120,))"
            ]
          },
          "execution_count": 371,
          "metadata": {},
          "output_type": "execute_result"
        }
      ],
      "source": [
        "X_train.shape, y_train.shape\n",
        "# train의 형상정보 확인"
      ]
    },
    {
      "cell_type": "code",
      "execution_count": null,
      "id": "02b0af6c",
      "metadata": {
        "id": "02b0af6c",
        "outputId": "aaf337ad-6025-43a2-ed7c-4b5b91efa5c0"
      },
      "outputs": [
        {
          "data": {
            "text/plain": [
              "((30, 4), (30,))"
            ]
          },
          "execution_count": 372,
          "metadata": {},
          "output_type": "execute_result"
        }
      ],
      "source": [
        "X_test.shape, y_test.shape\n",
        "# test의 형상정보 확인"
      ]
    },
    {
      "cell_type": "code",
      "execution_count": null,
      "id": "d963a5c2",
      "metadata": {
        "id": "d963a5c2",
        "outputId": "d1418700-f5ba-40cf-d569-58b7d236bd16"
      },
      "outputs": [
        {
          "data": {
            "text/plain": [
              "(array([2, 1, 0, 2, 1, 0, 0, 0, 0, 2, 2, 1, 2, 2, 1, 0, 1, 1, 2, 0, 0, 0,\n",
              "        2, 0, 2, 1, 1, 1, 0, 0, 0, 1, 2, 1, 1, 0, 2, 0, 0, 2, 2, 0, 2, 0,\n",
              "        1, 2, 1, 0, 1, 0, 2, 2, 1, 0, 0, 1, 2, 0, 2, 2, 1, 0, 1, 0, 2, 2,\n",
              "        0, 0, 2, 1, 2, 2, 1, 0, 0, 2, 0, 0, 1, 2, 2, 1, 1, 0, 2, 0, 0, 1,\n",
              "        1, 2, 0, 1, 1, 2, 2, 1, 2, 0, 1, 1, 0, 0, 0, 1, 1, 0, 2, 2, 1, 2,\n",
              "        0, 2, 1, 1, 0, 2, 1, 2, 1, 0]),\n",
              " array([2, 1, 0, 1, 2, 0, 1, 1, 0, 1, 1, 1, 0, 2, 0, 1, 2, 2, 0, 0, 1, 2,\n",
              "        1, 2, 2, 2, 1, 1, 2, 2]))"
            ]
          },
          "execution_count": 373,
          "metadata": {},
          "output_type": "execute_result"
        }
      ],
      "source": [
        "y_train, y_test\n",
        "# label이 잘 분리되었는지 확인"
      ]
    },
    {
      "cell_type": "markdown",
      "id": "1acf4a1f",
      "metadata": {
        "id": "1acf4a1f"
      },
      "source": [
        "# 1-5. 첫 번째 머신러닝 실습, 간단하고도 빠르게! \n",
        "## (2) 첫 번째 머신러닝 모델 학습시키기"
      ]
    },
    {
      "cell_type": "code",
      "execution_count": null,
      "id": "84a4e48c",
      "metadata": {
        "id": "84a4e48c",
        "outputId": "00d00dd9-f3f0-4c28-9eca-16e686b1a52e"
      },
      "outputs": [
        {
          "name": "stdout",
          "output_type": "stream",
          "text": [
            "classifier\n"
          ]
        }
      ],
      "source": [
        "from sklearn.tree import DecisionTreeClassifier \n",
        "# sklearn.tree 패키지에서 의사결정트리 모델 import\n",
        "\n",
        "decision_tree = DecisionTreeClassifier(random_state=32) \n",
        "# random_state : 재현가능하도록 난수의 초기값 32로 설정\n",
        "print(decision_tree._estimator_type)"
      ]
    },
    {
      "cell_type": "code",
      "execution_count": null,
      "id": "6518477e",
      "metadata": {
        "id": "6518477e",
        "outputId": "b63b9821-eacd-4882-fcfe-cb466ecdf169"
      },
      "outputs": [
        {
          "data": {
            "text/plain": [
              "DecisionTreeClassifier(random_state=32)"
            ]
          },
          "execution_count": 375,
          "metadata": {},
          "output_type": "execute_result"
        }
      ],
      "source": [
        "# 학습데이터 X_train, y_train로 의사결정나무 모델로 학습하기\n",
        "decision_tree.fit(X_train, y_train)"
      ]
    },
    {
      "cell_type": "markdown",
      "id": "3fc61aed",
      "metadata": {
        "id": "3fc61aed"
      },
      "source": [
        "# 1-6. 첫 번째 머신러닝 실습, 간단하고도 빠르게! \n",
        "## (3) 첫 번째 머신러닝 모델 평가하기"
      ]
    },
    {
      "cell_type": "code",
      "execution_count": null,
      "id": "03408143",
      "metadata": {
        "id": "03408143",
        "outputId": "9bf1b88d-5627-4de8-b95c-8456e4972429"
      },
      "outputs": [
        {
          "data": {
            "text/plain": [
              "array([2, 1, 0, 1, 2, 0, 1, 1, 0, 1, 2, 1, 0, 2, 0, 2, 2, 2, 0, 0, 1, 2,\n",
              "       1, 1, 2, 2, 1, 1, 2, 2])"
            ]
          },
          "execution_count": 376,
          "metadata": {},
          "output_type": "execute_result"
        }
      ],
      "source": [
        "# 테스트데이터 X_test로 예측하기\n",
        "y_pred = decision_tree.predict(X_test)\n",
        "y_pred"
      ]
    },
    {
      "cell_type": "code",
      "execution_count": null,
      "id": "44009787",
      "metadata": {
        "id": "44009787",
        "outputId": "be56df35-7a37-4eca-d32f-214204941630"
      },
      "outputs": [
        {
          "data": {
            "text/plain": [
              "array([2, 1, 0, 1, 2, 0, 1, 1, 0, 1, 1, 1, 0, 2, 0, 1, 2, 2, 0, 0, 1, 2,\n",
              "       1, 2, 2, 2, 1, 1, 2, 2])"
            ]
          },
          "execution_count": 377,
          "metadata": {},
          "output_type": "execute_result"
        }
      ],
      "source": [
        "# 진짜 정답\n",
        "y_test"
      ]
    },
    {
      "cell_type": "code",
      "execution_count": null,
      "id": "a382e8d9",
      "metadata": {
        "id": "a382e8d9",
        "outputId": "ea419a92-0b6a-4a9f-97ba-4c407ceff44b"
      },
      "outputs": [
        {
          "data": {
            "text/plain": [
              "0.9"
            ]
          },
          "execution_count": 378,
          "metadata": {},
          "output_type": "execute_result"
        }
      ],
      "source": [
        "# 실제 정답 y_test과 예측값 y_pred 비교하여 정확도 측정하기\n",
        "from sklearn.metrics import accuracy_score\n",
        "\n",
        "accuracy = accuracy_score(y_test, y_pred)\n",
        "accuracy"
      ]
    },
    {
      "cell_type": "markdown",
      "id": "cc5af550",
      "metadata": {
        "id": "cc5af550"
      },
      "source": [
        "# 1-7. 첫 번째 머신러닝 실습, 간단하고도 빠르게! \n",
        "## (4) 다른 모델도 해 보고 싶다면? 코드 한 줄만 바꾸면 돼!"
      ]
    },
    {
      "cell_type": "code",
      "execution_count": null,
      "id": "2a211218",
      "metadata": {
        "id": "2a211218",
        "outputId": "cc4bc3b1-012c-4d9c-8592-eb05093ef0a8"
      },
      "outputs": [
        {
          "name": "stdout",
          "output_type": "stream",
          "text": [
            "              precision    recall  f1-score   support\n",
            "\n",
            "           0       1.00      1.00      1.00         7\n",
            "           1       0.91      0.83      0.87        12\n",
            "           2       0.83      0.91      0.87        11\n",
            "\n",
            "    accuracy                           0.90        30\n",
            "   macro avg       0.91      0.91      0.91        30\n",
            "weighted avg       0.90      0.90      0.90        30\n",
            "\n"
          ]
        }
      ],
      "source": [
        "# (1) 필요한 모듈 import\n",
        "from sklearn.datasets import load_iris #싸이킷런 데이터셋에 있는 iris를 불러오는 코드\n",
        "from sklearn.model_selection import train_test_split #싸이킷런에 있는 데이터를 train과 test dataset으로 나누어주는 함수 import\n",
        "from sklearn.tree import DecisionTreeClassifier # 싸이킷런에 있는 결정트리분류기를 사용하기 위해 불러오는 코드\n",
        "from sklearn.metrics import classification_report #싸이킷런에 있는 분류 결과에 대한 시각화를 위해 쓰는 코드\n",
        "\n",
        "# (2) 데이터 준비\n",
        "iris = load_iris() #iris 데이터 전체를 불러온다.\n",
        "iris_data = iris.data #iris데이터의 data컬럼을 분류해 iris_data 변수에 담는다.\n",
        "iris_label = iris.target #iris데이터의 target컬럼을 분류해 iris_label 변수에 담는다.\n",
        "\n",
        "# (3) train, test 데이터 분리\n",
        "#train_test_split()를 사용하여 X값, y값을 각각 train data와 test data로 나눈다. 함수에 들어 갈 파라미터로는 x,y가 들어가고\n",
        "#test_size는 몇대몇으로 나눌지 정하는 옵션, random_state는 랜덤 패턴의 값을 지정한다. (어떤 값을 넣어도 무방하다.)\n",
        "X_train, X_test, y_train, y_test = train_test_split(iris_data, \n",
        "                                                    iris_label, \n",
        "                                                    test_size=0.2, \n",
        "                                                    random_state=7) \n",
        "\n",
        "\n",
        "# (4) 모델 학습 및 예측\n",
        "decision_tree = DecisionTreeClassifier(random_state=32) #결정트리분류기의 객체를 만든다.\n",
        "decision_tree.fit(X_train, y_train) # 분류기에 x와 y의 훈련 데이터를 넣어 훈련 시킨다.\n",
        "y_pred = decision_tree.predict(X_test) # 훈련된 분류기에 X_test라는 테스트 데이터셋을 넣어 얼마나 예측했는지 확인한다.\n",
        "\n",
        "print(classification_report(y_test, y_pred)) # 결과를 지표로 확인하기 위해 classification_report를 활용해 y_test, y_pred 값을 넣어 확인한다."
      ]
    },
    {
      "cell_type": "markdown",
      "id": "2ae95a11",
      "metadata": {
        "id": "2ae95a11"
      },
      "source": [
        "* random forest\n",
        "    - decision tree를 여러개 모아놓은 모델. \n",
        "    - decision tree의 단점 극복. \n",
        "    - 단일 모델을 여러개 사용하는 방법을 취함으로써 모델 한개만 사용할 때의 단점을 극복하는 개념. \n",
        "    - 앙상블 기법이라고도 함. "
      ]
    },
    {
      "cell_type": "code",
      "execution_count": null,
      "id": "05744049",
      "metadata": {
        "id": "05744049",
        "outputId": "fec1241d-5063-41ab-bd1b-7068a3ae2902"
      },
      "outputs": [
        {
          "name": "stdout",
          "output_type": "stream",
          "text": [
            "              precision    recall  f1-score   support\n",
            "\n",
            "           0       1.00      1.00      1.00        11\n",
            "           1       1.00      0.83      0.91        12\n",
            "           2       0.78      1.00      0.88         7\n",
            "\n",
            "    accuracy                           0.93        30\n",
            "   macro avg       0.93      0.94      0.93        30\n",
            "weighted avg       0.95      0.93      0.93        30\n",
            "\n"
          ]
        }
      ],
      "source": [
        "from sklearn.ensemble import RandomForestClassifier #랜덤포레스트라는 분류기를 사용하기 위해 import\n",
        "\n",
        "X_train, X_test, y_train, y_test = train_test_split(iris_data,\n",
        "                                                   iris_label,\n",
        "                                                   test_size=0.2,\n",
        "                                                   random_state=21) # random_state : 랜덤 패턴의 값을 지정\n",
        "random_forest = RandomForestClassifier(random_state=32)  # RandomForest분류기 객체를 생성\n",
        "random_forest.fit(X_train, y_train) # 훈련\n",
        "y_pred = random_forest.predict(X_test) # 예측\n",
        "\n",
        "print(classification_report(y_test, y_pred)) # 결과 지표를 확인"
      ]
    },
    {
      "cell_type": "markdown",
      "id": "c364de1a",
      "metadata": {
        "id": "c364de1a"
      },
      "source": [
        "### 다른 scikit-learn 내장 분류모델\n",
        "1. Support Vector Machine (SVM)\n",
        "- SVM은 Support Vector와 Hyperplane(초평면)을 이용해서 분류를 수행하게 되는 대표적인 선형 분류 알고리즘입니다.\n"
      ]
    },
    {
      "cell_type": "code",
      "execution_count": null,
      "id": "29fa93dc",
      "metadata": {
        "id": "29fa93dc",
        "outputId": "dcbc21bd-c4fa-4e69-f30e-cc79769bfd5f"
      },
      "outputs": [
        {
          "name": "stdout",
          "output_type": "stream",
          "text": [
            "classifier\n"
          ]
        }
      ],
      "source": [
        "from sklearn import svm #Support Vector Machine을 사용하기 위해 import\n",
        "svm_model = svm.SVC() # 모델 객체를 만든다.\n",
        "\n",
        "print(svm_model._estimator_type) # 이 모델이 어떤 타입인지 확인한다."
      ]
    },
    {
      "cell_type": "code",
      "execution_count": null,
      "id": "1b8a4e67",
      "metadata": {
        "id": "1b8a4e67",
        "outputId": "e20f069c-27c1-42c0-f694-c20768dd4d5b"
      },
      "outputs": [
        {
          "name": "stdout",
          "output_type": "stream",
          "text": [
            "              precision    recall  f1-score   support\n",
            "\n",
            "           0       1.00      1.00      1.00        11\n",
            "           1       0.91      0.83      0.87        12\n",
            "           2       0.75      0.86      0.80         7\n",
            "\n",
            "    accuracy                           0.90        30\n",
            "   macro avg       0.89      0.90      0.89        30\n",
            "weighted avg       0.91      0.90      0.90        30\n",
            "\n"
          ]
        }
      ],
      "source": [
        "svm_model.fit(X_train, y_train) # 훈련\n",
        "y_pred = svm_model.predict(X_test) # 예측\n",
        "\n",
        "print(classification_report(y_test, y_pred)) # 결과 지표를 확인"
      ]
    },
    {
      "cell_type": "markdown",
      "id": "2396c73c",
      "metadata": {
        "id": "2396c73c"
      },
      "source": [
        "2. Stochastic Gradient Descent Classifier (SGDClassifier)\n",
        "- SGD (Stochastic Gradient Descent)이란? 배치 크기가 1인 경사하강법 알고리즘 입니다. 즉, 확률적 경사하강법은 데이터 세트에서 무작위로 균일하게 선택한 하나의 데이터 포인트를 이용하여 각 단계의 예측 경사를 계산합니다.\n",
        "- <단점> 반복이 충분하면 SGD가 효과는 있지만 노이즈가 매우 심합니다. 확률적 경사하강법의 여러 변형 함수의 최저점에 가까운 점을 찾을 가능성이 높지만 항상 보장되지는 않습니다. (최저점을 찾지 못할 수 있음)\n",
        "- <단점 극복하기> 미니 배치 확률적 경사하강법(미니 배치 SGD)는 전체 배치 반복과 SGD 의 절충안입니다."
      ]
    },
    {
      "cell_type": "code",
      "execution_count": null,
      "id": "b52ab576",
      "metadata": {
        "id": "b52ab576",
        "outputId": "a394ad18-7a8a-4284-a325-524481df8b72"
      },
      "outputs": [
        {
          "name": "stdout",
          "output_type": "stream",
          "text": [
            "classifier\n"
          ]
        }
      ],
      "source": [
        "from sklearn.linear_model import SGDClassifier #선형분류기인 SGDClassifier를 사용하기 위한 import\n",
        "sgd_model = SGDClassifier() # 모델 객체 생성\n",
        "\n",
        "print(sgd_model._estimator_type) # 이 모델의 타입을 확인"
      ]
    },
    {
      "cell_type": "code",
      "execution_count": null,
      "id": "ff39fd41",
      "metadata": {
        "id": "ff39fd41",
        "outputId": "e0992835-162c-4965-a138-8bbadbbb410a"
      },
      "outputs": [
        {
          "name": "stdout",
          "output_type": "stream",
          "text": [
            "              precision    recall  f1-score   support\n",
            "\n",
            "           0       1.00      1.00      1.00        11\n",
            "           1       0.86      1.00      0.92        12\n",
            "           2       1.00      0.71      0.83         7\n",
            "\n",
            "    accuracy                           0.93        30\n",
            "   macro avg       0.95      0.90      0.92        30\n",
            "weighted avg       0.94      0.93      0.93        30\n",
            "\n"
          ]
        }
      ],
      "source": [
        "sgd_model.fit(X_train, y_train) # sgd모델로 훈련데이터로 훈련시킨다.\n",
        "y_pred = sgd_model.predict(X_test)# 그 모델로 test데이터를 사용해 예측\n",
        "\n",
        "print(classification_report(y_test, y_pred)) # 결과 지표를 확인"
      ]
    },
    {
      "cell_type": "markdown",
      "id": "f1f9d5d7",
      "metadata": {
        "id": "f1f9d5d7"
      },
      "source": [
        "3. Logistic Regression\n",
        "- 가장 널리 알려진 선형 분류 알고리즘. 소프트맥스(softmax) 함수를 사용한 다중 클래스 분류 알고리즘이며, 다중 클래스 분류를 위한 로지스틱 회귀를 소프트맥스 회귀(Softmax Regression)라고도 합니다. 이름은 회귀지만, 실제로는 분류를 수행합니다."
      ]
    },
    {
      "cell_type": "code",
      "execution_count": null,
      "id": "ba1fa5cf",
      "metadata": {
        "id": "ba1fa5cf",
        "outputId": "a93c5c80-faa4-420c-a5ad-0a6d7e259aab"
      },
      "outputs": [
        {
          "name": "stdout",
          "output_type": "stream",
          "text": [
            "classifier\n"
          ]
        }
      ],
      "source": [
        "from sklearn.linear_model import LogisticRegression # 선형분류기인 LogisticRegression를 사용하기 위한 import\n",
        "logistic_model = LogisticRegression() # 모델 객체 생성\n",
        "\n",
        "print(logistic_model._estimator_type) # 이 모델의 타입을 확인"
      ]
    },
    {
      "cell_type": "code",
      "execution_count": null,
      "id": "d1f66f29",
      "metadata": {
        "id": "d1f66f29",
        "outputId": "624e7299-4d66-474a-ec55-fd736c6c1209"
      },
      "outputs": [
        {
          "name": "stdout",
          "output_type": "stream",
          "text": [
            "              precision    recall  f1-score   support\n",
            "\n",
            "           0       1.00      1.00      1.00        11\n",
            "           1       1.00      0.83      0.91        12\n",
            "           2       0.78      1.00      0.88         7\n",
            "\n",
            "    accuracy                           0.93        30\n",
            "   macro avg       0.93      0.94      0.93        30\n",
            "weighted avg       0.95      0.93      0.93        30\n",
            "\n"
          ]
        }
      ],
      "source": [
        "logistic_model.fit(X_train, y_train) # sgd모델로 훈련데이터로 훈련시킨다.\n",
        "y_pred = logistic_model.predict(X_test)# 그 모델로 test데이터를 사용해 예측\n",
        "\n",
        "print(classification_report(y_test, y_pred)) # 결과 지표를 확인"
      ]
    },
    {
      "cell_type": "markdown",
      "id": "1326ecc7",
      "metadata": {
        "id": "1326ecc7"
      },
      "source": [
        "# 1-8. 내 모델은 얼마나 똑똑한가? 다양하게 평가해 보기 \n",
        "## (1) 정확도에는 함정이 있다"
      ]
    },
    {
      "cell_type": "code",
      "execution_count": null,
      "id": "fb1d3dd9",
      "metadata": {
        "id": "fb1d3dd9",
        "outputId": "6886c4a8-20a8-4be2-e8b1-0e852dabd996"
      },
      "outputs": [
        {
          "data": {
            "text/plain": [
              "dict_keys(['data', 'target', 'frame', 'feature_names', 'target_names', 'images', 'DESCR'])"
            ]
          },
          "execution_count": 387,
          "metadata": {},
          "output_type": "execute_result"
        }
      ],
      "source": [
        "from sklearn.datasets import load_digits\n",
        "\n",
        "digits = load_digits() # Dictionary 자료형과 유사한 sklearn.utils.Bunch 자료형 \n",
        "digits.keys()"
      ]
    },
    {
      "cell_type": "code",
      "execution_count": null,
      "id": "289c47f8",
      "metadata": {
        "id": "289c47f8",
        "outputId": "cac01c6f-ceda-46a7-e93a-1b9bc59b9baf"
      },
      "outputs": [
        {
          "data": {
            "text/plain": [
              "(1797, 64)"
            ]
          },
          "execution_count": 388,
          "metadata": {},
          "output_type": "execute_result"
        }
      ],
      "source": [
        "digits_data = digits.data\n",
        "digits_data.shape # (손글씨 이미지의 개수, 이미지 당 Pixel 수)"
      ]
    },
    {
      "cell_type": "code",
      "execution_count": null,
      "id": "51f7e83f",
      "metadata": {
        "id": "51f7e83f",
        "outputId": "e552b269-a76f-4222-ffc6-8b7aaa9b9894"
      },
      "outputs": [
        {
          "data": {
            "text/plain": [
              "array([ 0.,  0.,  5., 13.,  9.,  1.,  0.,  0.,  0.,  0., 13., 15., 10.,\n",
              "       15.,  5.,  0.,  0.,  3., 15.,  2.,  0., 11.,  8.,  0.,  0.,  4.,\n",
              "       12.,  0.,  0.,  8.,  8.,  0.,  0.,  5.,  8.,  0.,  0.,  9.,  8.,\n",
              "        0.,  0.,  4., 11.,  0.,  1., 12.,  7.,  0.,  0.,  2., 14.,  5.,\n",
              "       10., 12.,  0.,  0.,  0.,  0.,  6., 13., 10.,  0.,  0.,  0.])"
            ]
          },
          "execution_count": 389,
          "metadata": {},
          "output_type": "execute_result"
        }
      ],
      "source": [
        "digits_data[0] # 각 이미지가 64개의 Piexel로 구성된 것을 확인할 수 있습니다."
      ]
    },
    {
      "cell_type": "code",
      "execution_count": null,
      "id": "cce33e09",
      "metadata": {
        "id": "cce33e09",
        "outputId": "67acbce8-3d52-4ce2-baff-8861b6c0c5e3"
      },
      "outputs": [
        {
          "data": {
            "image/png": "[encoded data removed]",
            "text/plain": [
              "<Figure size 432x288 with 1 Axes>"
            ]
          },
          "metadata": {
            "needs_background": "light"
          },
          "output_type": "display_data"
        }
      ],
      "source": [
        "import matplotlib.pyplot as plt\n",
        "%matplotlib inline \n",
        "# 브라우저에서 바로 그림을 볼 수 있게 해주는 역할을 합니다 \n",
        "\n",
        "plt.imshow(digits.data[0].reshape(8, 8), cmap='gray')\n",
        "plt.axis('off')\n",
        "plt.show()"
      ]
    },
    {
      "cell_type": "code",
      "execution_count": null,
      "id": "6077ce5a",
      "metadata": {
        "id": "6077ce5a",
        "outputId": "2f5a04ae-4e95-4a71-f310-7588b4e69a57"
      },
      "outputs": [
        {
          "data": {
            "image/png": "[encoded data removed]",
            "text/plain": [
              "<Figure size 432x288 with 10 Axes>"
            ]
          },
          "metadata": {
            "needs_background": "light"
          },
          "output_type": "display_data"
        }
      ],
      "source": [
        "for i in range(10):\n",
        "    plt.subplot(2, 5, i+1) # 10개의 이미지를 2행 5열로 표시\n",
        "    plt.imshow(digits.data[i].reshape(8, 8), cmap='gray') \n",
        "    # plt.imshow()는 (m,n) 형태의 데이터를 입력으로 받기 때문에\n",
        "    # 데이터셋 내의 1열로 펼쳐진 64개의 데이터를 원래의 이미지 형태인 (8,8)로 복원\n",
        "    # cmap은 해당 이미지의 색상을 지정(gray는 흑백으로 출력)\n",
        "    plt.axis('off') # 축을 보이지 않게 해줍니다. \n",
        "plt.show()"
      ]
    },
    {
      "cell_type": "code",
      "execution_count": null,
      "id": "2031c5d3",
      "metadata": {
        "id": "2031c5d3",
        "outputId": "8c9b1e19-4b6d-40db-e988-8752eee18592"
      },
      "outputs": [
        {
          "name": "stdout",
          "output_type": "stream",
          "text": [
            "(1797,)\n"
          ]
        },
        {
          "data": {
            "text/plain": [
              "array([0, 1, 2, 3, 4, 5, 6, 7, 8, 9, 0, 1, 2, 3, 4, 5, 6, 7, 8, 9])"
            ]
          },
          "execution_count": 392,
          "metadata": {},
          "output_type": "execute_result"
        }
      ],
      "source": [
        "digits_label = digits.target # 각 이미지가 나타내는 숫자를 의미합니다.\n",
        "print(digits_label.shape)\n",
        "digits_label[:20]"
      ]
    },
    {
      "cell_type": "code",
      "execution_count": null,
      "id": "a27bf95f",
      "metadata": {
        "id": "a27bf95f",
        "outputId": "f8119c2e-2800-4522-f6c0-47f8f163a2c7"
      },
      "outputs": [
        {
          "data": {
            "text/plain": [
              "[0, 0, 0, 3, 0, 0, 0, 0, 0, 0, 0, 0, 0, 3, 0, 0, 0, 0, 0, 0]"
            ]
          },
          "execution_count": 393,
          "metadata": {},
          "output_type": "execute_result"
        }
      ],
      "source": [
        "# 각 Label을 참조하여, 해당 이미지가 나타내는 숫자가 3이라면 3을 할당하고, 3이 아니라면 0을 할당하여 새로운 칼럼 new_label을 생성합니다.\n",
        "new_label = [3 if i == 3 else 0 for i in digits_label] \n",
        "new_label[:20]"
      ]
    },
    {
      "cell_type": "code",
      "execution_count": null,
      "id": "ec3ff466",
      "metadata": {
        "id": "ec3ff466",
        "outputId": "564488d7-842c-405c-eb76-692a9b945d96"
      },
      "outputs": [
        {
          "data": {
            "text/plain": [
              "0.9388888888888889"
            ]
          },
          "execution_count": 394,
          "metadata": {},
          "output_type": "execute_result"
        }
      ],
      "source": [
        "from sklearn.metrics import accuracy_score\n",
        "from sklearn.model_selection import train_test_split\n",
        "from sklearn.tree import DecisionTreeClassifier\n",
        "\n",
        "X_train, X_test, y_train, y_test = train_test_split(digits_data,\n",
        "                                                    new_label,\n",
        "                                                    test_size=0.2,\n",
        "                                                    random_state=15)\n",
        "\n",
        "decision_tree = DecisionTreeClassifier(random_state=15)\n",
        "decision_tree.fit(X_train, y_train) # 의사결정나무 모델로 학습\n",
        "y_pred = decision_tree.predict(X_test) # 테스트 결과 예측\n",
        "\n",
        "accuracy = accuracy_score(y_test, y_pred) # y_pred(답안지)를 y_test(정답지)로 채점\n",
        "accuracy # 정확도 출력"
      ]
    },
    {
      "cell_type": "markdown",
      "id": "a00c822c",
      "metadata": {
        "id": "a00c822c"
      },
      "source": [
        "* 바로 이곳에 함정이 있습니다. 어떤 함정일까요? 우리가 풀려고 했던 문제를 생각해봅시다. 총 10개의 숫자 중 3에만 집중을 해서, 3이라면 3으로, 3이 아니라면 0으로 맞추는 문제로 변형했었죠.\n",
        "\n",
        "* 그런 이유로, 정답 데이터인 label은 0이 매우 많고 3은 적은 불균형 데이터가 되었습니다. 9개의 숫자들은 label이 모두 0이 되었고, 3만 3으로 남아있었으니 대략 90%의 label이 모두 0이라는 이야기가 되죠.\n",
        "\n",
        "* 모델이 전혀 학습하지 않고 정답을 모두 0으로만 선택해도 정확도가 90%가량이 나오게 된다는 것입니다. 길이는 y_pred와 같으면서 0으로만 이루어진 리스트를 fake_pred라는 변수로 저장해 보고, 이 리스트와 실제 정답인 y_test간의 정확도를 확인해 보겠습니다."
      ]
    },
    {
      "cell_type": "code",
      "execution_count": null,
      "id": "929d2090",
      "metadata": {
        "id": "929d2090",
        "outputId": "2144a046-a6ae-4cd4-ae60-82314a0fc1ee"
      },
      "outputs": [
        {
          "data": {
            "text/plain": [
              "0.925"
            ]
          },
          "execution_count": 395,
          "metadata": {},
          "output_type": "execute_result"
        }
      ],
      "source": [
        "fake_pred = [0] * len(y_pred) # 0으로만 이루어진 가짜 답안지 준비\n",
        "accuracy = accuracy_score(y_test, fake_pred) # fake_pred(가짜 답안지)를 y_test(정답지)로 채점\n",
        "accuracy # 정확도 출력"
      ]
    },
    {
      "cell_type": "markdown",
      "id": "79f84f48",
      "metadata": {
        "id": "79f84f48"
      },
      "source": [
        "* 이러한 문제는 불균형한 데이터, unbalanced 데이터 에서 자주 발생할 수 있습니다.\n",
        "\n",
        "* 즉 정확도는 정답의 분포에 따라 모델의 성능을 잘 평가하지 못하는 척도가 될 수 있는 것이죠."
      ]
    },
    {
      "cell_type": "markdown",
      "id": "69b63643",
      "metadata": {
        "id": "69b63643"
      },
      "source": [
        "# 1-9. 내 모델은 얼마나 똑똑한가? 다양하게 평가해 보기\n",
        "## (2) 정답과 오답에도 종류가 있다!"
      ]
    },
    {
      "cell_type": "markdown",
      "id": "00f2fb98",
      "metadata": {
        "id": "00f2fb98"
      },
      "source": [
        "* 위에서 확인한 정확도는 전체 데이터 중 맞은 데이터 만 신경 쓰는 척도입니다. 하지만 양성 데이터를 얼마나 많이 맞았느냐도 중요하겠지만, 음성 데이터를 얼마나 안 틀렸느냐도 중요한 경우가 있습니다. 이는 문제에 따라 달라지죠. 이렇게 정답과 오답을 구분하여 표현하는 방법을 오차 행렬(confusion matrix) 이라고 합니다.\n",
        "* 예측결과 : TN(True Negative), FP(False Positive), FN(False Negative), TP(True Positive)\n",
        "* 성능지표 : 정확도, 정밀도, 재현율, F1 Score, roc_auc_score\n",
        "    - Precision이 높아지려면 False Positive, 즉 음성인데 양성으로 판단하는 경우가 적어야 합니다.\n",
        "    - Recall이 높아지려면 False Negative, 즉 양성인데 음성으로 판단하는 경우가 적어야 합니다."
      ]
    },
    {
      "cell_type": "code",
      "execution_count": null,
      "id": "fde9358c",
      "metadata": {
        "id": "fde9358c",
        "outputId": "83b3d643-cfb9-4d30-cf8b-9d9c692ef15a"
      },
      "outputs": [
        {
          "data": {
            "text/plain": [
              "array([[320,  13],\n",
              "       [  9,  18]])"
            ]
          },
          "execution_count": 396,
          "metadata": {},
          "output_type": "execute_result"
        }
      ],
      "source": [
        "from sklearn.metrics import confusion_matrix\n",
        "\n",
        "confusion_matrix(y_test, y_pred)"
      ]
    },
    {
      "cell_type": "code",
      "execution_count": null,
      "id": "c18a61ed",
      "metadata": {
        "id": "c18a61ed",
        "outputId": "0b8f98be-c411-40cb-9858-0602dc8c17f2"
      },
      "outputs": [
        {
          "data": {
            "text/plain": [
              "array([[333,   0],\n",
              "       [ 27,   0]])"
            ]
          },
          "execution_count": 397,
          "metadata": {},
          "output_type": "execute_result"
        }
      ],
      "source": [
        "confusion_matrix(y_test, fake_pred)"
      ]
    },
    {
      "cell_type": "code",
      "execution_count": null,
      "id": "5fa86066",
      "metadata": {
        "id": "5fa86066",
        "outputId": "b8590677-03b3-4da5-de02-501474ba2f7c"
      },
      "outputs": [
        {
          "name": "stdout",
          "output_type": "stream",
          "text": [
            "              precision    recall  f1-score   support\n",
            "\n",
            "           0       0.97      0.96      0.97       333\n",
            "           3       0.58      0.67      0.62        27\n",
            "\n",
            "    accuracy                           0.94       360\n",
            "   macro avg       0.78      0.81      0.79       360\n",
            "weighted avg       0.94      0.94      0.94       360\n",
            "\n"
          ]
        }
      ],
      "source": [
        "from sklearn.metrics import classification_report\n",
        "\n",
        "print(classification_report(y_test, y_pred))\n",
        "\n",
        "## 0은 개수가 333개로 많기 때문에 precision과 recall에서 모두 0.97, 0.96으로 어렵지 않게 높은 점수를 받았습니다. \n",
        "## 반면 3은 27개뿐이기 때문에 모두 맞추기가 어려웠나 봅니다. precision과 recall은 각각 0.58, 0.67이 나왔군요."
      ]
    },
    {
      "cell_type": "code",
      "execution_count": null,
      "id": "4b7c2616",
      "metadata": {
        "id": "4b7c2616",
        "outputId": "5b5744e3-1e1f-4e88-a495-42bfe431717b"
      },
      "outputs": [
        {
          "name": "stdout",
          "output_type": "stream",
          "text": [
            "              precision    recall  f1-score   support\n",
            "\n",
            "           0       0.93      1.00      0.96       333\n",
            "           3       0.00      0.00      0.00        27\n",
            "\n",
            "    accuracy                           0.93       360\n",
            "   macro avg       0.46      0.50      0.48       360\n",
            "weighted avg       0.86      0.93      0.89       360\n",
            "\n"
          ]
        }
      ],
      "source": [
        "print(classification_report(y_test, fake_pred, zero_division=0))\n",
        "\n",
        "## 0에 대한 precision과 recall은 0.93, 1로 매우 높지만 3에 대한 precision과 recall은 둘 다 0입니다. 이건 큰 문제입니다. \n",
        "## 0은 잘 잡아내지만, 3은 단 하나도 맞추지 못했다는 뜻이니까요."
      ]
    },
    {
      "cell_type": "code",
      "execution_count": null,
      "id": "76101bbe",
      "metadata": {
        "id": "76101bbe",
        "outputId": "79576bbc-fdf3-448e-91a5-3058a698c850"
      },
      "outputs": [
        {
          "data": {
            "text/plain": [
              "(0.9388888888888889, 0.925)"
            ]
          },
          "execution_count": 400,
          "metadata": {},
          "output_type": "execute_result"
        }
      ],
      "source": [
        "accuracy_score(y_test, y_pred), accuracy_score(y_test, fake_pred)\n",
        "\n",
        "## y_pred와 fake_pred 모두 0.94, 0.925로 큰 차이가 없지만 이제는 알 수 있습니다. \n",
        "## 모델의 성능은 정확도만으로 평가하면 안 된다는 것을요!\n",
        "## 특히, label이 불균형하게 분포되어있는 데이터를 다룰 때는 더 조심해야 합니다."
      ]
    },
    {
      "cell_type": "markdown",
      "id": "96da1555",
      "metadata": {
        "id": "96da1555"
      },
      "source": [
        "# 1-10. 데이터가 달라도 문제 없어요!\n",
        "## 예제를 통해 실습 진행 (https://scikit-learn.org/stable/datasets/toy_dataset.html)"
      ]
    },
    {
      "cell_type": "markdown",
      "id": "8fd270a1",
      "metadata": {
        "id": "8fd270a1"
      },
      "source": [
        "--------------------------------------------------\n",
        "# 1-11. 프로젝트 \n",
        "## (1) load_digits : 손글씨를 분류해 봅시다"
      ]
    },
    {
      "cell_type": "code",
      "execution_count": null,
      "id": "115c047a",
      "metadata": {
        "id": "115c047a",
        "outputId": "c51549ed-9e1e-432c-818c-4f777a1c9475"
      },
      "outputs": [
        {
          "name": "stdout",
          "output_type": "stream",
          "text": [
            "1.0\n"
          ]
        }
      ],
      "source": [
        "import sklearn\n",
        "\n",
        "print(sklearn.__version__)"
      ]
    },
    {
      "cell_type": "markdown",
      "id": "67136160",
      "metadata": {
        "id": "67136160"
      },
      "source": [
        "### (1) 필요한 모듈 import 하기 "
      ]
    },
    {
      "cell_type": "code",
      "execution_count": null,
      "id": "37c7c2ed",
      "metadata": {
        "id": "37c7c2ed"
      },
      "outputs": [],
      "source": [
        "from sklearn.datasets import load_digits\n",
        "from sklearn.model_selection import train_test_split\n",
        "from sklearn.metrics import classification_report"
      ]
    },
    {
      "cell_type": "markdown",
      "id": "d3681f01",
      "metadata": {
        "id": "d3681f01"
      },
      "source": [
        "### (2) 데이터 준비"
      ]
    },
    {
      "cell_type": "code",
      "execution_count": null,
      "id": "729809fe",
      "metadata": {
        "id": "729809fe",
        "outputId": "c90a5822-ef14-4acf-ba19-b09aacd1c3c1"
      },
      "outputs": [
        {
          "data": {
            "text/plain": [
              "dict_keys(['data', 'target', 'frame', 'feature_names', 'target_names', 'images', 'DESCR'])"
            ]
          },
          "execution_count": 403,
          "metadata": {},
          "output_type": "execute_result"
        }
      ],
      "source": [
        "digits = load_digits()\n",
        "digits.keys()"
      ]
    },
    {
      "cell_type": "markdown",
      "id": "add2a1cd",
      "metadata": {
        "id": "add2a1cd"
      },
      "source": [
        "### (3) 데이터 이해하기"
      ]
    },
    {
      "cell_type": "code",
      "execution_count": null,
      "id": "60a95b62",
      "metadata": {
        "id": "60a95b62",
        "outputId": "a95b7d6f-58d6-46da-a437-bdaeb6362593"
      },
      "outputs": [
        {
          "data": {
            "text/plain": [
              "(1797, 64)"
            ]
          },
          "execution_count": 404,
          "metadata": {},
          "output_type": "execute_result"
        }
      ],
      "source": [
        "#Feature Data 지정하기\n",
        "digits_data = digits.data\n",
        "digits_data.shape"
      ]
    },
    {
      "cell_type": "code",
      "execution_count": null,
      "id": "b03bb07a",
      "metadata": {
        "id": "b03bb07a",
        "outputId": "e8682cf9-d991-4ed7-f93f-88a44577a388"
      },
      "outputs": [
        {
          "name": "stdout",
          "output_type": "stream",
          "text": [
            "(1797,)\n"
          ]
        },
        {
          "data": {
            "text/plain": [
              "array([0, 1, 2, ..., 8, 9, 8])"
            ]
          },
          "execution_count": 405,
          "metadata": {},
          "output_type": "execute_result"
        }
      ],
      "source": [
        "#Label Data 지정하기\n",
        "digits_label = digits.target\n",
        "print(digits_label.shape)\n",
        "digits_label"
      ]
    },
    {
      "cell_type": "code",
      "execution_count": null,
      "id": "5c5899d9",
      "metadata": {
        "id": "5c5899d9",
        "outputId": "29418ee9-d5b8-4bf9-c0fb-5a165f3cdca5"
      },
      "outputs": [
        {
          "data": {
            "text/plain": [
              "array([0, 1, 2, 3, 4, 5, 6, 7, 8, 9])"
            ]
          },
          "execution_count": 406,
          "metadata": {},
          "output_type": "execute_result"
        }
      ],
      "source": [
        "# Target Names 출력해 보기\n",
        "digits.target_names"
      ]
    },
    {
      "cell_type": "code",
      "execution_count": null,
      "id": "a8594935",
      "metadata": {
        "scrolled": true,
        "id": "a8594935",
        "outputId": "0d28015c-21cf-4b30-ecc6-8e731bbdcc63"
      },
      "outputs": [
        {
          "name": "stdout",
          "output_type": "stream",
          "text": [
            ".. _digits_dataset:\n",
            "\n",
            "Optical recognition of handwritten digits dataset\n",
            "--------------------------------------------------\n",
            "\n",
            "**Data Set Characteristics:**\n",
            "\n",
            "    :Number of Instances: 1797\n",
            "    :Number of Attributes: 64\n",
            "    :Attribute Information: 8x8 image of integer pixels in the range 0..16.\n",
            "    :Missing Attribute Values: None\n",
            "    :Creator: E. Alpaydin (alpaydin '@' boun.edu.tr)\n",
            "    :Date: July; 1998\n",
            "\n",
            "This is a copy of the test set of the UCI ML hand-written digits datasets\n",
            "https://archive.ics.uci.edu/ml/datasets/Optical+Recognition+of+Handwritten+Digits\n",
            "\n",
            "The data set contains images of hand-written digits: 10 classes where\n",
            "each class refers to a digit.\n",
            "\n",
            "Preprocessing programs made available by NIST were used to extract\n",
            "normalized bitmaps of handwritten digits from a preprinted form. From a\n",
            "total of 43 people, 30 contributed to the training set and different 13\n",
            "to the test set. 32x32 bitmaps are divided into nonoverlapping blocks of\n",
            "4x4 and the number of on pixels are counted in each block. This generates\n",
            "an input matrix of 8x8 where each element is an integer in the range\n",
            "0..16. This reduces dimensionality and gives invariance to small\n",
            "distortions.\n",
            "\n",
            "For info on NIST preprocessing routines, see M. D. Garris, J. L. Blue, G.\n",
            "T. Candela, D. L. Dimmick, J. Geist, P. J. Grother, S. A. Janet, and C.\n",
            "L. Wilson, NIST Form-Based Handprint Recognition System, NISTIR 5469,\n",
            "1994.\n",
            "\n",
            ".. topic:: References\n",
            "\n",
            "  - C. Kaynak (1995) Methods of Combining Multiple Classifiers and Their\n",
            "    Applications to Handwritten Digit Recognition, MSc Thesis, Institute of\n",
            "    Graduate Studies in Science and Engineering, Bogazici University.\n",
            "  - E. Alpaydin, C. Kaynak (1998) Cascading Classifiers, Kybernetika.\n",
            "  - Ken Tang and Ponnuthurai N. Suganthan and Xi Yao and A. Kai Qin.\n",
            "    Linear dimensionalityreduction using relevance weighted LDA. School of\n",
            "    Electrical and Electronic Engineering Nanyang Technological University.\n",
            "    2005.\n",
            "  - Claudio Gentile. A New Approximate Maximal Margin Classification\n",
            "    Algorithm. NIPS. 2000.\n",
            "\n"
          ]
        }
      ],
      "source": [
        "#데이터 Describe 해 보기\n",
        "print(digits.DESCR)"
      ]
    },
    {
      "cell_type": "markdown",
      "id": "079f861f",
      "metadata": {
        "id": "079f861f"
      },
      "source": [
        "### (4) train, test 데이터 분리"
      ]
    },
    {
      "cell_type": "code",
      "execution_count": null,
      "id": "e3071512",
      "metadata": {
        "id": "e3071512",
        "outputId": "30bfdb16-0b45-4f05-ba2f-3b51c5b0ed43"
      },
      "outputs": [
        {
          "name": "stdout",
          "output_type": "stream",
          "text": [
            "X_train 개수: 1437 , X_test 개수: 360\n"
          ]
        }
      ],
      "source": [
        "X_train, X_test, y_train, y_test = train_test_split(digits_data, \n",
        "                                                    digits_label, \n",
        "                                                    test_size=0.2, \n",
        "                                                    random_state=42)\n",
        "\n",
        "print('X_train 개수:',len(X_train), ', X_test 개수:', len(X_test))"
      ]
    },
    {
      "cell_type": "code",
      "execution_count": null,
      "id": "674e2833",
      "metadata": {
        "id": "674e2833",
        "outputId": "554f796b-3a9c-40a0-f27d-57123519dc6e"
      },
      "outputs": [
        {
          "data": {
            "text/plain": [
              "((1437, 64), (1437,))"
            ]
          },
          "execution_count": 409,
          "metadata": {},
          "output_type": "execute_result"
        }
      ],
      "source": [
        "X_train.shape, y_train.shape"
      ]
    },
    {
      "cell_type": "code",
      "execution_count": null,
      "id": "a0fa9b32",
      "metadata": {
        "id": "a0fa9b32",
        "outputId": "0caa3f6a-cd8f-4fdb-f6d0-0c6add3fcb62"
      },
      "outputs": [
        {
          "data": {
            "text/plain": [
              "((360, 64), (360,))"
            ]
          },
          "execution_count": 410,
          "metadata": {},
          "output_type": "execute_result"
        }
      ],
      "source": [
        "X_test.shape, y_test.shape"
      ]
    },
    {
      "cell_type": "code",
      "execution_count": null,
      "id": "1311f9f6",
      "metadata": {
        "id": "1311f9f6",
        "outputId": "69d8b5a4-4c42-4573-dbae-331c70dcaedf"
      },
      "outputs": [
        {
          "data": {
            "text/plain": [
              "((1437,), (360,))"
            ]
          },
          "execution_count": 411,
          "metadata": {},
          "output_type": "execute_result"
        }
      ],
      "source": [
        "y_train.shape, y_test.shape"
      ]
    },
    {
      "cell_type": "markdown",
      "id": "179ba51c",
      "metadata": {
        "id": "179ba51c"
      },
      "source": [
        "### (5) 다양한 모델로 학습시켜보기"
      ]
    },
    {
      "cell_type": "code",
      "execution_count": null,
      "id": "1263d791",
      "metadata": {
        "id": "1263d791",
        "outputId": "07e20ad2-564c-4ee0-ee38-9279231b6a5b"
      },
      "outputs": [
        {
          "name": "stdout",
          "output_type": "stream",
          "text": [
            "              precision    recall  f1-score   support\n",
            "\n",
            "           0       0.97      0.88      0.92        33\n",
            "           1       0.85      0.79      0.81        28\n",
            "           2       0.86      0.73      0.79        33\n",
            "           3       0.76      0.85      0.81        34\n",
            "           4       0.84      0.91      0.87        46\n",
            "           5       0.89      0.85      0.87        47\n",
            "           6       0.97      0.91      0.94        35\n",
            "           7       0.82      0.91      0.86        34\n",
            "           8       0.75      0.70      0.72        30\n",
            "           9       0.75      0.82      0.79        40\n",
            "\n",
            "    accuracy                           0.84       360\n",
            "   macro avg       0.84      0.84      0.84       360\n",
            "weighted avg       0.85      0.84      0.84       360\n",
            "\n"
          ]
        }
      ],
      "source": [
        "## Decision Tree 사용해 보기\n",
        "from sklearn.tree import DecisionTreeClassifier\n",
        "\n",
        "decision_tree = DecisionTreeClassifier(random_state=42) #결정트리분류기의 객체를 만든다.\n",
        "decision_tree.fit(X_train, y_train) # 분류기에 x와 y의 훈련 데이터를 넣어 훈련 시킨다.\n",
        "y_pred1 = decision_tree.predict(X_test) # 훈련된 분류기에 X_test라는 테스트 데이터셋을 넣어 얼마나 예측했는지 확인한다.\n",
        "\n",
        "print(classification_report(y_test, y_pred1)) \n",
        "# 결과를 지표로 확인하기 위해 classification_report를 활용해 y_test, y_pred 값을 넣어 확인한다."
      ]
    },
    {
      "cell_type": "code",
      "execution_count": null,
      "id": "4bdedba5",
      "metadata": {
        "id": "4bdedba5",
        "outputId": "14990d7b-509c-4d6c-b3cf-9066cdde5606"
      },
      "outputs": [
        {
          "name": "stdout",
          "output_type": "stream",
          "text": [
            "              precision    recall  f1-score   support\n",
            "\n",
            "           0       1.00      1.00      1.00        33\n",
            "           1       0.93      1.00      0.97        28\n",
            "           2       1.00      1.00      1.00        33\n",
            "           3       1.00      1.00      1.00        34\n",
            "           4       1.00      1.00      1.00        46\n",
            "           5       0.96      0.98      0.97        47\n",
            "           6       0.97      0.97      0.97        35\n",
            "           7       0.97      0.97      0.97        34\n",
            "           8       1.00      0.93      0.97        30\n",
            "           9       0.97      0.95      0.96        40\n",
            "\n",
            "    accuracy                           0.98       360\n",
            "   macro avg       0.98      0.98      0.98       360\n",
            "weighted avg       0.98      0.98      0.98       360\n",
            "\n"
          ]
        }
      ],
      "source": [
        "## Random Forest 사용해 보기\n",
        "from sklearn.ensemble import RandomForestClassifier\n",
        "\n",
        "random_forest = RandomForestClassifier(random_state=32) # RandomForest분류기 객체를 생성\n",
        "random_forest.fit(X_train, y_train) # 훈련\n",
        "y_pred2 = random_forest.predict(X_test) # 예측\n",
        "\n",
        "print(classification_report(y_test, y_pred2)) # 결과 지표를 확인"
      ]
    },
    {
      "cell_type": "code",
      "execution_count": null,
      "id": "1d47d08c",
      "metadata": {
        "id": "1d47d08c",
        "outputId": "60a0d0ed-c8d9-412e-ad94-e623b759e65b"
      },
      "outputs": [
        {
          "name": "stdout",
          "output_type": "stream",
          "text": [
            "              precision    recall  f1-score   support\n",
            "\n",
            "           0       1.00      1.00      1.00        33\n",
            "           1       1.00      1.00      1.00        28\n",
            "           2       1.00      1.00      1.00        33\n",
            "           3       1.00      1.00      1.00        34\n",
            "           4       1.00      1.00      1.00        46\n",
            "           5       0.98      0.98      0.98        47\n",
            "           6       0.97      1.00      0.99        35\n",
            "           7       0.97      0.97      0.97        34\n",
            "           8       1.00      0.97      0.98        30\n",
            "           9       0.95      0.95      0.95        40\n",
            "\n",
            "    accuracy                           0.99       360\n",
            "   macro avg       0.99      0.99      0.99       360\n",
            "weighted avg       0.99      0.99      0.99       360\n",
            "\n"
          ]
        }
      ],
      "source": [
        "## SVM 사용해 보기\n",
        "from sklearn import svm #Support Vector Machine을 사용하기 위해 import\n",
        "svm_model = svm.SVC() # 모델 객체를 만든다.\n",
        "\n",
        "svm_model.fit(X_train, y_train) # 훈련\n",
        "y_pred3 = svm_model.predict(X_test) # 예측\n",
        "\n",
        "print(classification_report(y_test, y_pred3)) # 결과 지표를 확인"
      ]
    },
    {
      "cell_type": "code",
      "execution_count": null,
      "id": "958fae30",
      "metadata": {
        "id": "958fae30",
        "outputId": "48320297-99c6-4aa0-a0c4-1aff522cb500"
      },
      "outputs": [
        {
          "name": "stdout",
          "output_type": "stream",
          "text": [
            "              precision    recall  f1-score   support\n",
            "\n",
            "           0       1.00      0.97      0.98        33\n",
            "           1       0.88      1.00      0.93        28\n",
            "           2       0.94      0.97      0.96        33\n",
            "           3       1.00      0.97      0.99        34\n",
            "           4       1.00      1.00      1.00        46\n",
            "           5       0.94      0.94      0.94        47\n",
            "           6       0.97      0.97      0.97        35\n",
            "           7       1.00      0.97      0.99        34\n",
            "           8       0.90      0.90      0.90        30\n",
            "           9       0.95      0.90      0.92        40\n",
            "\n",
            "    accuracy                           0.96       360\n",
            "   macro avg       0.96      0.96      0.96       360\n",
            "weighted avg       0.96      0.96      0.96       360\n",
            "\n"
          ]
        }
      ],
      "source": [
        "## SGD Classifier 사용해 보기\n",
        "from sklearn.linear_model import SGDClassifier #선형분류기인 SGDClassifier를 사용하기 위한 import\n",
        "sgd_model = SGDClassifier() # 모델 객체 생성\n",
        "\n",
        "sgd_model.fit(X_train, y_train) # sgd모델로 훈련데이터로 훈련시킨다.\n",
        "y_pred4 = sgd_model.predict(X_test)# 그 모델로 test데이터를 사용해 예측\n",
        "\n",
        "print(classification_report(y_test, y_pred4)) # 결과 지표를 확인"
      ]
    },
    {
      "cell_type": "code",
      "execution_count": null,
      "id": "9800e87b",
      "metadata": {
        "id": "9800e87b",
        "outputId": "3e5cde3b-95f3-47ce-a3ac-2ddf57ce729c"
      },
      "outputs": [
        {
          "name": "stdout",
          "output_type": "stream",
          "text": [
            "              precision    recall  f1-score   support\n",
            "\n",
            "           0       1.00      1.00      1.00        33\n",
            "           1       0.97      1.00      0.98        28\n",
            "           2       0.97      1.00      0.99        33\n",
            "           3       0.97      0.97      0.97        34\n",
            "           4       1.00      0.96      0.98        46\n",
            "           5       0.92      0.94      0.93        47\n",
            "           6       0.94      0.97      0.96        35\n",
            "           7       1.00      0.97      0.99        34\n",
            "           8       0.97      0.97      0.97        30\n",
            "           9       0.97      0.95      0.96        40\n",
            "\n",
            "    accuracy                           0.97       360\n",
            "   macro avg       0.97      0.97      0.97       360\n",
            "weighted avg       0.97      0.97      0.97       360\n",
            "\n"
          ]
        },
        {
          "name": "stderr",
          "output_type": "stream",
          "text": [
            "/opt/conda/lib/python3.9/site-packages/sklearn/linear_model/_logistic.py:814: ConvergenceWarning: lbfgs failed to converge (status=1):\n",
            "STOP: TOTAL NO. of ITERATIONS REACHED LIMIT.\n",
            "\n",
            "Increase the number of iterations (max_iter) or scale the data as shown in:\n",
            "    https://scikit-learn.org/stable/modules/preprocessing.html\n",
            "Please also refer to the documentation for alternative solver options:\n",
            "    https://scikit-learn.org/stable/modules/linear_model.html#logistic-regression\n",
            "  n_iter_i = _check_optimize_result(\n"
          ]
        }
      ],
      "source": [
        "## Logistic Regression 사용해 보기\n",
        "from sklearn.linear_model import LogisticRegression # 선형분류기인 LogisticRegression를 사용하기 위한 import\n",
        "logistic_model = LogisticRegression() # 모델 객체 생성\n",
        "\n",
        "logistic_model.fit(X_train, y_train) # 훈련데이터로 훈련시킨다.\n",
        "y_pred5 = logistic_model.predict(X_test)# 그 모델로 test데이터를 사용해 예측\n",
        "\n",
        "print(classification_report(y_test, y_pred5)) # 결과 지표를 확인\n",
        "\n",
        "## 오류가 나는 것을 보아 이 방법은 적합한 방법이 아닌듯 함. "
      ]
    },
    {
      "cell_type": "markdown",
      "id": "44342109",
      "metadata": {
        "id": "44342109"
      },
      "source": [
        "### (6) 모델을 평가해 보기"
      ]
    },
    {
      "cell_type": "code",
      "execution_count": null,
      "id": "d53a37e4",
      "metadata": {
        "id": "d53a37e4",
        "outputId": "a6b5e9dc-51a8-4c82-89c6-ef3a98e9c90d"
      },
      "outputs": [
        {
          "name": "stdout",
          "output_type": "stream",
          "text": [
            "Decision Tree 정확도: 0.8416666666666667\n",
            "Random Forest 정확도: 0.9805555555555555\n",
            "SVM 정확도: 0.9861111111111112\n",
            "SGD Classifier 정확도: 0.9583333333333334\n",
            "Logistic Regression  정확도: 0.9694444444444444\n"
          ]
        }
      ],
      "source": [
        "# Decision Tree \n",
        "accuracy1 = accuracy_score(y_test, y_pred1) # y_pred(답안지)를 y_test(정답지)로 채점\n",
        "print('Decision Tree 정확도:', accuracy1) # 정확도 출력\n",
        "\n",
        "# Random Forest \n",
        "accuracy2 = accuracy_score(y_test, y_pred2) # y_pred(답안지)를 y_test(정답지)로 채점\n",
        "print('Random Forest 정확도:', accuracy2) # 정확도 출력\n",
        "\n",
        "# SVM \n",
        "accuracy3 = accuracy_score(y_test, y_pred3) # y_pred(답안지)를 y_test(정답지)로 채점\n",
        "print('SVM 정확도:', accuracy3) # 정확도 출력\n",
        "\n",
        "# SGD Classifier \n",
        "accuracy4 = accuracy_score(y_test, y_pred4) # y_pred(답안지)를 y_test(정답지)로 채점\n",
        "print('SGD Classifier 정확도:', accuracy4) # 정확도 출력\n",
        "\n",
        "# Logistic Regression \n",
        "accuracy5 = accuracy_score(y_test, y_pred5) # y_pred(답안지)를 y_test(정답지)로 채점\n",
        "print('Logistic Regression  정확도:', accuracy5) # 정확도 출력\n",
        "\n",
        "## 가장 정확도가 높은 모델은 SVM임을 알 수 있다. "
      ]
    },
    {
      "cell_type": "markdown",
      "id": "a40097f2",
      "metadata": {
        "id": "a40097f2"
      },
      "source": [
        "#### <평가지표 중 적절한 것은?>\n",
        "- SVM 평가지표가 가장 적절한 것 같다. "
      ]
    },
    {
      "cell_type": "code",
      "execution_count": null,
      "id": "54ba6b61",
      "metadata": {
        "id": "54ba6b61",
        "outputId": "41636292-4fa8-4ab7-feef-dae94e0cd8b8"
      },
      "outputs": [
        {
          "name": "stdout",
          "output_type": "stream",
          "text": [
            "Cross-validation scores:  [0.96111111 0.94444444 0.98328691 0.98885794 0.93871866]\n",
            "Average accuracy:  0.9632838130609718\n"
          ]
        }
      ],
      "source": [
        "## 교차검증을 한번 시도해보자..\n",
        "from sklearn.model_selection import cross_val_score\n",
        "from sklearn.ensemble import RandomForestClassifier\n",
        "\n",
        "svm_model = svm.SVC()\n",
        "scores = cross_val_score(svm_model, digits_data, digits_label, cv=5)  # cv는 교차 검증 분할 수를 의미합니다.\n",
        "\n",
        "# 각 교차 검증에서의 정확도 출력\n",
        "print(\"Cross-validation scores: \", scores)\n",
        "\n",
        "# 평균 정확도 출력\n",
        "print(\"Average accuracy: \", scores.mean())\n",
        "\n",
        "## 평균이 높게 나온 것으로 보아 아마 잘 분석이 된 것 같다. "
      ]
    },
    {
      "cell_type": "markdown",
      "id": "9e551ea4",
      "metadata": {
        "id": "9e551ea4"
      },
      "source": [
        "-----------------------------------------------------------\n",
        "# 1-12. 프로젝트 \n",
        "## (2) load_wine : 와인을 분류해 봅시다"
      ]
    },
    {
      "cell_type": "markdown",
      "id": "4fb97bda",
      "metadata": {
        "id": "4fb97bda"
      },
      "source": [
        "### (1) 필요한 모듈 import하기"
      ]
    },
    {
      "cell_type": "code",
      "execution_count": null,
      "id": "3abede3b",
      "metadata": {
        "id": "3abede3b"
      },
      "outputs": [],
      "source": [
        "from sklearn.datasets import load_wine\n",
        "from sklearn.model_selection import train_test_split\n",
        "from sklearn.metrics import classification_report"
      ]
    },
    {
      "cell_type": "markdown",
      "id": "e379f524",
      "metadata": {
        "id": "e379f524"
      },
      "source": [
        "### (2) 데이터 준비"
      ]
    },
    {
      "cell_type": "code",
      "execution_count": null,
      "id": "bf9bc8e7",
      "metadata": {
        "id": "bf9bc8e7",
        "outputId": "6d5039d3-091b-40d2-a85a-41fc627fcb24"
      },
      "outputs": [
        {
          "data": {
            "text/plain": [
              "dict_keys(['data', 'target', 'frame', 'target_names', 'DESCR', 'feature_names'])"
            ]
          },
          "execution_count": 419,
          "metadata": {},
          "output_type": "execute_result"
        }
      ],
      "source": [
        "wine = load_wine()\n",
        "wine.keys()"
      ]
    },
    {
      "cell_type": "markdown",
      "id": "f62171b6",
      "metadata": {
        "id": "f62171b6"
      },
      "source": [
        "### (3) 데이터 이해하기"
      ]
    },
    {
      "cell_type": "code",
      "execution_count": null,
      "id": "d8f219e5",
      "metadata": {
        "id": "d8f219e5",
        "outputId": "73e3b730-fd12-4001-ce31-b85a9d0d8df9"
      },
      "outputs": [
        {
          "data": {
            "text/plain": [
              "(178, 13)"
            ]
          },
          "execution_count": 420,
          "metadata": {},
          "output_type": "execute_result"
        }
      ],
      "source": [
        "## Feature Data 지정하기\n",
        "wine_data = wine.data\n",
        "wine_data.shape"
      ]
    },
    {
      "cell_type": "code",
      "execution_count": null,
      "id": "66c33125",
      "metadata": {
        "id": "66c33125",
        "outputId": "a386adfd-8e52-4c9e-a1f0-0bee6f8fad91"
      },
      "outputs": [
        {
          "name": "stdout",
          "output_type": "stream",
          "text": [
            "(178,)\n"
          ]
        },
        {
          "data": {
            "text/plain": [
              "array([0, 0, 0, 0, 0, 0, 0, 0, 0, 0, 0, 0, 0, 0, 0, 0, 0, 0, 0, 0, 0, 0,\n",
              "       0, 0, 0, 0, 0, 0, 0, 0, 0, 0, 0, 0, 0, 0, 0, 0, 0, 0, 0, 0, 0, 0,\n",
              "       0, 0, 0, 0, 0, 0, 0, 0, 0, 0, 0, 0, 0, 0, 0, 1, 1, 1, 1, 1, 1, 1,\n",
              "       1, 1, 1, 1, 1, 1, 1, 1, 1, 1, 1, 1, 1, 1, 1, 1, 1, 1, 1, 1, 1, 1,\n",
              "       1, 1, 1, 1, 1, 1, 1, 1, 1, 1, 1, 1, 1, 1, 1, 1, 1, 1, 1, 1, 1, 1,\n",
              "       1, 1, 1, 1, 1, 1, 1, 1, 1, 1, 1, 1, 1, 1, 1, 1, 1, 1, 1, 1, 2, 2,\n",
              "       2, 2, 2, 2, 2, 2, 2, 2, 2, 2, 2, 2, 2, 2, 2, 2, 2, 2, 2, 2, 2, 2,\n",
              "       2, 2, 2, 2, 2, 2, 2, 2, 2, 2, 2, 2, 2, 2, 2, 2, 2, 2, 2, 2, 2, 2,\n",
              "       2, 2])"
            ]
          },
          "execution_count": 421,
          "metadata": {},
          "output_type": "execute_result"
        }
      ],
      "source": [
        "## Label Data 지정하기\n",
        "wine_label = wine.target\n",
        "print(wine_label.shape)\n",
        "wine_label"
      ]
    },
    {
      "cell_type": "code",
      "execution_count": null,
      "id": "f50f602c",
      "metadata": {
        "id": "f50f602c",
        "outputId": "cc6bdbf4-f073-4677-e67d-a26e05bc1dd6"
      },
      "outputs": [
        {
          "data": {
            "text/plain": [
              "array(['class_0', 'class_1', 'class_2'], dtype='<U7')"
            ]
          },
          "execution_count": 422,
          "metadata": {},
          "output_type": "execute_result"
        }
      ],
      "source": [
        "## Target Names 출력해 보기\n",
        "wine.target_names"
      ]
    },
    {
      "cell_type": "code",
      "execution_count": null,
      "id": "91c6618d",
      "metadata": {
        "id": "91c6618d",
        "outputId": "5fbbbe67-3c28-4e48-fc40-a9863a705ea7"
      },
      "outputs": [
        {
          "name": "stdout",
          "output_type": "stream",
          "text": [
            ".. _wine_dataset:\n",
            "\n",
            "Wine recognition dataset\n",
            "------------------------\n",
            "\n",
            "**Data Set Characteristics:**\n",
            "\n",
            "    :Number of Instances: 178 (50 in each of three classes)\n",
            "    :Number of Attributes: 13 numeric, predictive attributes and the class\n",
            "    :Attribute Information:\n",
            " \t\t- Alcohol\n",
            " \t\t- Malic acid\n",
            " \t\t- Ash\n",
            "\t\t- Alcalinity of ash  \n",
            " \t\t- Magnesium\n",
            "\t\t- Total phenols\n",
            " \t\t- Flavanoids\n",
            " \t\t- Nonflavanoid phenols\n",
            " \t\t- Proanthocyanins\n",
            "\t\t- Color intensity\n",
            " \t\t- Hue\n",
            " \t\t- OD280/OD315 of diluted wines\n",
            " \t\t- Proline\n",
            "\n",
            "    - class:\n",
            "            - class_0\n",
            "            - class_1\n",
            "            - class_2\n",
            "\t\t\n",
            "    :Summary Statistics:\n",
            "    \n",
            "    ============================= ==== ===== ======= =====\n",
            "                                   Min   Max   Mean     SD\n",
            "    ============================= ==== ===== ======= =====\n",
            "    Alcohol:                      11.0  14.8    13.0   0.8\n",
            "    Malic Acid:                   0.74  5.80    2.34  1.12\n",
            "    Ash:                          1.36  3.23    2.36  0.27\n",
            "    Alcalinity of Ash:            10.6  30.0    19.5   3.3\n",
            "    Magnesium:                    70.0 162.0    99.7  14.3\n",
            "    Total Phenols:                0.98  3.88    2.29  0.63\n",
            "    Flavanoids:                   0.34  5.08    2.03  1.00\n",
            "    Nonflavanoid Phenols:         0.13  0.66    0.36  0.12\n",
            "    Proanthocyanins:              0.41  3.58    1.59  0.57\n",
            "    Colour Intensity:              1.3  13.0     5.1   2.3\n",
            "    Hue:                          0.48  1.71    0.96  0.23\n",
            "    OD280/OD315 of diluted wines: 1.27  4.00    2.61  0.71\n",
            "    Proline:                       278  1680     746   315\n",
            "    ============================= ==== ===== ======= =====\n",
            "\n",
            "    :Missing Attribute Values: None\n",
            "    :Class Distribution: class_0 (59), class_1 (71), class_2 (48)\n",
            "    :Creator: R.A. Fisher\n",
            "    :Donor: Michael Marshall (MARSHALL%PLU@io.arc.nasa.gov)\n",
            "    :Date: July, 1988\n",
            "\n",
            "This is a copy of UCI ML Wine recognition datasets.\n",
            "https://archive.ics.uci.edu/ml/machine-learning-databases/wine/wine.data\n",
            "\n",
            "The data is the results of a chemical analysis of wines grown in the same\n",
            "region in Italy by three different cultivators. There are thirteen different\n",
            "measurements taken for different constituents found in the three types of\n",
            "wine.\n",
            "\n",
            "Original Owners: \n",
            "\n",
            "Forina, M. et al, PARVUS - \n",
            "An Extendible Package for Data Exploration, Classification and Correlation. \n",
            "Institute of Pharmaceutical and Food Analysis and Technologies,\n",
            "Via Brigata Salerno, 16147 Genoa, Italy.\n",
            "\n",
            "Citation:\n",
            "\n",
            "Lichman, M. (2013). UCI Machine Learning Repository\n",
            "[https://archive.ics.uci.edu/ml]. Irvine, CA: University of California,\n",
            "School of Information and Computer Science. \n",
            "\n",
            ".. topic:: References\n",
            "\n",
            "  (1) S. Aeberhard, D. Coomans and O. de Vel, \n",
            "  Comparison of Classifiers in High Dimensional Settings, \n",
            "  Tech. Rep. no. 92-02, (1992), Dept. of Computer Science and Dept. of  \n",
            "  Mathematics and Statistics, James Cook University of North Queensland. \n",
            "  (Also submitted to Technometrics). \n",
            "\n",
            "  The data was used with many others for comparing various \n",
            "  classifiers. The classes are separable, though only RDA \n",
            "  has achieved 100% correct classification. \n",
            "  (RDA : 100%, QDA 99.4%, LDA 98.9%, 1NN 96.1% (z-transformed data)) \n",
            "  (All results using the leave-one-out technique) \n",
            "\n",
            "  (2) S. Aeberhard, D. Coomans and O. de Vel, \n",
            "  \"THE CLASSIFICATION PERFORMANCE OF RDA\" \n",
            "  Tech. Rep. no. 92-01, (1992), Dept. of Computer Science and Dept. of \n",
            "  Mathematics and Statistics, James Cook University of North Queensland. \n",
            "  (Also submitted to Journal of Chemometrics).\n",
            "\n"
          ]
        }
      ],
      "source": [
        "## 데이터 Describe 해 보기\n",
        "print(wine.DESCR)"
      ]
    },
    {
      "cell_type": "markdown",
      "id": "41565391",
      "metadata": {
        "id": "41565391"
      },
      "source": [
        "### (4) train, test 데이터 분리"
      ]
    },
    {
      "cell_type": "code",
      "execution_count": null,
      "id": "3d304f1e",
      "metadata": {
        "id": "3d304f1e",
        "outputId": "8d576347-cf27-4880-97c0-cad1370adf1d"
      },
      "outputs": [
        {
          "name": "stdout",
          "output_type": "stream",
          "text": [
            "X_train 개수: 142 , X_test 개수: 36\n"
          ]
        }
      ],
      "source": [
        "X_train, X_test, y_train, y_test = train_test_split(wine_data, \n",
        "                                                    wine_label, \n",
        "                                                    test_size=0.2, \n",
        "                                                    random_state=42)\n",
        "\n",
        "print('X_train 개수:',len(X_train), ', X_test 개수:', len(X_test))"
      ]
    },
    {
      "cell_type": "code",
      "execution_count": null,
      "id": "33ae401f",
      "metadata": {
        "id": "33ae401f",
        "outputId": "7a522b7b-1f51-4cf8-807a-807924747905"
      },
      "outputs": [
        {
          "data": {
            "text/plain": [
              "((142, 13), (142,))"
            ]
          },
          "execution_count": 425,
          "metadata": {},
          "output_type": "execute_result"
        }
      ],
      "source": [
        "X_train.shape, y_train.shape"
      ]
    },
    {
      "cell_type": "code",
      "execution_count": null,
      "id": "49c40fcf",
      "metadata": {
        "id": "49c40fcf",
        "outputId": "4eb96383-55a3-45cf-a6a7-461f74a61673"
      },
      "outputs": [
        {
          "data": {
            "text/plain": [
              "((36, 13), (36,))"
            ]
          },
          "execution_count": 426,
          "metadata": {},
          "output_type": "execute_result"
        }
      ],
      "source": [
        "X_test.shape, y_test.shape"
      ]
    },
    {
      "cell_type": "code",
      "execution_count": null,
      "id": "3aeb7b5e",
      "metadata": {
        "id": "3aeb7b5e",
        "outputId": "077c25a6-1991-4461-ee5c-4b061c33e281"
      },
      "outputs": [
        {
          "data": {
            "text/plain": [
              "((142,), (36,))"
            ]
          },
          "execution_count": 427,
          "metadata": {},
          "output_type": "execute_result"
        }
      ],
      "source": [
        "y_train.shape, y_test.shape"
      ]
    },
    {
      "cell_type": "markdown",
      "id": "6c5d9a0a",
      "metadata": {
        "id": "6c5d9a0a"
      },
      "source": [
        "### (5) 다양한 모델로 학습시켜보기"
      ]
    },
    {
      "cell_type": "code",
      "execution_count": null,
      "id": "f82a441d",
      "metadata": {
        "id": "f82a441d",
        "outputId": "899825ae-24eb-473b-a87a-096bb87af62f"
      },
      "outputs": [
        {
          "name": "stdout",
          "output_type": "stream",
          "text": [
            "              precision    recall  f1-score   support\n",
            "\n",
            "           0       0.93      0.93      0.93        14\n",
            "           1       0.93      1.00      0.97        14\n",
            "           2       1.00      0.88      0.93         8\n",
            "\n",
            "    accuracy                           0.94        36\n",
            "   macro avg       0.95      0.93      0.94        36\n",
            "weighted avg       0.95      0.94      0.94        36\n",
            "\n"
          ]
        }
      ],
      "source": [
        "## Decision Tree 사용해 보기\n",
        "from sklearn.tree import DecisionTreeClassifier\n",
        "\n",
        "decision_tree = DecisionTreeClassifier(random_state=42) #결정트리분류기의 객체를 만든다.\n",
        "\n",
        "decision_tree.fit(X_train, y_train) # 분류기에 x와 y의 훈련 데이터를 넣어 훈련 시킨다.\n",
        "\n",
        "y_pred1 = decision_tree.predict(X_test) # 훈련된 분류기에 X_test라는 테스트 데이터셋을 넣어 얼마나 예측했는지 확인한다.\n",
        "\n",
        "print(classification_report(y_test, y_pred1)) \n",
        "# 결과를 지표로 확인하기 위해 classification_report를 활용해 y_test, y_pred 값을 넣어 확인한다."
      ]
    },
    {
      "cell_type": "code",
      "execution_count": null,
      "id": "001581a1",
      "metadata": {
        "id": "001581a1",
        "outputId": "620d3473-582d-4cf8-e53c-28badf0afcea"
      },
      "outputs": [
        {
          "name": "stdout",
          "output_type": "stream",
          "text": [
            "              precision    recall  f1-score   support\n",
            "\n",
            "           0       1.00      1.00      1.00        14\n",
            "           1       1.00      1.00      1.00        14\n",
            "           2       1.00      1.00      1.00         8\n",
            "\n",
            "    accuracy                           1.00        36\n",
            "   macro avg       1.00      1.00      1.00        36\n",
            "weighted avg       1.00      1.00      1.00        36\n",
            "\n"
          ]
        }
      ],
      "source": [
        "## Random Forest 사용해 보기\n",
        "\n",
        "from sklearn.ensemble import RandomForestClassifier\n",
        "\n",
        "random_forest = RandomForestClassifier(random_state=42) # RandomForest분류기 객체를 생성\n",
        "\n",
        "random_forest.fit(X_train, y_train) # 훈련\n",
        "\n",
        "y_pred2 = random_forest.predict(X_test) # 예측\n",
        "\n",
        "print(classification_report(y_test, y_pred2)) # 결과 지표를 확인"
      ]
    },
    {
      "cell_type": "code",
      "execution_count": null,
      "id": "a1f86724",
      "metadata": {
        "id": "a1f86724",
        "outputId": "be722afa-cb5e-43ae-eb36-af13e5f4af6e"
      },
      "outputs": [
        {
          "name": "stdout",
          "output_type": "stream",
          "text": [
            "              precision    recall  f1-score   support\n",
            "\n",
            "           0       1.00      1.00      1.00        14\n",
            "           1       0.73      0.79      0.76        14\n",
            "           2       0.57      0.50      0.53         8\n",
            "\n",
            "    accuracy                           0.81        36\n",
            "   macro avg       0.77      0.76      0.76        36\n",
            "weighted avg       0.80      0.81      0.80        36\n",
            "\n"
          ]
        }
      ],
      "source": [
        "## SVM 사용해 보기\n",
        "\n",
        "from sklearn import svm #Support Vector Machine을 사용하기 위해 import\n",
        "svm_model = svm.SVC() # 모델 객체를 만든다.\n",
        "\n",
        "svm_model.fit(X_train, y_train) # 훈련\n",
        "y_pred3 = svm_model.predict(X_test) # 예측\n",
        "\n",
        "print(classification_report(y_test, y_pred3)) # 결과 지표를 확인"
      ]
    },
    {
      "cell_type": "code",
      "execution_count": null,
      "id": "e3f43ce0",
      "metadata": {
        "id": "e3f43ce0",
        "outputId": "e0aad63a-7686-4c4c-b397-d156865846c7"
      },
      "outputs": [
        {
          "name": "stdout",
          "output_type": "stream",
          "text": [
            "              precision    recall  f1-score   support\n",
            "\n",
            "           0       0.56      1.00      0.72        14\n",
            "           1       0.86      0.43      0.57        14\n",
            "           2       0.75      0.38      0.50         8\n",
            "\n",
            "    accuracy                           0.64        36\n",
            "   macro avg       0.72      0.60      0.60        36\n",
            "weighted avg       0.72      0.64      0.61        36\n",
            "\n"
          ]
        }
      ],
      "source": [
        "## SGD Classifier 사용해 보기\n",
        "from sklearn.linear_model import SGDClassifier #선형분류기인 SGDClassifier를 사용하기 위한 import\n",
        "sgd_model = SGDClassifier() # 모델 객체 생성\n",
        "\n",
        "sgd_model.fit(X_train, y_train) # sgd모델로 훈련데이터로 훈련시킨다.\n",
        "y_pred4 = sgd_model.predict(X_test)# 그 모델로 test데이터를 사용해 예측\n",
        "\n",
        "print(classification_report(y_test, y_pred4)) # 결과 지표를 확인"
      ]
    },
    {
      "cell_type": "code",
      "execution_count": null,
      "id": "dc64a8d7",
      "metadata": {
        "id": "dc64a8d7",
        "outputId": "2a94a532-0a1d-4f4b-a0a4-b268ed1a1a5c"
      },
      "outputs": [
        {
          "name": "stdout",
          "output_type": "stream",
          "text": [
            "              precision    recall  f1-score   support\n",
            "\n",
            "           0       1.00      0.93      0.96        14\n",
            "           1       0.93      1.00      0.97        14\n",
            "           2       1.00      1.00      1.00         8\n",
            "\n",
            "    accuracy                           0.97        36\n",
            "   macro avg       0.98      0.98      0.98        36\n",
            "weighted avg       0.97      0.97      0.97        36\n",
            "\n"
          ]
        },
        {
          "name": "stderr",
          "output_type": "stream",
          "text": [
            "/opt/conda/lib/python3.9/site-packages/sklearn/linear_model/_logistic.py:814: ConvergenceWarning: lbfgs failed to converge (status=1):\n",
            "STOP: TOTAL NO. of ITERATIONS REACHED LIMIT.\n",
            "\n",
            "Increase the number of iterations (max_iter) or scale the data as shown in:\n",
            "    https://scikit-learn.org/stable/modules/preprocessing.html\n",
            "Please also refer to the documentation for alternative solver options:\n",
            "    https://scikit-learn.org/stable/modules/linear_model.html#logistic-regression\n",
            "  n_iter_i = _check_optimize_result(\n"
          ]
        }
      ],
      "source": [
        "## Logistic Regression 사용해 보기\n",
        "from sklearn.linear_model import LogisticRegression # 선형분류기인 LogisticRegression를 사용하기 위한 import\n",
        "logistic_model = LogisticRegression() # 모델 객체 생성\n",
        "\n",
        "logistic_model.fit(X_train, y_train) # 훈련데이터로 훈련시킨다.\n",
        "y_pred5 = logistic_model.predict(X_test)# 그 모델로 test데이터를 사용해 예측\n",
        "\n",
        "print(classification_report(y_test, y_pred5)) # 결과 지표를 확인"
      ]
    },
    {
      "cell_type": "code",
      "execution_count": null,
      "id": "5a26fa85",
      "metadata": {
        "id": "5a26fa85",
        "outputId": "c5dedf73-5fb1-4821-b8d6-3fbe9102aa48"
      },
      "outputs": [
        {
          "name": "stdout",
          "output_type": "stream",
          "text": [
            "              precision    recall  f1-score   support\n",
            "\n",
            "           0       1.00      0.93      0.96        14\n",
            "           1       0.93      1.00      0.97        14\n",
            "           2       1.00      1.00      1.00         8\n",
            "\n",
            "    accuracy                           0.97        36\n",
            "   macro avg       0.98      0.98      0.98        36\n",
            "weighted avg       0.97      0.97      0.97        36\n",
            "\n"
          ]
        }
      ],
      "source": [
        "## Logistic Regression 사용해 보기 (정규화 적용)\n",
        "\n",
        "# L1 정규화 적용한 Logistic Regression 모델 생성\n",
        "logistic_model = LogisticRegression(penalty='l1', solver='liblinear', C=1.0, max_iter=1000)\n",
        "logistic_model.fit(X_train, y_train) # 훈련데이터로 훈련시킨다.\n",
        "y_pred6 = logistic_model.predict(X_test)# 그 모델로 test데이터를 사용해 예측\n",
        "\n",
        "print(classification_report(y_test, y_pred6)) # 결과 지표를 확인"
      ]
    },
    {
      "cell_type": "markdown",
      "id": "19411aeb",
      "metadata": {
        "id": "19411aeb"
      },
      "source": [
        "### (6) 모델을 평가해 보기"
      ]
    },
    {
      "cell_type": "code",
      "execution_count": null,
      "id": "aa0a601f",
      "metadata": {
        "id": "aa0a601f",
        "outputId": "9a066e81-520e-4a08-979b-f70155bea2cc"
      },
      "outputs": [
        {
          "name": "stdout",
          "output_type": "stream",
          "text": [
            "Decision Tree 정확도: 0.9444444444444444\n",
            "Random Forest 정확도: 1.0\n",
            "SVM 정확도: 0.8055555555555556\n",
            "SGD Classifier 정확도: 0.6388888888888888\n",
            "Logistic Regression  정확도: 0.9722222222222222\n",
            "Logistic Regression(정규화적용)  정확도: 0.9722222222222222\n"
          ]
        }
      ],
      "source": [
        "# Decision Tree \n",
        "accuracy1 = accuracy_score(y_test, y_pred1) # y_pred(답안지)를 y_test(정답지)로 채점\n",
        "print('Decision Tree 정확도:', accuracy1) # 정확도 출력\n",
        "\n",
        "# Random Forest \n",
        "accuracy2 = accuracy_score(y_test, y_pred2) # y_pred(답안지)를 y_test(정답지)로 채점\n",
        "print('Random Forest 정확도:', accuracy2) # 정확도 출력\n",
        "\n",
        "# SVM \n",
        "accuracy3 = accuracy_score(y_test, y_pred3) # y_pred(답안지)를 y_test(정답지)로 채점\n",
        "print('SVM 정확도:', accuracy3) # 정확도 출력\n",
        "\n",
        "# SGD Classifier \n",
        "accuracy4 = accuracy_score(y_test, y_pred4) # y_pred(답안지)를 y_test(정답지)로 채점\n",
        "print('SGD Classifier 정확도:', accuracy4) # 정확도 출력\n",
        "\n",
        "# Logistic Regression \n",
        "accuracy5 = accuracy_score(y_test, y_pred5) # y_pred(답안지)를 y_test(정답지)로 채점\n",
        "print('Logistic Regression  정확도:', accuracy5) # 정확도 출력\n",
        "\n",
        "# Logistic Regression (정규화 적용)\n",
        "accuracy6 = accuracy_score(y_test, y_pred6) # y_pred(답안지)를 y_test(정답지)로 채점\n",
        "print('Logistic Regression(정규화적용)  정확도:', accuracy5) # 정확도 출력\n",
        "\n",
        "## 가장 정확도가 높은 모델은 Random Forest임을 알 수 있다. \n",
        "## 어떻게 logistic이랑 같은 값이 나오지?"
      ]
    },
    {
      "cell_type": "markdown",
      "id": "32e46d6b",
      "metadata": {
        "id": "32e46d6b"
      },
      "source": [
        "#### <평가지표 중 적절한 것은?>\n",
        "- 가장 적절한 평가지표는 정확도가 1로 나온 random forest라고 할 수 있다. (흠, 근데 1이 나왔다는 건 오버피팅이 되었을 가능성이 높다는 것이기 때문에 적절하게 분석이 된 건지 검산 할 수 있는 방법을 찾아서 교차검증을 하는 것이 좋을 듯 하다. 방법은 아직;;)\n"
      ]
    },
    {
      "cell_type": "code",
      "execution_count": null,
      "id": "e820e759",
      "metadata": {
        "id": "e820e759",
        "outputId": "1c8a5f1c-be25-4934-923c-6e5f8d4ecb75"
      },
      "outputs": [
        {
          "name": "stdout",
          "output_type": "stream",
          "text": [
            "Cross-validation scores:  [0.91666667 0.94444444 0.94444444 1.         1.        ]\n",
            "Average accuracy:  0.961111111111111\n"
          ]
        }
      ],
      "source": [
        "## 교차검증을 한번 시도해보자..\n",
        "from sklearn.model_selection import cross_val_score\n",
        "from sklearn.ensemble import RandomForestClassifier\n",
        "\n",
        "random_forest = RandomForestClassifier()\n",
        "scores = cross_val_score(random_forest, wine_data, wine_label, cv=5)  # cv는 교차 검증 분할 수를 의미합니다.\n",
        "\n",
        "# 각 교차 검증에서의 정확도 출력\n",
        "print(\"Cross-validation scores: \", scores)\n",
        "\n",
        "# 평균 정확도 출력\n",
        "print(\"Average accuracy: \", scores.mean())\n",
        "\n",
        "## 평균이 높게 나온 것으로 보아 아마 잘 분석이 된 것 같다. "
      ]
    },
    {
      "cell_type": "markdown",
      "id": "6aa65b2a",
      "metadata": {
        "id": "6aa65b2a"
      },
      "source": [
        "-------------------------------\n",
        "# 1-13. 프로젝트 \n",
        "## (3) load_breast_cancer : 유방암 여부를 진단해 봅시다"
      ]
    },
    {
      "cell_type": "markdown",
      "id": "c713a6fc",
      "metadata": {
        "id": "c713a6fc"
      },
      "source": [
        "### (1) 필요한 모듈 import하기"
      ]
    },
    {
      "cell_type": "code",
      "execution_count": null,
      "id": "a04b210d",
      "metadata": {
        "id": "a04b210d"
      },
      "outputs": [],
      "source": [
        "from sklearn.datasets import load_breast_cancer\n",
        "from sklearn.model_selection import train_test_split\n",
        "from sklearn.metrics import classification_report"
      ]
    },
    {
      "cell_type": "markdown",
      "id": "e8ec0aee",
      "metadata": {
        "id": "e8ec0aee"
      },
      "source": [
        "### (2) 데이터 준비"
      ]
    },
    {
      "cell_type": "code",
      "execution_count": null,
      "id": "1d64ee2a",
      "metadata": {
        "id": "1d64ee2a",
        "outputId": "b8073dfa-13a6-41bf-89d6-1ce59914d47c"
      },
      "outputs": [
        {
          "name": "stdout",
          "output_type": "stream",
          "text": [
            "['DESCR', 'data', 'data_module', 'feature_names', 'filename', 'frame', 'target', 'target_names']\n"
          ]
        }
      ],
      "source": [
        "## load_breast_cancer 메서드를 사용합니다.\n",
        "\n",
        "breast_cancer = load_breast_cancer()\n",
        "print(dir(breast_cancer))"
      ]
    },
    {
      "cell_type": "markdown",
      "id": "f2b21b91",
      "metadata": {
        "id": "f2b21b91"
      },
      "source": [
        "### (3) 데이터 이해하기"
      ]
    },
    {
      "cell_type": "code",
      "execution_count": null,
      "id": "0693eaca",
      "metadata": {
        "id": "0693eaca",
        "outputId": "251bd1b8-909d-419c-8ca2-cfcb6138fb57"
      },
      "outputs": [
        {
          "data": {
            "text/plain": [
              "dict_keys(['data', 'target', 'frame', 'target_names', 'DESCR', 'feature_names', 'filename', 'data_module'])"
            ]
          },
          "execution_count": 437,
          "metadata": {},
          "output_type": "execute_result"
        }
      ],
      "source": [
        "## Feature Data 지정하기\n",
        "breast_cancer.keys()"
      ]
    },
    {
      "cell_type": "code",
      "execution_count": null,
      "id": "368c0f27",
      "metadata": {
        "id": "368c0f27",
        "outputId": "97aa28e2-6d2a-490f-9e48-6398d214aacf"
      },
      "outputs": [
        {
          "name": "stdout",
          "output_type": "stream",
          "text": [
            "(569, 30)\n"
          ]
        }
      ],
      "source": [
        "breast_cancer_data = breast_cancer.data\n",
        "print(breast_cancer_data.shape)\n",
        "\n",
        "## 569개의 데이터가 각각 30개의 정보를 담고 있는 것으로 보임."
      ]
    },
    {
      "cell_type": "code",
      "execution_count": null,
      "id": "905f2018",
      "metadata": {
        "id": "905f2018",
        "outputId": "22fcf777-d0bc-4cf3-d870-909e7395d755"
      },
      "outputs": [
        {
          "data": {
            "text/plain": [
              "array([1.799e+01, 1.038e+01, 1.228e+02, 1.001e+03, 1.184e-01, 2.776e-01,\n",
              "       3.001e-01, 1.471e-01, 2.419e-01, 7.871e-02, 1.095e+00, 9.053e-01,\n",
              "       8.589e+00, 1.534e+02, 6.399e-03, 4.904e-02, 5.373e-02, 1.587e-02,\n",
              "       3.003e-02, 6.193e-03, 2.538e+01, 1.733e+01, 1.846e+02, 2.019e+03,\n",
              "       1.622e-01, 6.656e-01, 7.119e-01, 2.654e-01, 4.601e-01, 1.189e-01])"
            ]
          },
          "execution_count": 439,
          "metadata": {},
          "output_type": "execute_result"
        }
      ],
      "source": [
        "breast_cancer_data[0]\n",
        "\n",
        "## 30개의 결과 출력"
      ]
    },
    {
      "cell_type": "code",
      "execution_count": null,
      "id": "fc3bf20f",
      "metadata": {
        "id": "fc3bf20f",
        "outputId": "fbc03bd0-a357-460e-c3d3-de709ab3f962"
      },
      "outputs": [
        {
          "name": "stdout",
          "output_type": "stream",
          "text": [
            "(569,)\n"
          ]
        },
        {
          "data": {
            "text/plain": [
              "array([0, 0, 0, 0, 0, 0, 0, 0, 0, 0, 0, 0, 0, 0, 0, 0, 0, 0, 0, 1, 1, 1,\n",
              "       0, 0, 0, 0, 0, 0, 0, 0, 0, 0, 0, 0, 0, 0, 0, 1, 0, 0, 0, 0, 0, 0,\n",
              "       0, 0, 1, 0, 1, 1, 1, 1, 1, 0, 0, 1, 0, 0, 1, 1, 1, 1, 0, 1, 0, 0,\n",
              "       1, 1, 1, 1, 0, 1, 0, 0, 1, 0, 1, 0, 0, 1, 1, 1, 0, 0, 1, 0, 0, 0,\n",
              "       1, 1, 1, 0, 1, 1, 0, 0, 1, 1, 1, 0, 0, 1, 1, 1, 1, 0, 1, 1, 0, 1,\n",
              "       1, 1, 1, 1, 1, 1, 1, 0, 0, 0, 1, 0, 0, 1, 1, 1, 0, 0, 1, 0, 1, 0,\n",
              "       0, 1, 0, 0, 1, 1, 0, 1, 1, 0, 1, 1, 1, 1, 0, 1, 1, 1, 1, 1, 1, 1,\n",
              "       1, 1, 0, 1, 1, 1, 1, 0, 0, 1, 0, 1, 1, 0, 0, 1, 1, 0, 0, 1, 1, 1,\n",
              "       1, 0, 1, 1, 0, 0, 0, 1, 0, 1, 0, 1, 1, 1, 0, 1, 1, 0, 0, 1, 0, 0,\n",
              "       0, 0, 1, 0, 0, 0, 1, 0, 1, 0, 1, 1, 0, 1, 0, 0, 0, 0, 1, 1, 0, 0,\n",
              "       1, 1, 1, 0, 1, 1, 1, 1, 1, 0, 0, 1, 1, 0, 1, 1, 0, 0, 1, 0, 1, 1,\n",
              "       1, 1, 0, 1, 1, 1, 1, 1, 0, 1, 0, 0, 0, 0, 0, 0, 0, 0, 0, 0, 0, 0,\n",
              "       0, 0, 1, 1, 1, 1, 1, 1, 0, 1, 0, 1, 1, 0, 1, 1, 0, 1, 0, 0, 1, 1,\n",
              "       1, 1, 1, 1, 1, 1, 1, 1, 1, 1, 1, 0, 1, 1, 0, 1, 0, 1, 1, 1, 1, 1,\n",
              "       1, 1, 1, 1, 1, 1, 1, 1, 1, 0, 1, 1, 1, 0, 1, 0, 1, 1, 1, 1, 0, 0,\n",
              "       0, 1, 1, 1, 1, 0, 1, 0, 1, 0, 1, 1, 1, 0, 1, 1, 1, 1, 1, 1, 1, 0,\n",
              "       0, 0, 1, 1, 1, 1, 1, 1, 1, 1, 1, 1, 1, 0, 0, 1, 0, 0, 0, 1, 0, 0,\n",
              "       1, 1, 1, 1, 1, 0, 1, 1, 1, 1, 1, 0, 1, 1, 1, 0, 1, 1, 0, 0, 1, 1,\n",
              "       1, 1, 1, 1, 0, 1, 1, 1, 1, 1, 1, 1, 0, 1, 1, 1, 1, 1, 0, 1, 1, 0,\n",
              "       1, 1, 1, 1, 1, 1, 1, 1, 1, 1, 1, 1, 0, 1, 0, 0, 1, 0, 1, 1, 1, 1,\n",
              "       1, 0, 1, 1, 0, 1, 0, 1, 1, 0, 1, 0, 1, 1, 1, 1, 1, 1, 1, 1, 0, 0,\n",
              "       1, 1, 1, 1, 1, 1, 0, 1, 1, 1, 1, 1, 1, 1, 1, 1, 1, 0, 1, 1, 1, 1,\n",
              "       1, 1, 1, 0, 1, 0, 1, 1, 0, 1, 1, 1, 1, 1, 0, 0, 1, 0, 1, 0, 1, 1,\n",
              "       1, 1, 1, 0, 1, 1, 0, 1, 0, 1, 0, 0, 1, 1, 1, 0, 1, 1, 1, 1, 1, 1,\n",
              "       1, 1, 1, 1, 1, 0, 1, 0, 0, 1, 1, 1, 1, 1, 1, 1, 1, 1, 1, 1, 1, 1,\n",
              "       1, 1, 1, 1, 1, 1, 1, 1, 1, 1, 1, 1, 0, 0, 0, 0, 0, 0, 1])"
            ]
          },
          "execution_count": 440,
          "metadata": {},
          "output_type": "execute_result"
        }
      ],
      "source": [
        "## Label Data 지정하기\n",
        "\n",
        "breast_cancer_label = breast_cancer.target\n",
        "# keys에서 확인한 정보 중 target을 따로 breast_cancer_label 변수에 저장\n",
        "\n",
        "print(breast_cancer_label.shape)\n",
        "breast_cancer_label"
      ]
    },
    {
      "cell_type": "code",
      "execution_count": null,
      "id": "321add59",
      "metadata": {
        "id": "321add59",
        "outputId": "348723cf-4fd6-4a3e-c518-1e36df39a0db"
      },
      "outputs": [
        {
          "data": {
            "text/plain": [
              "array(['malignant', 'benign'], dtype='<U9')"
            ]
          },
          "execution_count": 441,
          "metadata": {},
          "output_type": "execute_result"
        }
      ],
      "source": [
        "## Target Names 출력해 보기\n",
        "\n",
        "breast_cancer.target_names\n",
        "# keys에서 확인한 정보 중 target_names를 변수에 따로 저장하지 않고 호출\n",
        "# breast_cancer_label이 가진 0,1,2의 이름 확인"
      ]
    },
    {
      "cell_type": "code",
      "execution_count": null,
      "id": "593ec6d3",
      "metadata": {
        "id": "593ec6d3",
        "outputId": "10e7bb0b-8cce-4af5-ea7b-67c0975c3bef"
      },
      "outputs": [
        {
          "name": "stdout",
          "output_type": "stream",
          "text": [
            ".. _breast_cancer_dataset:\n",
            "\n",
            "Breast cancer wisconsin (diagnostic) dataset\n",
            "--------------------------------------------\n",
            "\n",
            "**Data Set Characteristics:**\n",
            "\n",
            "    :Number of Instances: 569\n",
            "\n",
            "    :Number of Attributes: 30 numeric, predictive attributes and the class\n",
            "\n",
            "    :Attribute Information:\n",
            "        - radius (mean of distances from center to points on the perimeter)\n",
            "        - texture (standard deviation of gray-scale values)\n",
            "        - perimeter\n",
            "        - area\n",
            "        - smoothness (local variation in radius lengths)\n",
            "        - compactness (perimeter^2 / area - 1.0)\n",
            "        - concavity (severity of concave portions of the contour)\n",
            "        - concave points (number of concave portions of the contour)\n",
            "        - symmetry\n",
            "        - fractal dimension (\"coastline approximation\" - 1)\n",
            "\n",
            "        The mean, standard error, and \"worst\" or largest (mean of the three\n",
            "        worst/largest values) of these features were computed for each image,\n",
            "        resulting in 30 features.  For instance, field 0 is Mean Radius, field\n",
            "        10 is Radius SE, field 20 is Worst Radius.\n",
            "\n",
            "        - class:\n",
            "                - WDBC-Malignant\n",
            "                - WDBC-Benign\n",
            "\n",
            "    :Summary Statistics:\n",
            "\n",
            "    ===================================== ====== ======\n",
            "                                           Min    Max\n",
            "    ===================================== ====== ======\n",
            "    radius (mean):                        6.981  28.11\n",
            "    texture (mean):                       9.71   39.28\n",
            "    perimeter (mean):                     43.79  188.5\n",
            "    area (mean):                          143.5  2501.0\n",
            "    smoothness (mean):                    0.053  0.163\n",
            "    compactness (mean):                   0.019  0.345\n",
            "    concavity (mean):                     0.0    0.427\n",
            "    concave points (mean):                0.0    0.201\n",
            "    symmetry (mean):                      0.106  0.304\n",
            "    fractal dimension (mean):             0.05   0.097\n",
            "    radius (standard error):              0.112  2.873\n",
            "    texture (standard error):             0.36   4.885\n",
            "    perimeter (standard error):           0.757  21.98\n",
            "    area (standard error):                6.802  542.2\n",
            "    smoothness (standard error):          0.002  0.031\n",
            "    compactness (standard error):         0.002  0.135\n",
            "    concavity (standard error):           0.0    0.396\n",
            "    concave points (standard error):      0.0    0.053\n",
            "    symmetry (standard error):            0.008  0.079\n",
            "    fractal dimension (standard error):   0.001  0.03\n",
            "    radius (worst):                       7.93   36.04\n",
            "    texture (worst):                      12.02  49.54\n",
            "    perimeter (worst):                    50.41  251.2\n",
            "    area (worst):                         185.2  4254.0\n",
            "    smoothness (worst):                   0.071  0.223\n",
            "    compactness (worst):                  0.027  1.058\n",
            "    concavity (worst):                    0.0    1.252\n",
            "    concave points (worst):               0.0    0.291\n",
            "    symmetry (worst):                     0.156  0.664\n",
            "    fractal dimension (worst):            0.055  0.208\n",
            "    ===================================== ====== ======\n",
            "\n",
            "    :Missing Attribute Values: None\n",
            "\n",
            "    :Class Distribution: 212 - Malignant, 357 - Benign\n",
            "\n",
            "    :Creator:  Dr. William H. Wolberg, W. Nick Street, Olvi L. Mangasarian\n",
            "\n",
            "    :Donor: Nick Street\n",
            "\n",
            "    :Date: November, 1995\n",
            "\n",
            "This is a copy of UCI ML Breast Cancer Wisconsin (Diagnostic) datasets.\n",
            "https://goo.gl/U2Uwz2\n",
            "\n",
            "Features are computed from a digitized image of a fine needle\n",
            "aspirate (FNA) of a breast mass.  They describe\n",
            "characteristics of the cell nuclei present in the image.\n",
            "\n",
            "Separating plane described above was obtained using\n",
            "Multisurface Method-Tree (MSM-T) [K. P. Bennett, \"Decision Tree\n",
            "Construction Via Linear Programming.\" Proceedings of the 4th\n",
            "Midwest Artificial Intelligence and Cognitive Science Society,\n",
            "pp. 97-101, 1992], a classification method which uses linear\n",
            "programming to construct a decision tree.  Relevant features\n",
            "were selected using an exhaustive search in the space of 1-4\n",
            "features and 1-3 separating planes.\n",
            "\n",
            "The actual linear program used to obtain the separating plane\n",
            "in the 3-dimensional space is that described in:\n",
            "[K. P. Bennett and O. L. Mangasarian: \"Robust Linear\n",
            "Programming Discrimination of Two Linearly Inseparable Sets\",\n",
            "Optimization Methods and Software 1, 1992, 23-34].\n",
            "\n",
            "This database is also available through the UW CS ftp server:\n",
            "\n",
            "ftp ftp.cs.wisc.edu\n",
            "cd math-prog/cpo-dataset/machine-learn/WDBC/\n",
            "\n",
            ".. topic:: References\n",
            "\n",
            "   - W.N. Street, W.H. Wolberg and O.L. Mangasarian. Nuclear feature extraction \n",
            "     for breast tumor diagnosis. IS&T/SPIE 1993 International Symposium on \n",
            "     Electronic Imaging: Science and Technology, volume 1905, pages 861-870,\n",
            "     San Jose, CA, 1993.\n",
            "   - O.L. Mangasarian, W.N. Street and W.H. Wolberg. Breast cancer diagnosis and \n",
            "     prognosis via linear programming. Operations Research, 43(4), pages 570-577, \n",
            "     July-August 1995.\n",
            "   - W.H. Wolberg, W.N. Street, and O.L. Mangasarian. Machine learning techniques\n",
            "     to diagnose breast cancer from fine-needle aspirates. Cancer Letters 77 (1994) \n",
            "     163-171.\n"
          ]
        }
      ],
      "source": [
        "## 데이터 Describe 해 보기\n",
        "\n",
        "print(breast_cancer.DESCR)"
      ]
    },
    {
      "cell_type": "code",
      "execution_count": null,
      "id": "9af694e1",
      "metadata": {
        "id": "9af694e1",
        "outputId": "ee60a422-8c9a-4860-9bcf-367f363421bb"
      },
      "outputs": [
        {
          "data": {
            "text/plain": [
              "array(['mean radius', 'mean texture', 'mean perimeter', 'mean area',\n",
              "       'mean smoothness', 'mean compactness', 'mean concavity',\n",
              "       'mean concave points', 'mean symmetry', 'mean fractal dimension',\n",
              "       'radius error', 'texture error', 'perimeter error', 'area error',\n",
              "       'smoothness error', 'compactness error', 'concavity error',\n",
              "       'concave points error', 'symmetry error',\n",
              "       'fractal dimension error', 'worst radius', 'worst texture',\n",
              "       'worst perimeter', 'worst area', 'worst smoothness',\n",
              "       'worst compactness', 'worst concavity', 'worst concave points',\n",
              "       'worst symmetry', 'worst fractal dimension'], dtype='<U23')"
            ]
          },
          "execution_count": 443,
          "metadata": {},
          "output_type": "execute_result"
        }
      ],
      "source": [
        "breast_cancer.feature_names\n",
        "# keys에서 확인한 정보 중 feature_names를 변수에 따로 저장하지 않고 호출\n",
        "# breast_cancer.data에서 확인한 30개 정보의 변수명 확인"
      ]
    },
    {
      "cell_type": "code",
      "execution_count": null,
      "id": "acf45fd1",
      "metadata": {
        "id": "acf45fd1",
        "outputId": "d9c89dcd-935a-414e-905e-35a94dc92625"
      },
      "outputs": [
        {
          "data": {
            "text/html": [
              "<div>\n",
              "<style scoped>\n",
              "    .dataframe tbody tr th:only-of-type {\n",
              "        vertical-align: middle;\n",
              "    }\n",
              "\n",
              "    .dataframe tbody tr th {\n",
              "        vertical-align: top;\n",
              "    }\n",
              "\n",
              "    .dataframe thead th {\n",
              "        text-align: right;\n",
              "    }\n",
              "</style>\n",
              "<table border=\"1\" class=\"dataframe\">\n",
              "  <thead>\n",
              "    <tr style=\"text-align: right;\">\n",
              "      <th></th>\n",
              "      <th>mean radius</th>\n",
              "      <th>mean texture</th>\n",
              "      <th>mean perimeter</th>\n",
              "      <th>mean area</th>\n",
              "      <th>mean smoothness</th>\n",
              "      <th>mean compactness</th>\n",
              "      <th>mean concavity</th>\n",
              "      <th>mean concave points</th>\n",
              "      <th>mean symmetry</th>\n",
              "      <th>mean fractal dimension</th>\n",
              "      <th>...</th>\n",
              "      <th>worst texture</th>\n",
              "      <th>worst perimeter</th>\n",
              "      <th>worst area</th>\n",
              "      <th>worst smoothness</th>\n",
              "      <th>worst compactness</th>\n",
              "      <th>worst concavity</th>\n",
              "      <th>worst concave points</th>\n",
              "      <th>worst symmetry</th>\n",
              "      <th>worst fractal dimension</th>\n",
              "      <th>label</th>\n",
              "    </tr>\n",
              "  </thead>\n",
              "  <tbody>\n",
              "    <tr>\n",
              "      <th>0</th>\n",
              "      <td>17.99</td>\n",
              "      <td>10.38</td>\n",
              "      <td>122.80</td>\n",
              "      <td>1001.0</td>\n",
              "      <td>0.11840</td>\n",
              "      <td>0.27760</td>\n",
              "      <td>0.30010</td>\n",
              "      <td>0.14710</td>\n",
              "      <td>0.2419</td>\n",
              "      <td>0.07871</td>\n",
              "      <td>...</td>\n",
              "      <td>17.33</td>\n",
              "      <td>184.60</td>\n",
              "      <td>2019.0</td>\n",
              "      <td>0.16220</td>\n",
              "      <td>0.66560</td>\n",
              "      <td>0.7119</td>\n",
              "      <td>0.2654</td>\n",
              "      <td>0.4601</td>\n",
              "      <td>0.11890</td>\n",
              "      <td>0</td>\n",
              "    </tr>\n",
              "    <tr>\n",
              "      <th>1</th>\n",
              "      <td>20.57</td>\n",
              "      <td>17.77</td>\n",
              "      <td>132.90</td>\n",
              "      <td>1326.0</td>\n",
              "      <td>0.08474</td>\n",
              "      <td>0.07864</td>\n",
              "      <td>0.08690</td>\n",
              "      <td>0.07017</td>\n",
              "      <td>0.1812</td>\n",
              "      <td>0.05667</td>\n",
              "      <td>...</td>\n",
              "      <td>23.41</td>\n",
              "      <td>158.80</td>\n",
              "      <td>1956.0</td>\n",
              "      <td>0.12380</td>\n",
              "      <td>0.18660</td>\n",
              "      <td>0.2416</td>\n",
              "      <td>0.1860</td>\n",
              "      <td>0.2750</td>\n",
              "      <td>0.08902</td>\n",
              "      <td>0</td>\n",
              "    </tr>\n",
              "    <tr>\n",
              "      <th>2</th>\n",
              "      <td>19.69</td>\n",
              "      <td>21.25</td>\n",
              "      <td>130.00</td>\n",
              "      <td>1203.0</td>\n",
              "      <td>0.10960</td>\n",
              "      <td>0.15990</td>\n",
              "      <td>0.19740</td>\n",
              "      <td>0.12790</td>\n",
              "      <td>0.2069</td>\n",
              "      <td>0.05999</td>\n",
              "      <td>...</td>\n",
              "      <td>25.53</td>\n",
              "      <td>152.50</td>\n",
              "      <td>1709.0</td>\n",
              "      <td>0.14440</td>\n",
              "      <td>0.42450</td>\n",
              "      <td>0.4504</td>\n",
              "      <td>0.2430</td>\n",
              "      <td>0.3613</td>\n",
              "      <td>0.08758</td>\n",
              "      <td>0</td>\n",
              "    </tr>\n",
              "    <tr>\n",
              "      <th>3</th>\n",
              "      <td>11.42</td>\n",
              "      <td>20.38</td>\n",
              "      <td>77.58</td>\n",
              "      <td>386.1</td>\n",
              "      <td>0.14250</td>\n",
              "      <td>0.28390</td>\n",
              "      <td>0.24140</td>\n",
              "      <td>0.10520</td>\n",
              "      <td>0.2597</td>\n",
              "      <td>0.09744</td>\n",
              "      <td>...</td>\n",
              "      <td>26.50</td>\n",
              "      <td>98.87</td>\n",
              "      <td>567.7</td>\n",
              "      <td>0.20980</td>\n",
              "      <td>0.86630</td>\n",
              "      <td>0.6869</td>\n",
              "      <td>0.2575</td>\n",
              "      <td>0.6638</td>\n",
              "      <td>0.17300</td>\n",
              "      <td>0</td>\n",
              "    </tr>\n",
              "    <tr>\n",
              "      <th>4</th>\n",
              "      <td>20.29</td>\n",
              "      <td>14.34</td>\n",
              "      <td>135.10</td>\n",
              "      <td>1297.0</td>\n",
              "      <td>0.10030</td>\n",
              "      <td>0.13280</td>\n",
              "      <td>0.19800</td>\n",
              "      <td>0.10430</td>\n",
              "      <td>0.1809</td>\n",
              "      <td>0.05883</td>\n",
              "      <td>...</td>\n",
              "      <td>16.67</td>\n",
              "      <td>152.20</td>\n",
              "      <td>1575.0</td>\n",
              "      <td>0.13740</td>\n",
              "      <td>0.20500</td>\n",
              "      <td>0.4000</td>\n",
              "      <td>0.1625</td>\n",
              "      <td>0.2364</td>\n",
              "      <td>0.07678</td>\n",
              "      <td>0</td>\n",
              "    </tr>\n",
              "    <tr>\n",
              "      <th>...</th>\n",
              "      <td>...</td>\n",
              "      <td>...</td>\n",
              "      <td>...</td>\n",
              "      <td>...</td>\n",
              "      <td>...</td>\n",
              "      <td>...</td>\n",
              "      <td>...</td>\n",
              "      <td>...</td>\n",
              "      <td>...</td>\n",
              "      <td>...</td>\n",
              "      <td>...</td>\n",
              "      <td>...</td>\n",
              "      <td>...</td>\n",
              "      <td>...</td>\n",
              "      <td>...</td>\n",
              "      <td>...</td>\n",
              "      <td>...</td>\n",
              "      <td>...</td>\n",
              "      <td>...</td>\n",
              "      <td>...</td>\n",
              "      <td>...</td>\n",
              "    </tr>\n",
              "    <tr>\n",
              "      <th>564</th>\n",
              "      <td>21.56</td>\n",
              "      <td>22.39</td>\n",
              "      <td>142.00</td>\n",
              "      <td>1479.0</td>\n",
              "      <td>0.11100</td>\n",
              "      <td>0.11590</td>\n",
              "      <td>0.24390</td>\n",
              "      <td>0.13890</td>\n",
              "      <td>0.1726</td>\n",
              "      <td>0.05623</td>\n",
              "      <td>...</td>\n",
              "      <td>26.40</td>\n",
              "      <td>166.10</td>\n",
              "      <td>2027.0</td>\n",
              "      <td>0.14100</td>\n",
              "      <td>0.21130</td>\n",
              "      <td>0.4107</td>\n",
              "      <td>0.2216</td>\n",
              "      <td>0.2060</td>\n",
              "      <td>0.07115</td>\n",
              "      <td>0</td>\n",
              "    </tr>\n",
              "    <tr>\n",
              "      <th>565</th>\n",
              "      <td>20.13</td>\n",
              "      <td>28.25</td>\n",
              "      <td>131.20</td>\n",
              "      <td>1261.0</td>\n",
              "      <td>0.09780</td>\n",
              "      <td>0.10340</td>\n",
              "      <td>0.14400</td>\n",
              "      <td>0.09791</td>\n",
              "      <td>0.1752</td>\n",
              "      <td>0.05533</td>\n",
              "      <td>...</td>\n",
              "      <td>38.25</td>\n",
              "      <td>155.00</td>\n",
              "      <td>1731.0</td>\n",
              "      <td>0.11660</td>\n",
              "      <td>0.19220</td>\n",
              "      <td>0.3215</td>\n",
              "      <td>0.1628</td>\n",
              "      <td>0.2572</td>\n",
              "      <td>0.06637</td>\n",
              "      <td>0</td>\n",
              "    </tr>\n",
              "    <tr>\n",
              "      <th>566</th>\n",
              "      <td>16.60</td>\n",
              "      <td>28.08</td>\n",
              "      <td>108.30</td>\n",
              "      <td>858.1</td>\n",
              "      <td>0.08455</td>\n",
              "      <td>0.10230</td>\n",
              "      <td>0.09251</td>\n",
              "      <td>0.05302</td>\n",
              "      <td>0.1590</td>\n",
              "      <td>0.05648</td>\n",
              "      <td>...</td>\n",
              "      <td>34.12</td>\n",
              "      <td>126.70</td>\n",
              "      <td>1124.0</td>\n",
              "      <td>0.11390</td>\n",
              "      <td>0.30940</td>\n",
              "      <td>0.3403</td>\n",
              "      <td>0.1418</td>\n",
              "      <td>0.2218</td>\n",
              "      <td>0.07820</td>\n",
              "      <td>0</td>\n",
              "    </tr>\n",
              "    <tr>\n",
              "      <th>567</th>\n",
              "      <td>20.60</td>\n",
              "      <td>29.33</td>\n",
              "      <td>140.10</td>\n",
              "      <td>1265.0</td>\n",
              "      <td>0.11780</td>\n",
              "      <td>0.27700</td>\n",
              "      <td>0.35140</td>\n",
              "      <td>0.15200</td>\n",
              "      <td>0.2397</td>\n",
              "      <td>0.07016</td>\n",
              "      <td>...</td>\n",
              "      <td>39.42</td>\n",
              "      <td>184.60</td>\n",
              "      <td>1821.0</td>\n",
              "      <td>0.16500</td>\n",
              "      <td>0.86810</td>\n",
              "      <td>0.9387</td>\n",
              "      <td>0.2650</td>\n",
              "      <td>0.4087</td>\n",
              "      <td>0.12400</td>\n",
              "      <td>0</td>\n",
              "    </tr>\n",
              "    <tr>\n",
              "      <th>568</th>\n",
              "      <td>7.76</td>\n",
              "      <td>24.54</td>\n",
              "      <td>47.92</td>\n",
              "      <td>181.0</td>\n",
              "      <td>0.05263</td>\n",
              "      <td>0.04362</td>\n",
              "      <td>0.00000</td>\n",
              "      <td>0.00000</td>\n",
              "      <td>0.1587</td>\n",
              "      <td>0.05884</td>\n",
              "      <td>...</td>\n",
              "      <td>30.37</td>\n",
              "      <td>59.16</td>\n",
              "      <td>268.6</td>\n",
              "      <td>0.08996</td>\n",
              "      <td>0.06444</td>\n",
              "      <td>0.0000</td>\n",
              "      <td>0.0000</td>\n",
              "      <td>0.2871</td>\n",
              "      <td>0.07039</td>\n",
              "      <td>1</td>\n",
              "    </tr>\n",
              "  </tbody>\n",
              "</table>\n",
              "<p>569 rows × 31 columns</p>\n",
              "</div>"
            ],
            "text/plain": [
              "     mean radius  mean texture  mean perimeter  mean area  mean smoothness  \\\n",
              "0          17.99         10.38          122.80     1001.0          0.11840   \n",
              "1          20.57         17.77          132.90     1326.0          0.08474   \n",
              "2          19.69         21.25          130.00     1203.0          0.10960   \n",
              "3          11.42         20.38           77.58      386.1          0.14250   \n",
              "4          20.29         14.34          135.10     1297.0          0.10030   \n",
              "..           ...           ...             ...        ...              ...   \n",
              "564        21.56         22.39          142.00     1479.0          0.11100   \n",
              "565        20.13         28.25          131.20     1261.0          0.09780   \n",
              "566        16.60         28.08          108.30      858.1          0.08455   \n",
              "567        20.60         29.33          140.10     1265.0          0.11780   \n",
              "568         7.76         24.54           47.92      181.0          0.05263   \n",
              "\n",
              "     mean compactness  mean concavity  mean concave points  mean symmetry  \\\n",
              "0             0.27760         0.30010              0.14710         0.2419   \n",
              "1             0.07864         0.08690              0.07017         0.1812   \n",
              "2             0.15990         0.19740              0.12790         0.2069   \n",
              "3             0.28390         0.24140              0.10520         0.2597   \n",
              "4             0.13280         0.19800              0.10430         0.1809   \n",
              "..                ...             ...                  ...            ...   \n",
              "564           0.11590         0.24390              0.13890         0.1726   \n",
              "565           0.10340         0.14400              0.09791         0.1752   \n",
              "566           0.10230         0.09251              0.05302         0.1590   \n",
              "567           0.27700         0.35140              0.15200         0.2397   \n",
              "568           0.04362         0.00000              0.00000         0.1587   \n",
              "\n",
              "     mean fractal dimension  ...  worst texture  worst perimeter  worst area  \\\n",
              "0                   0.07871  ...          17.33           184.60      2019.0   \n",
              "1                   0.05667  ...          23.41           158.80      1956.0   \n",
              "2                   0.05999  ...          25.53           152.50      1709.0   \n",
              "3                   0.09744  ...          26.50            98.87       567.7   \n",
              "4                   0.05883  ...          16.67           152.20      1575.0   \n",
              "..                      ...  ...            ...              ...         ...   \n",
              "564                 0.05623  ...          26.40           166.10      2027.0   \n",
              "565                 0.05533  ...          38.25           155.00      1731.0   \n",
              "566                 0.05648  ...          34.12           126.70      1124.0   \n",
              "567                 0.07016  ...          39.42           184.60      1821.0   \n",
              "568                 0.05884  ...          30.37            59.16       268.6   \n",
              "\n",
              "     worst smoothness  worst compactness  worst concavity  \\\n",
              "0             0.16220            0.66560           0.7119   \n",
              "1             0.12380            0.18660           0.2416   \n",
              "2             0.14440            0.42450           0.4504   \n",
              "3             0.20980            0.86630           0.6869   \n",
              "4             0.13740            0.20500           0.4000   \n",
              "..                ...                ...              ...   \n",
              "564           0.14100            0.21130           0.4107   \n",
              "565           0.11660            0.19220           0.3215   \n",
              "566           0.11390            0.30940           0.3403   \n",
              "567           0.16500            0.86810           0.9387   \n",
              "568           0.08996            0.06444           0.0000   \n",
              "\n",
              "     worst concave points  worst symmetry  worst fractal dimension  label  \n",
              "0                  0.2654          0.4601                  0.11890      0  \n",
              "1                  0.1860          0.2750                  0.08902      0  \n",
              "2                  0.2430          0.3613                  0.08758      0  \n",
              "3                  0.2575          0.6638                  0.17300      0  \n",
              "4                  0.1625          0.2364                  0.07678      0  \n",
              "..                    ...             ...                      ...    ...  \n",
              "564                0.2216          0.2060                  0.07115      0  \n",
              "565                0.1628          0.2572                  0.06637      0  \n",
              "566                0.1418          0.2218                  0.07820      0  \n",
              "567                0.2650          0.4087                  0.12400      0  \n",
              "568                0.0000          0.2871                  0.07039      1  \n",
              "\n",
              "[569 rows x 31 columns]"
            ]
          },
          "execution_count": 444,
          "metadata": {},
          "output_type": "execute_result"
        }
      ],
      "source": [
        "## dataframe으로 출력해보기\n",
        "\n",
        "import pandas as pd\n",
        "breast_cancer_df = pd.DataFrame(data=breast_cancer_data, columns = breast_cancer.feature_names)\n",
        "breast_cancer_df['label'] = breast_cancer.target\n",
        "breast_cancer_df"
      ]
    },
    {
      "cell_type": "markdown",
      "id": "f8be34c6",
      "metadata": {
        "id": "f8be34c6"
      },
      "source": [
        "### (4) train, test 데이터 분리"
      ]
    },
    {
      "cell_type": "code",
      "execution_count": null,
      "id": "da218753",
      "metadata": {
        "id": "da218753",
        "outputId": "d9271278-b123-40e0-cfb9-4260fc98fd83"
      },
      "outputs": [
        {
          "name": "stdout",
          "output_type": "stream",
          "text": [
            "X_train 개수: 455 , X_test 개수: 114\n"
          ]
        }
      ],
      "source": [
        "X_train, X_test, y_train, y_test = train_test_split(breast_cancer_data, \n",
        "                                                    breast_cancer_label, \n",
        "                                                    test_size=0.2, \n",
        "                                                    random_state=42)\n",
        "\n",
        "print('X_train 개수:',len(X_train), ', X_test 개수:', len(X_test))"
      ]
    },
    {
      "cell_type": "code",
      "execution_count": null,
      "id": "22b41463",
      "metadata": {
        "id": "22b41463",
        "outputId": "8a1d6b95-2f3d-4b97-8b64-70c4ad6d0295"
      },
      "outputs": [
        {
          "data": {
            "text/plain": [
              "((455, 30), (455,))"
            ]
          },
          "execution_count": 446,
          "metadata": {},
          "output_type": "execute_result"
        }
      ],
      "source": [
        "X_train.shape, y_train.shape"
      ]
    },
    {
      "cell_type": "code",
      "execution_count": null,
      "id": "d946607f",
      "metadata": {
        "id": "d946607f",
        "outputId": "5b5c685d-6cc7-410a-ddf4-fe2bd78be8d7"
      },
      "outputs": [
        {
          "data": {
            "text/plain": [
              "((114, 30), (114,))"
            ]
          },
          "execution_count": 447,
          "metadata": {},
          "output_type": "execute_result"
        }
      ],
      "source": [
        "X_test.shape, y_test.shape"
      ]
    },
    {
      "cell_type": "code",
      "execution_count": null,
      "id": "06f660cc",
      "metadata": {
        "id": "06f660cc",
        "outputId": "30253ad8-a343-4c13-93be-4afb5e3bb7d0"
      },
      "outputs": [
        {
          "data": {
            "text/plain": [
              "((455,), (114,))"
            ]
          },
          "execution_count": 448,
          "metadata": {},
          "output_type": "execute_result"
        }
      ],
      "source": [
        "y_train.shape, y_test.shape"
      ]
    },
    {
      "cell_type": "markdown",
      "id": "d940966c",
      "metadata": {
        "id": "d940966c"
      },
      "source": [
        "### (5) 다양한 모델로 학습시켜보기"
      ]
    },
    {
      "cell_type": "code",
      "execution_count": null,
      "id": "9de053ca",
      "metadata": {
        "id": "9de053ca",
        "outputId": "ebf85554-75e6-4323-b4ad-b9f6e91ffb81"
      },
      "outputs": [
        {
          "name": "stdout",
          "output_type": "stream",
          "text": [
            "              precision    recall  f1-score   support\n",
            "\n",
            "           0       0.93      0.93      0.93        43\n",
            "           1       0.96      0.96      0.96        71\n",
            "\n",
            "    accuracy                           0.95       114\n",
            "   macro avg       0.94      0.94      0.94       114\n",
            "weighted avg       0.95      0.95      0.95       114\n",
            "\n"
          ]
        }
      ],
      "source": [
        "## Decision Tree 사용해 보기\n",
        "from sklearn.tree import DecisionTreeClassifier\n",
        "\n",
        "decision_tree = DecisionTreeClassifier(random_state=42) #결정트리분류기의 객체를 만든다.\n",
        "\n",
        "decision_tree.fit(X_train, y_train) # 분류기에 x와 y의 훈련 데이터를 넣어 훈련 시킨다.\n",
        "\n",
        "y_pred1 = decision_tree.predict(X_test) # 훈련된 분류기에 X_test라는 테스트 데이터셋을 넣어 얼마나 예측했는지 확인한다.\n",
        "\n",
        "print(classification_report(y_test, y_pred1)) \n",
        "# 결과를 지표로 확인하기 위해 classification_report를 활용해 y_test, y_pred 값을 넣어 확인한다."
      ]
    },
    {
      "cell_type": "code",
      "execution_count": null,
      "id": "e506d5ae",
      "metadata": {
        "id": "e506d5ae",
        "outputId": "e6bf27b9-61eb-4df0-b9d7-ef3bbd5c9cf3"
      },
      "outputs": [
        {
          "data": {
            "text/plain": [
              "array([[40,  3],\n",
              "       [ 3, 68]])"
            ]
          },
          "execution_count": 450,
          "metadata": {},
          "output_type": "execute_result"
        }
      ],
      "source": [
        "from sklearn.metrics import confusion_matrix\n",
        "\n",
        "confusion_matrix(y_test, y_pred1)\n",
        "\n",
        "# FN이 3개 있음."
      ]
    },
    {
      "cell_type": "code",
      "execution_count": null,
      "id": "9df713b2",
      "metadata": {
        "id": "9df713b2",
        "outputId": "34d700ea-1fac-4a80-8d42-df8e741c1fb0"
      },
      "outputs": [
        {
          "name": "stdout",
          "output_type": "stream",
          "text": [
            "              precision    recall  f1-score   support\n",
            "\n",
            "           0       0.98      0.93      0.95        43\n",
            "           1       0.96      0.99      0.97        71\n",
            "\n",
            "    accuracy                           0.96       114\n",
            "   macro avg       0.97      0.96      0.96       114\n",
            "weighted avg       0.97      0.96      0.96       114\n",
            "\n"
          ]
        }
      ],
      "source": [
        "## Random Forest 사용해 보기\n",
        "\n",
        "from sklearn.ensemble import RandomForestClassifier\n",
        "\n",
        "random_forest = RandomForestClassifier(random_state=42) # RandomForest분류기 객체를 생성\n",
        "\n",
        "random_forest.fit(X_train, y_train) # 훈련\n",
        "y_pred2 = random_forest.predict(X_test) # 예측\n",
        "\n",
        "print(classification_report(y_test, y_pred2)) # 결과 지표를 확인"
      ]
    },
    {
      "cell_type": "code",
      "execution_count": null,
      "id": "de590730",
      "metadata": {
        "id": "de590730",
        "outputId": "20a68999-1d6b-4623-9b22-6a4b99883930"
      },
      "outputs": [
        {
          "data": {
            "text/plain": [
              "array([[40,  3],\n",
              "       [ 1, 70]])"
            ]
          },
          "execution_count": 452,
          "metadata": {},
          "output_type": "execute_result"
        }
      ],
      "source": [
        "from sklearn.metrics import confusion_matrix\n",
        "\n",
        "confusion_matrix(y_test, y_pred2)\n",
        "\n",
        "# FN이 1개 있음."
      ]
    },
    {
      "cell_type": "code",
      "execution_count": null,
      "id": "c057725f",
      "metadata": {
        "id": "c057725f",
        "outputId": "9ab85bf9-f6d2-4c16-922e-1c59ac10283a"
      },
      "outputs": [
        {
          "name": "stdout",
          "output_type": "stream",
          "text": [
            "              precision    recall  f1-score   support\n",
            "\n",
            "           0       1.00      0.86      0.92        43\n",
            "           1       0.92      1.00      0.96        71\n",
            "\n",
            "    accuracy                           0.95       114\n",
            "   macro avg       0.96      0.93      0.94       114\n",
            "weighted avg       0.95      0.95      0.95       114\n",
            "\n"
          ]
        }
      ],
      "source": [
        "## SVM 사용해 보기\n",
        "\n",
        "from sklearn import svm #Support Vector Machine을 사용하기 위해 import\n",
        "svm_model = svm.SVC() # 모델 객체를 만든다.\n",
        "\n",
        "svm_model.fit(X_train, y_train) # 훈련\n",
        "y_pred3 = svm_model.predict(X_test) # 예측\n",
        "\n",
        "print(classification_report(y_test, y_pred3)) # 결과 지표를 확인"
      ]
    },
    {
      "cell_type": "code",
      "execution_count": null,
      "id": "85a4f6f5",
      "metadata": {
        "id": "85a4f6f5",
        "outputId": "51cc7257-79ef-4fc3-d6b6-ee4a8d480483"
      },
      "outputs": [
        {
          "data": {
            "text/plain": [
              "array([[37,  6],\n",
              "       [ 0, 71]])"
            ]
          },
          "execution_count": 454,
          "metadata": {},
          "output_type": "execute_result"
        }
      ],
      "source": [
        "from sklearn.metrics import confusion_matrix\n",
        "\n",
        "confusion_matrix(y_test, y_pred3)\n",
        "\n",
        "# FN이 0개 있음."
      ]
    },
    {
      "cell_type": "code",
      "execution_count": null,
      "id": "dee57ad2",
      "metadata": {
        "id": "dee57ad2",
        "outputId": "fc7a98ec-8f6c-465c-ac26-0529385cd71e"
      },
      "outputs": [
        {
          "name": "stdout",
          "output_type": "stream",
          "text": [
            "              precision    recall  f1-score   support\n",
            "\n",
            "           0       1.00      0.77      0.87        43\n",
            "           1       0.88      1.00      0.93        71\n",
            "\n",
            "    accuracy                           0.91       114\n",
            "   macro avg       0.94      0.88      0.90       114\n",
            "weighted avg       0.92      0.91      0.91       114\n",
            "\n"
          ]
        }
      ],
      "source": [
        "## SGD Classifier 사용해 보기\n",
        "from sklearn.linear_model import SGDClassifier #선형분류기인 SGDClassifier를 사용하기 위한 import\n",
        "sgd_model = SGDClassifier() # 모델 객체 생성\n",
        "\n",
        "sgd_model.fit(X_train, y_train) # sgd모델로 훈련데이터로 훈련시킨다.\n",
        "y_pred4 = sgd_model.predict(X_test)# 그 모델로 test데이터를 사용해 예측\n",
        "\n",
        "print(classification_report(y_test, y_pred4)) # 결과 지표를 확인"
      ]
    },
    {
      "cell_type": "code",
      "execution_count": null,
      "id": "e5af67b4",
      "metadata": {
        "id": "e5af67b4",
        "outputId": "56714f8f-8ae7-4737-97a2-8881b20475af"
      },
      "outputs": [
        {
          "data": {
            "text/plain": [
              "array([[33, 10],\n",
              "       [ 0, 71]])"
            ]
          },
          "execution_count": 456,
          "metadata": {},
          "output_type": "execute_result"
        }
      ],
      "source": [
        "from sklearn.metrics import confusion_matrix\n",
        "\n",
        "confusion_matrix(y_test, y_pred4)\n",
        "\n",
        "# FN이 0개 있음."
      ]
    },
    {
      "cell_type": "code",
      "execution_count": null,
      "id": "dcf0cd57",
      "metadata": {
        "id": "dcf0cd57",
        "outputId": "01a161b3-4f52-40c7-c236-c4e886ccbf3a"
      },
      "outputs": [
        {
          "name": "stdout",
          "output_type": "stream",
          "text": [
            "              precision    recall  f1-score   support\n",
            "\n",
            "           0       0.98      0.93      0.95        43\n",
            "           1       0.96      0.99      0.97        71\n",
            "\n",
            "    accuracy                           0.96       114\n",
            "   macro avg       0.97      0.96      0.96       114\n",
            "weighted avg       0.97      0.96      0.96       114\n",
            "\n"
          ]
        },
        {
          "name": "stderr",
          "output_type": "stream",
          "text": [
            "/opt/conda/lib/python3.9/site-packages/sklearn/linear_model/_logistic.py:814: ConvergenceWarning: lbfgs failed to converge (status=1):\n",
            "STOP: TOTAL NO. of ITERATIONS REACHED LIMIT.\n",
            "\n",
            "Increase the number of iterations (max_iter) or scale the data as shown in:\n",
            "    https://scikit-learn.org/stable/modules/preprocessing.html\n",
            "Please also refer to the documentation for alternative solver options:\n",
            "    https://scikit-learn.org/stable/modules/linear_model.html#logistic-regression\n",
            "  n_iter_i = _check_optimize_result(\n"
          ]
        }
      ],
      "source": [
        "## Logistic Regression 사용해 보기\n",
        "from sklearn.linear_model import LogisticRegression # 선형분류기인 LogisticRegression를 사용하기 위한 import\n",
        "logistic_model = LogisticRegression() # 모델 객체 생성\n",
        "\n",
        "logistic_model.fit(X_train, y_train) # 훈련데이터로 훈련시킨다.\n",
        "y_pred5 = logistic_model.predict(X_test)# 그 모델로 test데이터를 사용해 예측\n",
        "\n",
        "print(classification_report(y_test, y_pred5)) # 결과 지표를 확인"
      ]
    },
    {
      "cell_type": "code",
      "execution_count": null,
      "id": "6f15149e",
      "metadata": {
        "id": "6f15149e",
        "outputId": "d8a36247-3512-4e7d-fc25-a77eaecdccdc"
      },
      "outputs": [
        {
          "data": {
            "text/plain": [
              "array([[40,  3],\n",
              "       [ 1, 70]])"
            ]
          },
          "execution_count": 458,
          "metadata": {},
          "output_type": "execute_result"
        }
      ],
      "source": [
        "from sklearn.metrics import confusion_matrix\n",
        "\n",
        "confusion_matrix(y_test, y_pred5)\n",
        "\n",
        "# FN이 1개 있음."
      ]
    },
    {
      "cell_type": "code",
      "execution_count": null,
      "id": "ca9b9d17",
      "metadata": {
        "id": "ca9b9d17",
        "outputId": "b3f6271e-7e90-4f81-9b51-9324d2ca3417"
      },
      "outputs": [
        {
          "name": "stdout",
          "output_type": "stream",
          "text": [
            "              precision    recall  f1-score   support\n",
            "\n",
            "           0       0.98      0.95      0.96        43\n",
            "           1       0.97      0.99      0.98        71\n",
            "\n",
            "    accuracy                           0.97       114\n",
            "   macro avg       0.97      0.97      0.97       114\n",
            "weighted avg       0.97      0.97      0.97       114\n",
            "\n"
          ]
        }
      ],
      "source": [
        "## Logistic Regression 사용해 보기 (데이터 스케일링)\n",
        "\n",
        "from sklearn.preprocessing import StandardScaler\n",
        "\n",
        "# 데이터 스케일링\n",
        "scaler = StandardScaler()\n",
        "X_train_scaled = scaler.fit_transform(X_train)\n",
        "X_test_scaled = scaler.transform(X_test)\n",
        "\n",
        "# Logistic Regression 모델 생성\n",
        "logistic_model = LogisticRegression()\n",
        "logistic_model.fit(X_train_scaled, y_train)\n",
        "\n",
        "y_pred6 = logistic_model.predict(X_test_scaled)# 그 모델로 test데이터를 사용해 예측\n",
        "\n",
        "print(classification_report(y_test, y_pred6)) # 결과 지표를 확인\n"
      ]
    },
    {
      "cell_type": "code",
      "execution_count": null,
      "id": "9ea2ead5",
      "metadata": {
        "id": "9ea2ead5",
        "outputId": "d439b88e-a231-46e2-b4e1-ddf28abfce57"
      },
      "outputs": [
        {
          "data": {
            "text/plain": [
              "array([[41,  2],\n",
              "       [ 1, 70]])"
            ]
          },
          "execution_count": 460,
          "metadata": {},
          "output_type": "execute_result"
        }
      ],
      "source": [
        "from sklearn.metrics import confusion_matrix\n",
        "\n",
        "confusion_matrix(y_test, y_pred6)\n",
        "\n",
        "# FN이 1개 있음."
      ]
    },
    {
      "cell_type": "markdown",
      "id": "73ef8a09",
      "metadata": {
        "id": "73ef8a09"
      },
      "source": [
        "### (6) 모델을 평가해 보기"
      ]
    },
    {
      "cell_type": "code",
      "execution_count": null,
      "id": "2ad7dfe8",
      "metadata": {
        "id": "2ad7dfe8",
        "outputId": "9e5d1e5b-9234-449e-ce73-1db58a452893"
      },
      "outputs": [
        {
          "name": "stdout",
          "output_type": "stream",
          "text": [
            "Decision Tree 정확도: 0.9473684210526315\n",
            "Random Forest 정확도: 0.9649122807017544\n",
            "SVM 정확도: 0.9473684210526315\n",
            "SGD Classifier 정확도: 0.9122807017543859\n",
            "Logistic Regression  정확도: 0.9649122807017544\n",
            "Logistic Regression (데이터 스케일링) 정확도: 0.9736842105263158\n"
          ]
        }
      ],
      "source": [
        "## 정확도 분석\n",
        "\n",
        "# Decision Tree \n",
        "accuracy1 = accuracy_score(y_test, y_pred1) # y_pred(답안지)를 y_test(정답지)로 채점\n",
        "print('Decision Tree 정확도:', accuracy1) # 정확도 출력\n",
        "\n",
        "# Random Forest \n",
        "accuracy2 = accuracy_score(y_test, y_pred2) # y_pred(답안지)를 y_test(정답지)로 채점\n",
        "print('Random Forest 정확도:', accuracy2) # 정확도 출력\n",
        "\n",
        "# SVM \n",
        "accuracy3 = accuracy_score(y_test, y_pred3) # y_pred(답안지)를 y_test(정답지)로 채점\n",
        "print('SVM 정확도:', accuracy3) # 정확도 출력\n",
        "\n",
        "# SGD Classifier \n",
        "accuracy4 = accuracy_score(y_test, y_pred4) # y_pred(답안지)를 y_test(정답지)로 채점\n",
        "print('SGD Classifier 정확도:', accuracy4) # 정확도 출력\n",
        "\n",
        "# Logistic Regression \n",
        "accuracy5 = accuracy_score(y_test, y_pred5) # y_pred(답안지)를 y_test(정답지)로 채점\n",
        "print('Logistic Regression  정확도:', accuracy5) # 정확도 출력\n",
        "\n",
        "# Logistic Regression (데이터 스케일링)\n",
        "accuracy6 = accuracy_score(y_test, y_pred6) # y_pred(답안지)를 y_test(정답지)로 채점\n",
        "print('Logistic Regression (데이터 스케일링) 정확도:', accuracy6) # 정확도 출력"
      ]
    },
    {
      "cell_type": "markdown",
      "id": "4af157e9",
      "metadata": {
        "id": "4af157e9"
      },
      "source": [
        "#### <평가지표 중 적절한 것은?>\n",
        "- 유방암 같은 경우는 양성인데, 음성이라고 판단하는 경우 (recall)이 적은 모델이 좋은 모델이다. \n",
        "- 따라서 정확도는 logistic Regression이 높을지라도, FN이 1개 있기 때문에 좋은 모델이라고 할 수 없다. \n",
        "- FN이 0으로 나온 SVM과 SGD Classifier 중, 정확도가 조금 더 높게 나온 SVM이 유방암 분석 모델에서 적절한 평가지표라고 판단된다.\n"
      ]
    },
    {
      "cell_type": "code",
      "execution_count": null,
      "id": "dba9b3b0",
      "metadata": {
        "id": "dba9b3b0",
        "outputId": "34c3bc84-9612-4fa4-b3a9-4d5873b5eef5"
      },
      "outputs": [
        {
          "name": "stdout",
          "output_type": "stream",
          "text": [
            "Cross-validation scores:  [0.85087719 0.89473684 0.92982456 0.94736842 0.9380531 ]\n",
            "Average accuracy:  0.9121720229777983\n"
          ]
        }
      ],
      "source": [
        "## 교차검증을 한번 시도해보자..\n",
        "from sklearn.model_selection import cross_val_score\n",
        "\n",
        "svm_model = svm.SVC()\n",
        "scores = cross_val_score(svm_model, breast_cancer_data, breast_cancer_label, cv=5)  # cv는 교차 검증 분할 수를 의미합니다.\n",
        "\n",
        "# 각 교차 검증에서의 정확도 출력\n",
        "print(\"Cross-validation scores: \", scores)\n",
        "\n",
        "# 평균 정확도 출력\n",
        "print(\"Average accuracy: \", scores.mean())"
      ]
    },
    {
      "cell_type": "markdown",
      "id": "290cda4f",
      "metadata": {
        "id": "290cda4f"
      },
      "source": [
        "# 회고\n",
        "- 다양한 평가 방법이 있어서 정말 어떻게 활용하느냐에 따라 정확도도 달라지고, 중점적으로 봐야하는 부분도 달라져서 어렵다. \n",
        "- 내가 오늘 분석한 내용이 실은 맞는건지도 확신이 서지는 않는다.\n",
        "- 정확도가 1이 나올 수 있는건지, 다른 분석툴인데도 결과값이 같을 수 있는 것인지.... 정답을 알 수 없다ㅠㅠ\n",
        "- 앞으로 반복적으로 배우다보면 깨닫는 날이 올거라고 믿고 꾸준히 해보자.\n",
        "- TMI) 이사 준비와 병원 등 개인적인 일로 정신 없이 보내다가 프로젝트 노드 1개 기한을 놓쳐버렸다. 이런.. 앞으론 정신 차리자!"
      ]
    }
  ],
  "metadata": {
    "kernelspec": {
      "display_name": "Python 3 (ipykernel)",
      "language": "python",
      "name": "python3"
    },
    "language_info": {
      "codemirror_mode": {
        "name": "ipython",
        "version": 3
      },
      "file_extension": ".py",
      "mimetype": "text/x-python",
      "name": "python",
      "nbconvert_exporter": "python",
      "pygments_lexer": "ipython3",
      "version": "3.9.7"
    },
    "colab": {
      "provenance": [],
      "toc_visible": true,
      "include_colab_link": true
    }
  },
  "nbformat": 4,
  "nbformat_minor": 5
}