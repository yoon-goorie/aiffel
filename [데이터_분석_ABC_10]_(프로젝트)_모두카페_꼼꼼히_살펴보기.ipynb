{
  "cells": [
    {
      "cell_type": "markdown",
      "metadata": {
        "id": "view-in-github",
        "colab_type": "text"
      },
      "source": [
        "<a href=\"https://colab.research.google.com/github/yoon-goorie/aiffel/blob/main/%5B%EB%8D%B0%EC%9D%B4%ED%84%B0_%EB%B6%84%EC%84%9D_ABC_10%5D_(%ED%94%84%EB%A1%9C%EC%A0%9D%ED%8A%B8)_%EB%AA%A8%EB%91%90%EC%B9%B4%ED%8E%98_%EA%BC%BC%EA%BC%BC%ED%9E%88_%EC%82%B4%ED%8E%B4%EB%B3%B4%EA%B8%B0.ipynb\" target=\"_parent\"><img src=\"https://colab.research.google.com/assets/colab-badge.svg\" alt=\"Open In Colab\"/></a>"
      ]
    },
    {
      "cell_type": "markdown",
      "id": "05d3a0f0",
      "metadata": {
        "id": "05d3a0f0"
      },
      "source": [
        "# 데이터 분석 ABC\n",
        "## 10. (프로젝트) 모두카페 꼼꼼히 살펴보기\n",
        "### 3-1 데이터 불러오기"
      ]
    },
    {
      "cell_type": "code",
      "execution_count": null,
      "id": "567668b1",
      "metadata": {
        "id": "567668b1",
        "outputId": "203ae931-2b19-4d67-87b8-e541c88c141a"
      },
      "outputs": [
        {
          "name": "stdout",
          "output_type": "stream",
          "text": [
            "ln: failed to create symbolic link '/aiffel/aiffel/data_analysis_basic/data/entry_data.csv': File exists\r\n",
            "ln: failed to create symbolic link '/aiffel/aiffel/data_analysis_basic/data/item_data.csv': File exists\r\n",
            "ln: failed to create symbolic link '/aiffel/aiffel/data_analysis_basic/data/item_entry_data.csv': File exists\r\n",
            "ln: failed to create symbolic link '/aiffel/aiffel/data_analysis_basic/data/sales_data.csv': File exists\r\n"
          ]
        }
      ],
      "source": [
        "!mkdir -p ~/aiffel/data_analysis_basic/data\n",
        "!ln -s ~/data/* ~/aiffel/data_analysis_basic/data"
      ]
    },
    {
      "cell_type": "code",
      "execution_count": null,
      "id": "bc99f646",
      "metadata": {
        "id": "bc99f646"
      },
      "outputs": [],
      "source": [
        "# 필요 라이브러리 호출하기\n",
        "import pandas as pd\n",
        "import numpy as np\n",
        "import matplotlib.pyplot as plt\n",
        "import seaborn as sns\n",
        "\n",
        "plt.style.use('default')"
      ]
    },
    {
      "cell_type": "code",
      "execution_count": null,
      "id": "46fb2129",
      "metadata": {
        "id": "46fb2129"
      },
      "outputs": [],
      "source": [
        "# 데이터 호출하기\n",
        "entry_data = pd.read_csv('/aiffel/data/entry_data.csv')\n",
        "sales_data = pd.read_csv('/aiffel/data/sales_data.csv')\n",
        "item_data = pd.read_csv('/aiffel/data/item_data.csv')\n",
        "item_entry_data = pd.read_csv('/aiffel/data/item_entry_data.csv')"
      ]
    },
    {
      "cell_type": "code",
      "execution_count": null,
      "id": "fe9316d6",
      "metadata": {
        "id": "fe9316d6",
        "outputId": "ee4d9114-f254-44a4-9ae0-29523a21703f"
      },
      "outputs": [
        {
          "data": {
            "text/html": [
              "<div>\n",
              "<style scoped>\n",
              "    .dataframe tbody tr th:only-of-type {\n",
              "        vertical-align: middle;\n",
              "    }\n",
              "\n",
              "    .dataframe tbody tr th {\n",
              "        vertical-align: top;\n",
              "    }\n",
              "\n",
              "    .dataframe thead th {\n",
              "        text-align: right;\n",
              "    }\n",
              "</style>\n",
              "<table border=\"1\" class=\"dataframe\">\n",
              "  <thead>\n",
              "    <tr style=\"text-align: right;\">\n",
              "      <th></th>\n",
              "      <th>요금제명</th>\n",
              "      <th>입실</th>\n",
              "      <th>퇴실</th>\n",
              "      <th>이용</th>\n",
              "      <th>위치</th>\n",
              "      <th>금액</th>\n",
              "      <th>구분</th>\n",
              "      <th>고객</th>\n",
              "    </tr>\n",
              "  </thead>\n",
              "  <tbody>\n",
              "    <tr>\n",
              "      <th>0</th>\n",
              "      <td>시간요금제(1시간)</td>\n",
              "      <td>2022-04-01 23:39</td>\n",
              "      <td>2022-04-02 0:39</td>\n",
              "      <td>오전 1:00:00</td>\n",
              "      <td>선불기2</td>\n",
              "      <td>3000</td>\n",
              "      <td>퇴실</td>\n",
              "      <td>customer263717</td>\n",
              "    </tr>\n",
              "    <tr>\n",
              "      <th>1</th>\n",
              "      <td>시간요금제(1시간)</td>\n",
              "      <td>2022-04-01 23:39</td>\n",
              "      <td>2022-04-02 0:39</td>\n",
              "      <td>오전 1:00:00</td>\n",
              "      <td>선불기2</td>\n",
              "      <td>3000</td>\n",
              "      <td>퇴실</td>\n",
              "      <td>customer263717</td>\n",
              "    </tr>\n",
              "    <tr>\n",
              "      <th>2</th>\n",
              "      <td>무제한 입장권</td>\n",
              "      <td>2022-04-01 20:55</td>\n",
              "      <td>2022-04-01 21:41</td>\n",
              "      <td>오전 12:46:00</td>\n",
              "      <td>선불기2</td>\n",
              "      <td>7400</td>\n",
              "      <td>퇴실</td>\n",
              "      <td>customer247263</td>\n",
              "    </tr>\n",
              "    <tr>\n",
              "      <th>3</th>\n",
              "      <td>무제한 입장권</td>\n",
              "      <td>2022-04-01 20:55</td>\n",
              "      <td>2022-04-01 21:41</td>\n",
              "      <td>오전 12:46:00</td>\n",
              "      <td>선불기2</td>\n",
              "      <td>7400</td>\n",
              "      <td>퇴실</td>\n",
              "      <td>customer247263</td>\n",
              "    </tr>\n",
              "    <tr>\n",
              "      <th>4</th>\n",
              "      <td>한국대생 무제한 입장권</td>\n",
              "      <td>2022-04-01 19:54</td>\n",
              "      <td>2022-04-01 22:28</td>\n",
              "      <td>오전 2:33:00</td>\n",
              "      <td>선불기2</td>\n",
              "      <td>7400</td>\n",
              "      <td>퇴실</td>\n",
              "      <td>customer388928</td>\n",
              "    </tr>\n",
              "  </tbody>\n",
              "</table>\n",
              "</div>"
            ],
            "text/plain": [
              "           요금제명                입실                퇴실           이용    위치    금액  \\\n",
              "0    시간요금제(1시간)  2022-04-01 23:39   2022-04-02 0:39   오전 1:00:00  선불기2  3000   \n",
              "1    시간요금제(1시간)  2022-04-01 23:39   2022-04-02 0:39   오전 1:00:00  선불기2  3000   \n",
              "2       무제한 입장권  2022-04-01 20:55  2022-04-01 21:41  오전 12:46:00  선불기2  7400   \n",
              "3       무제한 입장권  2022-04-01 20:55  2022-04-01 21:41  오전 12:46:00  선불기2  7400   \n",
              "4  한국대생 무제한 입장권  2022-04-01 19:54  2022-04-01 22:28   오전 2:33:00  선불기2  7400   \n",
              "\n",
              "   구분              고객  \n",
              "0  퇴실  customer263717  \n",
              "1  퇴실  customer263717  \n",
              "2  퇴실  customer247263  \n",
              "3  퇴실  customer247263  \n",
              "4  퇴실  customer388928  "
            ]
          },
          "execution_count": 4,
          "metadata": {},
          "output_type": "execute_result"
        }
      ],
      "source": [
        "# entry_data 데이터 정보 확인하기\n",
        "entry_data.head()"
      ]
    },
    {
      "cell_type": "code",
      "execution_count": null,
      "id": "1de88783",
      "metadata": {
        "id": "1de88783",
        "outputId": "f7571f59-1fd2-4bd8-b0dd-c999952adfa7"
      },
      "outputs": [
        {
          "data": {
            "text/html": [
              "<div>\n",
              "<style scoped>\n",
              "    .dataframe tbody tr th:only-of-type {\n",
              "        vertical-align: middle;\n",
              "    }\n",
              "\n",
              "    .dataframe tbody tr th {\n",
              "        vertical-align: top;\n",
              "    }\n",
              "\n",
              "    .dataframe thead th {\n",
              "        text-align: right;\n",
              "    }\n",
              "</style>\n",
              "<table border=\"1\" class=\"dataframe\">\n",
              "  <thead>\n",
              "    <tr style=\"text-align: right;\">\n",
              "      <th></th>\n",
              "      <th>결제일시</th>\n",
              "      <th>판매위치</th>\n",
              "      <th>상품명</th>\n",
              "      <th>결제방식</th>\n",
              "      <th>비고</th>\n",
              "      <th>판매수량</th>\n",
              "      <th>결제금액</th>\n",
              "      <th>고객</th>\n",
              "    </tr>\n",
              "  </thead>\n",
              "  <tbody>\n",
              "    <tr>\n",
              "      <th>0</th>\n",
              "      <td>2022-04-01 19:41</td>\n",
              "      <td>선불기1</td>\n",
              "      <td>치킨카라아케 6pc</td>\n",
              "      <td>신용카드</td>\n",
              "      <td>결제완료</td>\n",
              "      <td>1</td>\n",
              "      <td>4,500</td>\n",
              "      <td>customer275507</td>\n",
              "    </tr>\n",
              "    <tr>\n",
              "      <th>1</th>\n",
              "      <td>2022-04-01 19:41</td>\n",
              "      <td>선불기1</td>\n",
              "      <td>짜장라면(계란추가)</td>\n",
              "      <td>신용카드</td>\n",
              "      <td>결제완료</td>\n",
              "      <td>1</td>\n",
              "      <td>5,500</td>\n",
              "      <td>customer275507</td>\n",
              "    </tr>\n",
              "    <tr>\n",
              "      <th>2</th>\n",
              "      <td>2022-04-01 19:41</td>\n",
              "      <td>선불기1</td>\n",
              "      <td>라면</td>\n",
              "      <td>신용카드</td>\n",
              "      <td>결제완료</td>\n",
              "      <td>1</td>\n",
              "      <td>4,000</td>\n",
              "      <td>customer275507</td>\n",
              "    </tr>\n",
              "    <tr>\n",
              "      <th>3</th>\n",
              "      <td>2022-04-01 19:41</td>\n",
              "      <td>선불기1</td>\n",
              "      <td>비엔나소세지(토핑)</td>\n",
              "      <td>신용카드</td>\n",
              "      <td>결제완료</td>\n",
              "      <td>1</td>\n",
              "      <td>1,000</td>\n",
              "      <td>customer275507</td>\n",
              "    </tr>\n",
              "    <tr>\n",
              "      <th>4</th>\n",
              "      <td>2022-04-01 19:41</td>\n",
              "      <td>선불기1</td>\n",
              "      <td>라면(계란/치즈추가)</td>\n",
              "      <td>신용카드</td>\n",
              "      <td>결제완료</td>\n",
              "      <td>1</td>\n",
              "      <td>5,000</td>\n",
              "      <td>customer275507</td>\n",
              "    </tr>\n",
              "  </tbody>\n",
              "</table>\n",
              "</div>"
            ],
            "text/plain": [
              "               결제일시  판매위치          상품명  결제방식    비고  판매수량   결제금액  \\\n",
              "0  2022-04-01 19:41  선불기1   치킨카라아케 6pc  신용카드  결제완료     1  4,500   \n",
              "1  2022-04-01 19:41  선불기1   짜장라면(계란추가)  신용카드  결제완료     1  5,500   \n",
              "2  2022-04-01 19:41  선불기1           라면  신용카드  결제완료     1  4,000   \n",
              "3  2022-04-01 19:41  선불기1   비엔나소세지(토핑)  신용카드  결제완료     1  1,000   \n",
              "4  2022-04-01 19:41  선불기1  라면(계란/치즈추가)  신용카드  결제완료     1  5,000   \n",
              "\n",
              "               고객  \n",
              "0  customer275507  \n",
              "1  customer275507  \n",
              "2  customer275507  \n",
              "3  customer275507  \n",
              "4  customer275507  "
            ]
          },
          "execution_count": 5,
          "metadata": {},
          "output_type": "execute_result"
        }
      ],
      "source": [
        "# sales_data 데이터 정보 확인하기\n",
        "sales_data.head()"
      ]
    },
    {
      "cell_type": "code",
      "execution_count": null,
      "id": "0755134b",
      "metadata": {
        "id": "0755134b",
        "outputId": "58fd5c77-3813-43e4-fbd5-25db9a7efd80"
      },
      "outputs": [
        {
          "data": {
            "text/html": [
              "<div>\n",
              "<style scoped>\n",
              "    .dataframe tbody tr th:only-of-type {\n",
              "        vertical-align: middle;\n",
              "    }\n",
              "\n",
              "    .dataframe tbody tr th {\n",
              "        vertical-align: top;\n",
              "    }\n",
              "\n",
              "    .dataframe thead th {\n",
              "        text-align: right;\n",
              "    }\n",
              "</style>\n",
              "<table border=\"1\" class=\"dataframe\">\n",
              "  <thead>\n",
              "    <tr style=\"text-align: right;\">\n",
              "      <th></th>\n",
              "      <th>구분</th>\n",
              "      <th>분류</th>\n",
              "      <th>상품명</th>\n",
              "      <th>판매금액</th>\n",
              "    </tr>\n",
              "  </thead>\n",
              "  <tbody>\n",
              "    <tr>\n",
              "      <th>0</th>\n",
              "      <td>1</td>\n",
              "      <td>게임&amp;TV</td>\n",
              "      <td>이어폰(커널형)</td>\n",
              "      <td>3,000원</td>\n",
              "    </tr>\n",
              "    <tr>\n",
              "      <th>1</th>\n",
              "      <td>2</td>\n",
              "      <td>디저트</td>\n",
              "      <td>초코머핀</td>\n",
              "      <td>3,500원</td>\n",
              "    </tr>\n",
              "    <tr>\n",
              "      <th>2</th>\n",
              "      <td>3</td>\n",
              "      <td>디저트</td>\n",
              "      <td>쿠키(초코칩)</td>\n",
              "      <td>1,500원</td>\n",
              "    </tr>\n",
              "    <tr>\n",
              "      <th>3</th>\n",
              "      <td>4</td>\n",
              "      <td>디저트</td>\n",
              "      <td>쿠키(마카다미아)</td>\n",
              "      <td>1,500원</td>\n",
              "    </tr>\n",
              "    <tr>\n",
              "      <th>4</th>\n",
              "      <td>5</td>\n",
              "      <td>디저트</td>\n",
              "      <td>미니마카롱(3개)</td>\n",
              "      <td>2,000원</td>\n",
              "    </tr>\n",
              "  </tbody>\n",
              "</table>\n",
              "</div>"
            ],
            "text/plain": [
              "   구분     분류        상품명    판매금액\n",
              "0   1  게임&TV   이어폰(커널형)  3,000원\n",
              "1   2    디저트       초코머핀  3,500원\n",
              "2   3    디저트    쿠키(초코칩)  1,500원\n",
              "3   4    디저트  쿠키(마카다미아)  1,500원\n",
              "4   5    디저트  미니마카롱(3개)  2,000원"
            ]
          },
          "execution_count": 6,
          "metadata": {},
          "output_type": "execute_result"
        }
      ],
      "source": [
        "# item_data 데이터 정보 확인하기\n",
        "item_data.head()"
      ]
    },
    {
      "cell_type": "code",
      "execution_count": null,
      "id": "95882221",
      "metadata": {
        "id": "95882221",
        "outputId": "7ab734c4-0f98-4cb8-f3eb-0346f4c0d608"
      },
      "outputs": [
        {
          "data": {
            "text/html": [
              "<div>\n",
              "<style scoped>\n",
              "    .dataframe tbody tr th:only-of-type {\n",
              "        vertical-align: middle;\n",
              "    }\n",
              "\n",
              "    .dataframe tbody tr th {\n",
              "        vertical-align: top;\n",
              "    }\n",
              "\n",
              "    .dataframe thead th {\n",
              "        text-align: right;\n",
              "    }\n",
              "</style>\n",
              "<table border=\"1\" class=\"dataframe\">\n",
              "  <thead>\n",
              "    <tr style=\"text-align: right;\">\n",
              "      <th></th>\n",
              "      <th>순위</th>\n",
              "      <th>분류</th>\n",
              "      <th>상품명</th>\n",
              "      <th>판매금액</th>\n",
              "    </tr>\n",
              "  </thead>\n",
              "  <tbody>\n",
              "    <tr>\n",
              "      <th>0</th>\n",
              "      <td>1</td>\n",
              "      <td>한국대생</td>\n",
              "      <td>한국대생 요금제</td>\n",
              "      <td>2,000원</td>\n",
              "    </tr>\n",
              "    <tr>\n",
              "      <th>1</th>\n",
              "      <td>2</td>\n",
              "      <td>심야-조조</td>\n",
              "      <td>심야-조조 요금제</td>\n",
              "      <td>5,000원</td>\n",
              "    </tr>\n",
              "    <tr>\n",
              "      <th>2</th>\n",
              "      <td>3</td>\n",
              "      <td>일반인</td>\n",
              "      <td>일반요금제</td>\n",
              "      <td>2,500원</td>\n",
              "    </tr>\n",
              "    <tr>\n",
              "      <th>3</th>\n",
              "      <td>4</td>\n",
              "      <td>한국대생</td>\n",
              "      <td>한국대생 요금제</td>\n",
              "      <td>2,500원</td>\n",
              "    </tr>\n",
              "    <tr>\n",
              "      <th>4</th>\n",
              "      <td>5</td>\n",
              "      <td>일반인</td>\n",
              "      <td>일반요금제</td>\n",
              "      <td>2,000원</td>\n",
              "    </tr>\n",
              "  </tbody>\n",
              "</table>\n",
              "</div>"
            ],
            "text/plain": [
              "   순위     분류        상품명    판매금액\n",
              "0   1   한국대생   한국대생 요금제  2,000원\n",
              "1   2  심야-조조  심야-조조 요금제  5,000원\n",
              "2   3    일반인      일반요금제  2,500원\n",
              "3   4   한국대생   한국대생 요금제  2,500원\n",
              "4   5    일반인      일반요금제  2,000원"
            ]
          },
          "execution_count": 7,
          "metadata": {},
          "output_type": "execute_result"
        }
      ],
      "source": [
        "# item_entry_data 데이터 정보 확인하기\n",
        "item_entry_data.head()"
      ]
    },
    {
      "cell_type": "markdown",
      "id": "1587bb5c",
      "metadata": {
        "id": "1587bb5c"
      },
      "source": [
        "### 3-2 데이터 분석하기\n",
        "\n",
        "1. 필수 문제1 : 월별 매출액 추세(sales_data를 이용합니다.)\n",
        "- 월별 매출액 추세를 집계하고 그 결과를 시각화해봅니다.\n",
        "- 힌트: groupby() 함수를 사용하세요\n"
      ]
    },
    {
      "cell_type": "code",
      "execution_count": null,
      "id": "d7f3c224",
      "metadata": {
        "id": "d7f3c224",
        "outputId": "f642f01a-1a76-4091-cf1a-5d64d693f2f4"
      },
      "outputs": [
        {
          "data": {
            "text/html": [
              "<div>\n",
              "<style scoped>\n",
              "    .dataframe tbody tr th:only-of-type {\n",
              "        vertical-align: middle;\n",
              "    }\n",
              "\n",
              "    .dataframe tbody tr th {\n",
              "        vertical-align: top;\n",
              "    }\n",
              "\n",
              "    .dataframe thead th {\n",
              "        text-align: right;\n",
              "    }\n",
              "</style>\n",
              "<table border=\"1\" class=\"dataframe\">\n",
              "  <thead>\n",
              "    <tr style=\"text-align: right;\">\n",
              "      <th></th>\n",
              "      <th>결제일시</th>\n",
              "      <th>판매위치</th>\n",
              "      <th>상품명</th>\n",
              "      <th>결제방식</th>\n",
              "      <th>비고</th>\n",
              "      <th>판매수량</th>\n",
              "      <th>결제금액</th>\n",
              "      <th>고객</th>\n",
              "      <th>date</th>\n",
              "    </tr>\n",
              "  </thead>\n",
              "  <tbody>\n",
              "    <tr>\n",
              "      <th>0</th>\n",
              "      <td>2022-04-01 19:41</td>\n",
              "      <td>선불기1</td>\n",
              "      <td>치킨카라아케 6pc</td>\n",
              "      <td>신용카드</td>\n",
              "      <td>결제완료</td>\n",
              "      <td>1</td>\n",
              "      <td>4,500</td>\n",
              "      <td>customer275507</td>\n",
              "      <td>2022-04</td>\n",
              "    </tr>\n",
              "    <tr>\n",
              "      <th>1</th>\n",
              "      <td>2022-04-01 19:41</td>\n",
              "      <td>선불기1</td>\n",
              "      <td>짜장라면(계란추가)</td>\n",
              "      <td>신용카드</td>\n",
              "      <td>결제완료</td>\n",
              "      <td>1</td>\n",
              "      <td>5,500</td>\n",
              "      <td>customer275507</td>\n",
              "      <td>2022-04</td>\n",
              "    </tr>\n",
              "    <tr>\n",
              "      <th>2</th>\n",
              "      <td>2022-04-01 19:41</td>\n",
              "      <td>선불기1</td>\n",
              "      <td>라면</td>\n",
              "      <td>신용카드</td>\n",
              "      <td>결제완료</td>\n",
              "      <td>1</td>\n",
              "      <td>4,000</td>\n",
              "      <td>customer275507</td>\n",
              "      <td>2022-04</td>\n",
              "    </tr>\n",
              "    <tr>\n",
              "      <th>3</th>\n",
              "      <td>2022-04-01 19:41</td>\n",
              "      <td>선불기1</td>\n",
              "      <td>비엔나소세지(토핑)</td>\n",
              "      <td>신용카드</td>\n",
              "      <td>결제완료</td>\n",
              "      <td>1</td>\n",
              "      <td>1,000</td>\n",
              "      <td>customer275507</td>\n",
              "      <td>2022-04</td>\n",
              "    </tr>\n",
              "    <tr>\n",
              "      <th>4</th>\n",
              "      <td>2022-04-01 19:41</td>\n",
              "      <td>선불기1</td>\n",
              "      <td>라면(계란/치즈추가)</td>\n",
              "      <td>신용카드</td>\n",
              "      <td>결제완료</td>\n",
              "      <td>1</td>\n",
              "      <td>5,000</td>\n",
              "      <td>customer275507</td>\n",
              "      <td>2022-04</td>\n",
              "    </tr>\n",
              "    <tr>\n",
              "      <th>...</th>\n",
              "      <td>...</td>\n",
              "      <td>...</td>\n",
              "      <td>...</td>\n",
              "      <td>...</td>\n",
              "      <td>...</td>\n",
              "      <td>...</td>\n",
              "      <td>...</td>\n",
              "      <td>...</td>\n",
              "      <td>...</td>\n",
              "    </tr>\n",
              "    <tr>\n",
              "      <th>7100</th>\n",
              "      <td>2021-02-17 14:21</td>\n",
              "      <td>카운터</td>\n",
              "      <td>아메리카노(HOT)</td>\n",
              "      <td>현금</td>\n",
              "      <td>결제취소</td>\n",
              "      <td>-1</td>\n",
              "      <td>-3,500</td>\n",
              "      <td>NaN</td>\n",
              "      <td>2021-02</td>\n",
              "    </tr>\n",
              "    <tr>\n",
              "      <th>7101</th>\n",
              "      <td>2021-02-17 13:51</td>\n",
              "      <td>선불기2</td>\n",
              "      <td>카페모카(HOT)</td>\n",
              "      <td>신용카드</td>\n",
              "      <td>결제완료</td>\n",
              "      <td>1</td>\n",
              "      <td>4,500</td>\n",
              "      <td>NaN</td>\n",
              "      <td>2021-02</td>\n",
              "    </tr>\n",
              "    <tr>\n",
              "      <th>7102</th>\n",
              "      <td>2021-02-17 13:51</td>\n",
              "      <td>선불기2</td>\n",
              "      <td>카페모카(HOT)</td>\n",
              "      <td>신용카드</td>\n",
              "      <td>판매취소</td>\n",
              "      <td>-1</td>\n",
              "      <td>-4,500</td>\n",
              "      <td>NaN</td>\n",
              "      <td>2021-02</td>\n",
              "    </tr>\n",
              "    <tr>\n",
              "      <th>7103</th>\n",
              "      <td>2021-02-17 13:26</td>\n",
              "      <td>카운터</td>\n",
              "      <td>카페라떼(HOT)</td>\n",
              "      <td>신용카드</td>\n",
              "      <td>결제완료</td>\n",
              "      <td>1</td>\n",
              "      <td>4,000</td>\n",
              "      <td>NaN</td>\n",
              "      <td>2021-02</td>\n",
              "    </tr>\n",
              "    <tr>\n",
              "      <th>7104</th>\n",
              "      <td>2021-02-17 13:27</td>\n",
              "      <td>카운터</td>\n",
              "      <td>카페라떼(HOT)</td>\n",
              "      <td>신용카드</td>\n",
              "      <td>판매취소</td>\n",
              "      <td>-1</td>\n",
              "      <td>-4,000</td>\n",
              "      <td>NaN</td>\n",
              "      <td>2021-02</td>\n",
              "    </tr>\n",
              "  </tbody>\n",
              "</table>\n",
              "<p>7105 rows × 9 columns</p>\n",
              "</div>"
            ],
            "text/plain": [
              "                  결제일시  판매위치          상품명  결제방식    비고  판매수량    결제금액  \\\n",
              "0     2022-04-01 19:41  선불기1   치킨카라아케 6pc  신용카드  결제완료     1   4,500   \n",
              "1     2022-04-01 19:41  선불기1   짜장라면(계란추가)  신용카드  결제완료     1   5,500   \n",
              "2     2022-04-01 19:41  선불기1           라면  신용카드  결제완료     1   4,000   \n",
              "3     2022-04-01 19:41  선불기1   비엔나소세지(토핑)  신용카드  결제완료     1   1,000   \n",
              "4     2022-04-01 19:41  선불기1  라면(계란/치즈추가)  신용카드  결제완료     1   5,000   \n",
              "...                ...   ...          ...   ...   ...   ...     ...   \n",
              "7100  2021-02-17 14:21   카운터   아메리카노(HOT)    현금  결제취소    -1  -3,500   \n",
              "7101  2021-02-17 13:51  선불기2    카페모카(HOT)  신용카드  결제완료     1   4,500   \n",
              "7102  2021-02-17 13:51  선불기2    카페모카(HOT)  신용카드  판매취소    -1  -4,500   \n",
              "7103  2021-02-17 13:26   카운터    카페라떼(HOT)  신용카드  결제완료     1   4,000   \n",
              "7104  2021-02-17 13:27   카운터    카페라떼(HOT)  신용카드  판매취소    -1  -4,000   \n",
              "\n",
              "                  고객     date  \n",
              "0     customer275507  2022-04  \n",
              "1     customer275507  2022-04  \n",
              "2     customer275507  2022-04  \n",
              "3     customer275507  2022-04  \n",
              "4     customer275507  2022-04  \n",
              "...              ...      ...  \n",
              "7100             NaN  2021-02  \n",
              "7101             NaN  2021-02  \n",
              "7102             NaN  2021-02  \n",
              "7103             NaN  2021-02  \n",
              "7104             NaN  2021-02  \n",
              "\n",
              "[7105 rows x 9 columns]"
            ]
          },
          "execution_count": 8,
          "metadata": {},
          "output_type": "execute_result"
        }
      ],
      "source": [
        "# 문제 1: 월별 매출액 추세\n",
        "# 활용할 데이터(sales_data)를 temp_var로 정의하기\n",
        "temp_var = sales_data\n",
        "\n",
        "# temp_var의 date열을 만들고, sales_date의 결제일시 중 앞에서 7번째 값까지 할당\n",
        "temp_var['date'] = sales_data['결제일시'].str[:7]\n",
        "temp_var"
      ]
    },
    {
      "cell_type": "code",
      "execution_count": null,
      "id": "ccd7180e",
      "metadata": {
        "id": "ccd7180e"
      },
      "outputs": [],
      "source": [
        "# sales_data의 결제금액에 포함된 쉼표(,) 지우기\n",
        "temp_var['결제금액'] = temp_var['결제금액'].str.replace(',', '')\n",
        "\n",
        "# sales_data의 결제금액을 숫자형태로 바꾸기\n",
        "temp_var['결제금액'] = sales_data['결제금액'].astype('int64')\n",
        "\n",
        "# temp_var의 payment열을 date 기준으로 집계하기\n",
        "payment_data = temp_var.groupby('date').agg({'결제금액':'sum'})"
      ]
    },
    {
      "cell_type": "code",
      "execution_count": null,
      "id": "272cf071",
      "metadata": {
        "id": "272cf071",
        "outputId": "69c2c565-60c7-4cf4-edec-c87349739cb1"
      },
      "outputs": [
        {
          "data": {
            "text/html": [
              "<div>\n",
              "<style scoped>\n",
              "    .dataframe tbody tr th:only-of-type {\n",
              "        vertical-align: middle;\n",
              "    }\n",
              "\n",
              "    .dataframe tbody tr th {\n",
              "        vertical-align: top;\n",
              "    }\n",
              "\n",
              "    .dataframe thead th {\n",
              "        text-align: right;\n",
              "    }\n",
              "</style>\n",
              "<table border=\"1\" class=\"dataframe\">\n",
              "  <thead>\n",
              "    <tr style=\"text-align: right;\">\n",
              "      <th></th>\n",
              "      <th>결제금액</th>\n",
              "    </tr>\n",
              "    <tr>\n",
              "      <th>date</th>\n",
              "      <th></th>\n",
              "    </tr>\n",
              "  </thead>\n",
              "  <tbody>\n",
              "    <tr>\n",
              "      <th>2021-02</th>\n",
              "      <td>7000</td>\n",
              "    </tr>\n",
              "    <tr>\n",
              "      <th>2021-03</th>\n",
              "      <td>2104500</td>\n",
              "    </tr>\n",
              "    <tr>\n",
              "      <th>2021-04</th>\n",
              "      <td>3116600</td>\n",
              "    </tr>\n",
              "    <tr>\n",
              "      <th>2021-05</th>\n",
              "      <td>2537000</td>\n",
              "    </tr>\n",
              "    <tr>\n",
              "      <th>2021-06</th>\n",
              "      <td>3621500</td>\n",
              "    </tr>\n",
              "    <tr>\n",
              "      <th>2021-07</th>\n",
              "      <td>1215000</td>\n",
              "    </tr>\n",
              "    <tr>\n",
              "      <th>2021-08</th>\n",
              "      <td>1229000</td>\n",
              "    </tr>\n",
              "    <tr>\n",
              "      <th>2021-09</th>\n",
              "      <td>1197500</td>\n",
              "    </tr>\n",
              "    <tr>\n",
              "      <th>2021-10</th>\n",
              "      <td>2138500</td>\n",
              "    </tr>\n",
              "    <tr>\n",
              "      <th>2021-11</th>\n",
              "      <td>2748500</td>\n",
              "    </tr>\n",
              "    <tr>\n",
              "      <th>2021-12</th>\n",
              "      <td>3290000</td>\n",
              "    </tr>\n",
              "    <tr>\n",
              "      <th>2022-01</th>\n",
              "      <td>1430500</td>\n",
              "    </tr>\n",
              "    <tr>\n",
              "      <th>2022-02</th>\n",
              "      <td>1181500</td>\n",
              "    </tr>\n",
              "    <tr>\n",
              "      <th>2022-03</th>\n",
              "      <td>1870900</td>\n",
              "    </tr>\n",
              "    <tr>\n",
              "      <th>2022-04</th>\n",
              "      <td>49900</td>\n",
              "    </tr>\n",
              "  </tbody>\n",
              "</table>\n",
              "</div>"
            ],
            "text/plain": [
              "            결제금액\n",
              "date            \n",
              "2021-02     7000\n",
              "2021-03  2104500\n",
              "2021-04  3116600\n",
              "2021-05  2537000\n",
              "2021-06  3621500\n",
              "2021-07  1215000\n",
              "2021-08  1229000\n",
              "2021-09  1197500\n",
              "2021-10  2138500\n",
              "2021-11  2748500\n",
              "2021-12  3290000\n",
              "2022-01  1430500\n",
              "2022-02  1181500\n",
              "2022-03  1870900\n",
              "2022-04    49900"
            ]
          },
          "execution_count": 11,
          "metadata": {},
          "output_type": "execute_result"
        }
      ],
      "source": [
        "payment_data"
      ]
    },
    {
      "cell_type": "code",
      "execution_count": null,
      "id": "efb9abb0",
      "metadata": {
        "id": "efb9abb0",
        "outputId": "00f0e8ed-7e99-4558-ba9a-eba26cadc0d7"
      },
      "outputs": [
        {
          "data": {
            "image/png": "[encoded data removed]",
            "text/plain": [
              "<Figure size 640x480 with 1 Axes>"
            ]
          },
          "metadata": {},
          "output_type": "display_data"
        }
      ],
      "source": [
        "plt.bar(payment_data.index, payment_data['결제금액'].values)\n",
        "plt.title(\"Sales By Months\")\n",
        "plt.xticks(rotation = 90)\n",
        "plt.show()"
      ]
    },
    {
      "cell_type": "markdown",
      "id": "30744954",
      "metadata": {
        "id": "30744954"
      },
      "source": [
        "2. 필수 문제2: 가장 인기 있는 음식/음료(sales_data를 이용합니다.)\n",
        "- 여러 메뉴들(음식,음료)을 판매 개수 순으로 정렬하고 상위 10개를 뽑아 결과를 시각화해봅니다.\n",
        "- 힌트: value_counts() 함수를 사용하세요."
      ]
    },
    {
      "cell_type": "code",
      "execution_count": null,
      "id": "0312de63",
      "metadata": {
        "id": "0312de63",
        "outputId": "adf18f85-a8fe-4914-b15b-98f0a6abc2c7"
      },
      "outputs": [
        {
          "data": {
            "text/html": [
              "<div>\n",
              "<style scoped>\n",
              "    .dataframe tbody tr th:only-of-type {\n",
              "        vertical-align: middle;\n",
              "    }\n",
              "\n",
              "    .dataframe tbody tr th {\n",
              "        vertical-align: top;\n",
              "    }\n",
              "\n",
              "    .dataframe thead th {\n",
              "        text-align: right;\n",
              "    }\n",
              "</style>\n",
              "<table border=\"1\" class=\"dataframe\">\n",
              "  <thead>\n",
              "    <tr style=\"text-align: right;\">\n",
              "      <th></th>\n",
              "      <th>상품명</th>\n",
              "    </tr>\n",
              "  </thead>\n",
              "  <tbody>\n",
              "    <tr>\n",
              "      <th>김치볶음밥</th>\n",
              "      <td>1204</td>\n",
              "    </tr>\n",
              "    <tr>\n",
              "      <th>라면</th>\n",
              "      <td>749</td>\n",
              "    </tr>\n",
              "    <tr>\n",
              "      <th>짜장라면</th>\n",
              "      <td>455</td>\n",
              "    </tr>\n",
              "    <tr>\n",
              "      <th>치즈불고기볶음밥</th>\n",
              "      <td>420</td>\n",
              "    </tr>\n",
              "    <tr>\n",
              "      <th>계란추가</th>\n",
              "      <td>314</td>\n",
              "    </tr>\n",
              "    <tr>\n",
              "      <th>낙지볶음밥</th>\n",
              "      <td>312</td>\n",
              "    </tr>\n",
              "    <tr>\n",
              "      <th>새우볶음밥</th>\n",
              "      <td>309</td>\n",
              "    </tr>\n",
              "    <tr>\n",
              "      <th>아메리카노(ICE)</th>\n",
              "      <td>284</td>\n",
              "    </tr>\n",
              "    <tr>\n",
              "      <th>치즈감자튀김</th>\n",
              "      <td>246</td>\n",
              "    </tr>\n",
              "    <tr>\n",
              "      <th>감자튀김</th>\n",
              "      <td>242</td>\n",
              "    </tr>\n",
              "  </tbody>\n",
              "</table>\n",
              "</div>"
            ],
            "text/plain": [
              "             상품명\n",
              "김치볶음밥       1204\n",
              "라면           749\n",
              "짜장라면         455\n",
              "치즈불고기볶음밥     420\n",
              "계란추가         314\n",
              "낙지볶음밥        312\n",
              "새우볶음밥        309\n",
              "아메리카노(ICE)   284\n",
              "치즈감자튀김       246\n",
              "감자튀김         242"
            ]
          },
          "execution_count": 26,
          "metadata": {},
          "output_type": "execute_result"
        }
      ],
      "source": [
        "# 문제 2: 가장 인기 있는 음식/음료\n",
        "# temp_var의 상품명을 value_counts를 이용해 집계하기\n",
        "# 주의! value_counts로 바로 집계하면 판매취소와 결제취소가 함께 집계됩니다.\n",
        "# 따라서 '판매수량' 칼럼 값이 '-1'인 데이터를 제외하고 집계해야 합니다.\n",
        "# 힌트 코드 : temp_var[temp_var['판매수량']==-1]\n",
        "\n",
        "## 이 부분에 대한 논의가 많던데 정확하게 이해하진 못했다. \n",
        "## 결제 취소건만 제외하면 안되고, 같이 쌍으로 이뤄진 판매값도 제외해야 할텐데, 그건 어떻게 제외하지?\n",
        "\n",
        "temp_var = sales_data\n",
        "temp_var['상품명'][temp_var['판매수량']!=-1].value_counts()\n",
        "\n",
        "# 집계 결과를 데이터프레임으로 변환하고, 상위 10개 선정하기\n",
        "popular_sales = temp_var['상품명'][temp_var['판매수량']!=-1].value_counts()\n",
        "popular_sales.head(10)\n",
        "popular_sales.head(10).to_frame()"
      ]
    },
    {
      "cell_type": "code",
      "execution_count": null,
      "id": "68e345de",
      "metadata": {
        "id": "68e345de",
        "outputId": "9a6bdcdd-e0bf-41c7-e9cb-149795b67784"
      },
      "outputs": [
        {
          "data": {
            "text/html": [
              "<div>\n",
              "<style scoped>\n",
              "    .dataframe tbody tr th:only-of-type {\n",
              "        vertical-align: middle;\n",
              "    }\n",
              "\n",
              "    .dataframe tbody tr th {\n",
              "        vertical-align: top;\n",
              "    }\n",
              "\n",
              "    .dataframe thead th {\n",
              "        text-align: right;\n",
              "    }\n",
              "</style>\n",
              "<table border=\"1\" class=\"dataframe\">\n",
              "  <thead>\n",
              "    <tr style=\"text-align: right;\">\n",
              "      <th></th>\n",
              "      <th>상품명</th>\n",
              "    </tr>\n",
              "  </thead>\n",
              "  <tbody>\n",
              "    <tr>\n",
              "      <th>김치볶음밥</th>\n",
              "      <td>1204</td>\n",
              "    </tr>\n",
              "    <tr>\n",
              "      <th>라면</th>\n",
              "      <td>749</td>\n",
              "    </tr>\n",
              "    <tr>\n",
              "      <th>짜장라면</th>\n",
              "      <td>455</td>\n",
              "    </tr>\n",
              "    <tr>\n",
              "      <th>치즈불고기볶음밥</th>\n",
              "      <td>420</td>\n",
              "    </tr>\n",
              "    <tr>\n",
              "      <th>계란추가</th>\n",
              "      <td>314</td>\n",
              "    </tr>\n",
              "    <tr>\n",
              "      <th>낙지볶음밥</th>\n",
              "      <td>312</td>\n",
              "    </tr>\n",
              "    <tr>\n",
              "      <th>새우볶음밥</th>\n",
              "      <td>309</td>\n",
              "    </tr>\n",
              "    <tr>\n",
              "      <th>아메리카노(ICE)</th>\n",
              "      <td>284</td>\n",
              "    </tr>\n",
              "    <tr>\n",
              "      <th>치즈감자튀김</th>\n",
              "      <td>246</td>\n",
              "    </tr>\n",
              "    <tr>\n",
              "      <th>감자튀김</th>\n",
              "      <td>242</td>\n",
              "    </tr>\n",
              "  </tbody>\n",
              "</table>\n",
              "</div>"
            ],
            "text/plain": [
              "             상품명\n",
              "김치볶음밥       1204\n",
              "라면           749\n",
              "짜장라면         455\n",
              "치즈불고기볶음밥     420\n",
              "계란추가         314\n",
              "낙지볶음밥        312\n",
              "새우볶음밥        309\n",
              "아메리카노(ICE)   284\n",
              "치즈감자튀김       246\n",
              "감자튀김         242"
            ]
          },
          "execution_count": 15,
          "metadata": {},
          "output_type": "execute_result"
        }
      ],
      "source": [
        "items_count = temp_var['상품명'][temp_var['판매수량']!=-1].value_counts()\n",
        "items_count.head(10)\n",
        "items_count.head(10).to_frame()"
      ]
    },
    {
      "cell_type": "code",
      "execution_count": null,
      "id": "038a26e0",
      "metadata": {
        "id": "038a26e0",
        "outputId": "5624555f-a5c2-4d68-a611-c1cd835d9948"
      },
      "outputs": [
        {
          "name": "stdout",
          "output_type": "stream",
          "text": [
            "완료!\n"
          ]
        }
      ],
      "source": [
        "# 한글이 포함된 시각화를 위해 Matplotlib 설정\n",
        "import matplotlib as mpl\n",
        "import matplotlib.pyplot as plt\n",
        "import matplotlib.font_manager as fm\n",
        "\n",
        "fontpath = '/usr/share/fonts/truetype/nanum/NanumBarunGothic.ttf'\n",
        "font = fm.FontProperties(fname=fontpath, size=9)\n",
        "plt.rc('font', family='NanumBarunGothic') \n",
        "mpl.font_manager.findfont(font)\n",
        "print(\"완료!\")"
      ]
    },
    {
      "cell_type": "code",
      "execution_count": null,
      "id": "3d651fab",
      "metadata": {
        "id": "3d651fab",
        "outputId": "b59c18e0-f9d5-42cc-f9e0-c894e9080f9a"
      },
      "outputs": [
        {
          "data": {
            "image/png": "[encoded data removed]",
            "text/plain": [
              "<Figure size 640x480 with 1 Axes>"
            ]
          },
          "metadata": {},
          "output_type": "display_data"
        }
      ],
      "source": [
        "# 집계 결과를 시각화하기\n",
        "highlight = items_count.head(10)\n",
        "plt.pie(highlight, labels=highlight.index, autopct='%1.1f%%')\n",
        "plt.title('Percentage of Popular Sales')\n",
        "plt.show()"
      ]
    },
    {
      "cell_type": "markdown",
      "id": "f198b7f3",
      "metadata": {
        "id": "f198b7f3"
      },
      "source": [
        "- 여러 메뉴들(음식,음료)을 판매 매출(판매 개수 x 결제 금액) 순으로 정렬하고 상위 10개를 뽑아 결과를 시각화해봅니다.\n",
        "- 힌트: value_counts() 함수를 사용하세요."
      ]
    },
    {
      "cell_type": "code",
      "execution_count": null,
      "id": "39b480c6",
      "metadata": {
        "id": "39b480c6"
      },
      "outputs": [],
      "source": [
        "# temp_var의 payment열을 상품명을 기준으로 집계하기\n",
        "#temp_var.groupby('상품명')['결제금액'].sum()\n",
        "\n",
        "# item_payment의 값을 내림차순으로 정렬하고 상위 10개 도출하기\n",
        "\n",
        "temp_var = sales_data\n",
        "temp_var['매출'] = temp_var['결제금액'] * temp_var['판매수량']\n",
        "total_sales = temp_var.groupby('상품명')['매출'].sum()\n",
        "items_payment = total_sales.sort_values(ascending=False).head(10)\n",
        "\n",
        "\n",
        "#temp_var.sort_values(by='결제금액',ascending=False).head(10)"
      ]
    },
    {
      "cell_type": "code",
      "execution_count": null,
      "id": "00d996a3",
      "metadata": {
        "id": "00d996a3",
        "outputId": "761adc5b-a614-4884-8d73-168bf056efc0"
      },
      "outputs": [
        {
          "data": {
            "text/plain": [
              "상품명\n",
              "김치볶음밥         6036900\n",
              "라면            2967000\n",
              "치즈불고기볶음밥      2309100\n",
              "짜장라면          2044500\n",
              "낙지볶음밥         1721700\n",
              "새우볶음밥         1549800\n",
              "치즈감자튀김        1359700\n",
              "아메리카노(ICE)    1180100\n",
              "감자튀김          1083800\n",
              "불닭볶음면          697500\n",
              "Name: 매출, dtype: int64"
            ]
          },
          "execution_count": 20,
          "metadata": {},
          "output_type": "execute_result"
        }
      ],
      "source": [
        "items_payment"
      ]
    },
    {
      "cell_type": "code",
      "execution_count": null,
      "id": "cc630e54",
      "metadata": {
        "id": "cc630e54",
        "outputId": "16ff7ee5-3ec4-4124-f7b6-5becf824c21a"
      },
      "outputs": [
        {
          "data": {
            "image/png": "[encoded data removed]",
            "text/plain": [
              "<Figure size 640x480 with 1 Axes>"
            ]
          },
          "metadata": {},
          "output_type": "display_data"
        }
      ],
      "source": [
        "plt.bar(items_payment.index, items_payment.values)\n",
        "plt.title(\"상위 10개 상품의 매출\")\n",
        "plt.xlabel(\"상품 이름\")\n",
        "plt.ylabel(\"매출\")\n",
        "plt.xticks(rotation = 45)\n",
        "plt.show()"
      ]
    },
    {
      "cell_type": "markdown",
      "id": "2334c8ef",
      "metadata": {
        "id": "2334c8ef"
      },
      "source": [
        "3. 필수 문제3: 가장 많이 팔린 입장권 종류(entry_data를 이용합니다.)\n",
        "- 여러 입장권 종류를 판매 매출(판매 개수 x 금액) 순으로 정렬하고 상위 10개를 뽑아 결과를 시각화해봅니다.\n",
        "- 힌트: value_counts() 함수를 사용하세요."
      ]
    },
    {
      "cell_type": "code",
      "execution_count": null,
      "id": "6f4571cb",
      "metadata": {
        "id": "6f4571cb",
        "outputId": "036735c0-a1c4-48e6-a90d-38a04933b0aa"
      },
      "outputs": [
        {
          "data": {
            "text/plain": [
              "요금제명\n",
              "한국대생 입장권(종일권)      70037000\n",
              "입장권(종일권)           23570500\n",
              "심야-조조무제한(06시까지)    11600000\n",
              "심야-조조무제한            6221000\n",
              "한국대생 무제한 입장권        5207500\n",
              "시간요금제(1시간)          2665500\n",
              "시간요금제(3시간)          2042000\n",
              "무제한 입장권             1568600\n",
              "18시이후 무제한           1330500\n",
              "조조무제한                693000\n",
              "Name: 금액, dtype: int64"
            ]
          },
          "execution_count": 22,
          "metadata": {},
          "output_type": "execute_result"
        }
      ],
      "source": [
        "# 문제 3: 가장 많이 팔린 입장권 종류\n",
        "# 활용할 데이터(entry_data)를 temp_var로 정의하기\n",
        "temp_var = entry_data\n",
        "\n",
        "# temp_var의 금액을 숫자형태로 변환하기\n",
        "temp_var['금액'] = entry_data['금액'].astype('int64')\n",
        "\n",
        "# temp_var의 금액을 요금제명을 기준으로 집계하기\n",
        "ticket_sales = temp_var.groupby('요금제명')['금액'].sum()\n",
        "\n",
        "# tickets의 값을 내림차순으로 정렬하고 상위 10개 도출하기\n",
        "ticket_payment = ticket_sales.sort_values(ascending=False).head(10)\n",
        "ticket_payment"
      ]
    },
    {
      "cell_type": "code",
      "execution_count": null,
      "id": "d7670777",
      "metadata": {
        "id": "d7670777",
        "outputId": "f3dfbd34-55f9-414c-df59-f265219d520b"
      },
      "outputs": [
        {
          "data": {
            "image/png": "[encoded data removed]",
            "text/plain": [
              "<Figure size 640x480 with 1 Axes>"
            ]
          },
          "metadata": {},
          "output_type": "display_data"
        }
      ],
      "source": [
        "# 한글이 포함된 시각화를 위해 Matplotlib 설정\n",
        "import matplotlib as mpl\n",
        "import matplotlib.pyplot as plt\n",
        "import matplotlib.font_manager as fm\n",
        "\n",
        "fontpath = '/usr/share/fonts/truetype/nanum/NanumBarunGothic.ttf'\n",
        "font = fm.FontProperties(fname=fontpath, size=9)\n",
        "plt.rc('font', family='NanumBarunGothic') \n",
        "mpl.font_manager.findfont(font)\n",
        "\n",
        "# 집계 결과 시각화하기\n",
        "plt.bar(ticket_payment.index, ticket_payment.values)\n",
        "plt.title(\"상위 10개 요금제의 매출\")\n",
        "plt.xlabel(\"요금제명\")\n",
        "plt.ylabel(\"매출\")\n",
        "plt.xticks(rotation = 80)\n",
        "plt.show()"
      ]
    },
    {
      "cell_type": "markdown",
      "id": "582bd672",
      "metadata": {
        "id": "582bd672"
      },
      "source": [
        "### 내가 정의한 문제 해결하기  \n",
        "#### 모두카페의 VIP 고객은 누구인가\n",
        "##### 1) 가장 자주 방문한 고객\n",
        "###### 2) 가장 많이 매출을 올려준 고객 "
      ]
    },
    {
      "cell_type": "code",
      "execution_count": null,
      "id": "902b6e21",
      "metadata": {
        "id": "902b6e21",
        "outputId": "8023ff42-74cf-419f-de9a-a5cecdb31e77"
      },
      "outputs": [
        {
          "name": "stdout",
          "output_type": "stream",
          "text": [
            "customer666446 : 168회 방문\n",
            "customer440840 : 150회 방문\n",
            "customer338849 : 142회 방문\n",
            "customer258946 : 138회 방문\n",
            "customer490993 : 101회 방문\n",
            "customer667032 : 101회 방문\n",
            "customer229550 : 98회 방문\n",
            "customer300766 : 90회 방문\n",
            "customer468231 : 69회 방문\n",
            "customer581973 : 67회 방문\n"
          ]
        }
      ],
      "source": [
        "# 가장 자주 방문한 고객 \n",
        "\n",
        "temp_var = entry_data\n",
        "\n",
        "# 고객 이름별 방문 횟수를 세어서 dictionary에 저장\n",
        "visit_counts = {}\n",
        "for customer in temp_var['고객'].unique():\n",
        "    count = temp_var[temp_var['고객'] == customer].shape[0]\n",
        "    visit_counts[customer] = count\n",
        "\n",
        "# 방문 횟수가 많은 순서대로 정렬\n",
        "sorted_customers1 = sorted(visit_counts.items(), key=lambda x: x[1], reverse=True)\n",
        "\n",
        "# 상위 10명의 고객 이름과 방문 횟수 출력\n",
        "for customer, count in sorted_customers1[:10]:\n",
        "    print(f\"{customer} : {count}회 방문\")"
      ]
    },
    {
      "cell_type": "code",
      "execution_count": null,
      "id": "6bec9576",
      "metadata": {
        "id": "6bec9576",
        "outputId": "27183de8-e0bf-4c52-8a5c-60d968867bdb"
      },
      "outputs": [
        {
          "name": "stdout",
          "output_type": "stream",
          "text": [
            "customer667032 : 263500원\n",
            "customer499864 : 151300원\n",
            "customer977070 : 128800원\n",
            "customer859632 : 118500원\n",
            "customer581973 : 112500원\n",
            "customer910882 : 110000원\n",
            "customer917331 : 108500원\n",
            "customer621866 : 106500원\n",
            "customer575860 : 102500원\n",
            "customer244232 : 95500원\n"
          ]
        }
      ],
      "source": [
        "# 가장 많이 매출을 올려준 고객\n",
        "\n",
        "temp_var2 = sales_data\n",
        "\n",
        "# 고객 이름별 매출을 합산해서 dictionary에 저장\n",
        "sales_totals = {}\n",
        "for customer in temp_var2['고객'].unique():\n",
        "    total = temp_var2[temp_var2['고객'] == customer]['결제금액'].sum()\n",
        "    sales_totals[customer] = total\n",
        "\n",
        "# 매출이 많은 순서대로 정렬\n",
        "sorted_customers2 = sorted(sales_totals.items(), key=lambda x: x[1], reverse=True)\n",
        "\n",
        "# 상위 10명의 고객 이름과 매출 출력\n",
        "for customer, total in sorted_customers2[:10]:\n",
        "    print(f\"{customer} : {total}원\")\n"
      ]
    },
    {
      "cell_type": "markdown",
      "id": "fa1ff952",
      "metadata": {
        "id": "fa1ff952"
      },
      "source": [
        "### 회고\n",
        "\n",
        "#### 핵심 문제: 모두카페의 상태는 어떤가?\n",
        "\n",
        "1. 월별 매출액 추세  \n",
        "- 방학 기간(1-2월, 6-8월)에 매출이 낮고, 학기 중에 매출이 높음 (특히 중간, 기말 고사 기간)\n",
        "- 학교 근처에 있는 카페임을 알 수 있음  \n",
        "  \n",
        "2. 가장 인기있는 음식/음료\n",
        "- 김치볶음밥이 제일 인기가 많음.\n",
        "- 카페인데 김치볶음밥, 라면 등이 인기인 것으로 보아 식사를 떼우면서 공부를 같이 할 수 있는 곳의 인기가 많은 곳인가봄.\n",
        "- PC방을 해도 잘 될 것 같네..ㅎㅎ  \n",
        "  \n",
        "3. 가장 많이 팔린 입장권 종류\n",
        "- 한국대생입장권 (종일권)이 제일 많이 팔린 입장권임. \n",
        "- 이를 통해 본 카페는 한국대 근처에 있는 학생 위주의 카페임을 알 수 있음.\n",
        "\n",
        "4. VIP는 누구인가?\n",
        "- 'customer667032', 'customer581973' 이 VIP임.\n",
        "\n",
        "----------------------------------------------------------------\n",
        "\n",
        "#### 개인적인 생각\n",
        "- 일방적으로 강의를 들을 때는 다 이해했다고 생각하고 넘어갔는데 막상 주도적으로 문제를 풀어보려고 하다보니 함수를 사용하는 법부터 전혀 감이 잡히지 않았다. 어떤 함수를 써야하고, 어떤 흐름대로 써야하고, 이 함수에는 어떤 인자를 넣어서 써야하는지 등등.. 멘붕이었다. \n",
        "- 게다가 방대한 양의 여러가지 데이터를 놓고 분석해서 어떤 전략을 도출해내야 하는 부분들도 정말 어려웠다. 회사 다닐 때만해도 엑셀에 데이터를 넣고 보고 분석하는게 익숙했는데, 낯선 툴로 기존에 다루던 양의 데이터보다 훨씬 복잡한 데이터를 다루다보니 막막했었다.\n",
        "- 데이터 분석에 관심이 있어서 아이펠 공부를 시작했는데 과연 할 수 있을까 라는 두려움이 생겼다. \n",
        "- 하지만 지속적으로 반복학습을 하다보면 언제가 통달하게 되는 날이 오겠지?\n",
        "- 기술블로그 작성을 하루 빨리 시작해봐야겠다. "
      ]
    }
  ],
  "metadata": {
    "kernelspec": {
      "display_name": "Python 3 (ipykernel)",
      "language": "python",
      "name": "python3"
    },
    "language_info": {
      "codemirror_mode": {
        "name": "ipython",
        "version": 3
      },
      "file_extension": ".py",
      "mimetype": "text/x-python",
      "name": "python",
      "nbconvert_exporter": "python",
      "pygments_lexer": "ipython3",
      "version": "3.9.7"
    },
    "colab": {
      "provenance": [],
      "include_colab_link": true
    }
  },
  "nbformat": 4,
  "nbformat_minor": 5
}