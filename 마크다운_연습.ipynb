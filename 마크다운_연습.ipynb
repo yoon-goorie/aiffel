{
  "nbformat": 4,
  "nbformat_minor": 0,
  "metadata": {
    "colab": {
      "provenance": [],
      "authorship_tag": "ABX9TyPBIOddU+pIWoddbXC1OqjM",
      "include_colab_link": true
    },
    "kernelspec": {
      "name": "python3",
      "display_name": "Python 3"
    },
    "language_info": {
      "name": "python"
    }
  },
  "cells": [
    {
      "cell_type": "markdown",
      "metadata": {
        "id": "view-in-github",
        "colab_type": "text"
      },
      "source": [
        "<a href=\"https://colab.research.google.com/github/yoon-goorie/aiffel/blob/main/%EB%A7%88%ED%81%AC%EB%8B%A4%EC%9A%B4_%EC%97%B0%EC%8A%B5.ipynb\" target=\"_parent\"><img src=\"https://colab.research.google.com/assets/colab-badge.svg\" alt=\"Open In Colab\"/></a>"
      ]
    },
    {
      "cell_type": "markdown",
      "source": [
        "# 이게 제목인가\n",
        "## 이게 제목인가\n",
        "### 이게 제목인가 \n",
        "줄바꿈은 어떻게 하는가  줄바꿈은 어떻게 하는가\n",
        "- 글머리는 어떻게 하는가 \n",
        "\n",
        "------------------------\n",
        "나눔선은 어떻게 하는가  \n",
        "  들여쓰기는 어떻게 하는가  \n",
        "  [링크첨부는 어떻게 하는가](https://www.notion.so/modulabs/Tip-57b42ba3304a45f68e1869723c9ad2ee)"
      ],
      "metadata": {
        "id": "8ZdSi3sAqm9E"
      }
    },
    {
      "cell_type": "markdown",
      "source": [],
      "metadata": {
        "id": "doQ9vibLq6Ks"
      }
    }
  ]
}